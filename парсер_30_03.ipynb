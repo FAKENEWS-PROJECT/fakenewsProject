{
  "nbformat": 4,
  "nbformat_minor": 0,
  "metadata": {
    "colab": {
      "name": "парсер_30_03.ipynb",
      "provenance": []
    },
    "kernelspec": {
      "name": "python3",
      "display_name": "Python 3"
    },
    "language_info": {
      "name": "python"
    }
  },
  "cells": [
    {
      "cell_type": "code",
      "execution_count": 1,
      "metadata": {
        "id": "ptP5RnRsje4j"
      },
      "outputs": [],
      "source": [
        "from bs4 import BeautifulSoup\n",
        "import requests\n",
        "import json\n",
        "from urllib.parse import urlparse"
      ]
    },
    {
      "cell_type": "code",
      "source": [
        "def action_parser(link):\n",
        "    #link='https://www.foxnews.com/politics/walt-disney-would-be-rolling-over-in-his-grave-over-companys-wokeness-florida-park-goer-says'\n",
        "    req = requests.get(link).text\n",
        "    soup = BeautifulSoup(req, \"lxml\")\n",
        "    head = soup.find('head')\n",
        "    zagolovok = head.find('title').text\n",
        "    textp = soup.find_all('div', attrs={'class': \"article__text\"})\n",
        "    if (len(textp)) == 0:\n",
        "        textp = soup.find_all('span', attrs={'class': 'intro'})\n",
        "    if (len(textp)) == 0:\n",
        "        text = soup.find_all('span', attrs={'class': 'intro'})\n",
        "    if (len(textp)) == 0:\n",
        "        textp = soup.find_all('p')\n",
        "    \n",
        "    # domain = urlparse(link).netloc\n",
        "    # if (int(domain.find(\"www.\")) != -1):\n",
        "    #   domain = domain[4:]\n",
        "   \n",
        "    # url = link.split(\"//\")[-1].split(\"/\")[0].split('?')[0]\n",
        "    # show = \"https://input.payapi.io/v1/api/fraud/domain/age/\" + domain\n",
        "\n",
        "    # r = requests.get(show, verify = False)\n",
        "    # soupp = BeautifulSoup(r.text, \"lxml\")\n",
        "\n",
        "    # if requests.get(link).status_code ==200:\n",
        "\n",
        "    #     age = soupp.find('body').text\n",
        "    #     str = int(age.find(\"Reg\"))\n",
        "    #     end = int(age.find(\"}\"))\n",
        "    #     # print(age[str:(end - 1)])\n",
        "    #     age=age[str:(end - 1)]\n",
        "    #     data = r.text\n",
        "    #     jsonToPython = json.loads(data)\n",
        "    # else:\n",
        "    #   age=np.nan\n",
        "    for j in range(len(textp)):\n",
        "      textp[j]=textp[j].text\n",
        "    textp=''.join(textp)\n",
        "    zagolovok=''.join(zagolovok)\n",
        "    list = [zagolovok, textp]\n",
        "    return textp, zagolovok\n"
      ],
      "metadata": {
        "id": "EReYh4nCkNgb"
      },
      "execution_count": 14,
      "outputs": []
    },
    {
      "cell_type": "code",
      "source": [
        "test=action_parser('https://www.foxnews.com/politics/walt-disney-would-be-rolling-over-in-his-grave-over-companys-wokeness-florida-park-goer-says')\n",
        "test"
      ],
      "metadata": {
        "colab": {
          "base_uri": "https://localhost:8080/"
        },
        "id": "k94ikWDWsOV3",
        "outputId": "2de82e02-3966-4f48-fee9-6d519e63339c"
      },
      "execution_count": 15,
      "outputs": [
        {
          "output_type": "execute_result",
          "data": {
            "text/plain": [
              "('\\n      This material may not be published, broadcast, rewritten,\\n      or redistributed. ©2022 FOX News Network, LLC. All rights reserved.\\n      Quotes displayed in real-time or delayed by at least 15 minutes. Market data provided by Factset. Powered and implemented by FactSet Digital Solutions. Legal Statement. Mutual Fund and ETF data provided by Refinitiv Lipper.\\n    CELEBRATION, Fla. – Floridians provided mixed responses to the newly signed state legislation that opponents dubbed \"Don’t Say Gay.\"Florida Gov. Ron DeSantis signed the Parental Rights in Education bill into law Monday, which prohibits classroom discussion or instruction about sexual oriention and gender identity. The Walt Disney Co. issued a statement opposing the legislation.\"We’ve been going to Disney for a long time, and we are tired of the extreme changes that they seem to think are pleasing everyone,\" Marsha from Winter Garden, Florida, told Fox News. \"When our annual passes expired in February, we did not renew them because of our displeasure with the way Disney has gone overall, not just on the particular issue, but on all their wokeness.\" \\xa0\\n      Marsha speaks to Fox Digital in Celebration, FL.\\n      (Matt Leach/Fox Digital)\"Walt would be rolling over in his grave,\" Marsha added.FLORIDA PARENTAL RIGHTS BILL POPULAR DESPITE DEMOCRATIC ATTEMPTS TO LABEL IT ‘DON’T SAY GAY\\'Critics have said the legislation will hurt LGBTQ children.\\n      FILE PHOTO: Florida Gov. Ron DeSantis speaks during the welcome segment of the Conservative Political Action Conference (CPAC) in Orlando, Florida, U.S. February 26, 2021. REUTERS/Joe Skipper/File Photo\\n      \"DeSantis, to me, sounds like a bully, and bullies have to be stood up to,\" Len, a Florida homeowner, told Fox News.\"Disney should take a stand,\" he continued. \"Worldwide, the LGBT situation is just accepted and embraced. It doesn’t need negativity around it.\"A Politico/\\u200bMorning Consult poll conducted earlier this month showed that 51% of American voters supported banning sexual orientation and gender identity discussions among students in early elementary school grades.\\n      ORLANDO, FLORIDA, UNITED STATES - 2019/07/17: Walt Disney and Mickey Mouse statue inside of the Magic Kingdom theme park . The Cinderella castle can be seen in the background. (Photo by Roberto Machado Noa/LightRocket via Getty Images)\\n      DeSantis has said the legislation fights against \"woke gender ideology.\"CLICK HERE TO GET THE FOX NEWS APP\"It is the parents\\' jobs to teach their children to teach their children\" societal norms,\" Mike, a parent from New Jersey, told Fox News. \"I don\\'t believe that that is a state or federal employee’s job to teach that to our children or to anyone else.\"Marsha, a retired teacher, said: \"That is not the kind of thing that they should be focusing on K through 3.\"These children \"need to be given a chance to develop themselves before they start being taught on what they should be,\" she added. \\xa0Matt Leach is a Fox Digital Originals reporter based in Tampa, FL.Get all the stories you need-to-know from the most powerful name in news delivered first thing every morning to your inboxSubscribedYou\\'ve successfully subscribed to this newsletter!\\n        This material may not be published, broadcast, rewritten, or redistributed. ©2022 FOX News Network, LLC. All rights reserved. Quotes displayed in real-time or delayed by at least 15 minutes. Market data provided by Factset. Powered and implemented by FactSet Digital Solutions. Legal Statement. Mutual Fund and ETF data provided by Refinitiv Lipper.\\n      ',\n",
              " \"Walt Disney would be 'rolling over in his grave,' over company's 'wokeness,' Florida park goer says | Fox News\")"
            ]
          },
          "metadata": {},
          "execution_count": 15
        }
      ]
    }
  ]
}