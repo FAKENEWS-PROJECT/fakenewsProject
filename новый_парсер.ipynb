{
  "nbformat": 4,
  "nbformat_minor": 0,
  "metadata": {
    "colab": {
      "name": "новый_парсер.ipynb",
      "provenance": [],
      "collapsed_sections": []
    },
    "kernelspec": {
      "name": "python3",
      "display_name": "Python 3"
    },
    "language_info": {
      "name": "python"
    }
  },
  "cells": [
    {
      "cell_type": "code",
      "metadata": {
        "colab": {
          "resources": {
            "http://localhost:8080/nbextensions/google.colab/files.js": {
              "data": "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",
              "ok": true,
              "headers": [
                [
                  "content-type",
                  "application/javascript"
                ]
              ],
              "status": 200,
              "status_text": ""
            }
          },
          "base_uri": "https://localhost:8080/",
          "height": 56
        },
        "id": "VfrDOKPHICf_",
        "outputId": "8d913c9f-8894-41a2-b5da-7bc4b0819f11"
      },
      "source": [
        "import pandas as pd\n",
        "from google.colab import files\n",
        "uploaded = files.upload()"
      ],
      "execution_count": 8,
      "outputs": [
        {
          "output_type": "display_data",
          "data": {
            "text/html": [
              "\n",
              "     <input type=\"file\" id=\"files-83cc5abb-03e2-4f2e-a43f-ae63a38a5a85\" name=\"files[]\" multiple disabled\n",
              "        style=\"border:none\" />\n",
              "     <output id=\"result-83cc5abb-03e2-4f2e-a43f-ae63a38a5a85\">\n",
              "      Upload widget is only available when the cell has been executed in the\n",
              "      current browser session. Please rerun this cell to enable.\n",
              "      </output>\n",
              "      <script src=\"/nbextensions/google.colab/files.js\"></script> "
            ],
            "text/plain": [
              "<IPython.core.display.HTML object>"
            ]
          },
          "metadata": {}
        },
        {
          "output_type": "stream",
          "name": "stdout",
          "text": [
            "Saving data_clean_text_analisis.csv to data_clean_text_analisis (1).csv\n"
          ]
        }
      ]
    },
    {
      "cell_type": "code",
      "metadata": {
        "colab": {
          "base_uri": "https://localhost:8080/",
          "height": 1000
        },
        "id": "S721UYCIvF4S",
        "outputId": "61e5e580-095b-4340-94d0-e1c318d679a6"
      },
      "source": [
        "df = pd.read_csv('data_clean_text_analisis (1).csv')\n",
        "df"
      ],
      "execution_count": 11,
      "outputs": [
        {
          "output_type": "execute_result",
          "data": {
            "text/html": [
              "<div>\n",
              "<style scoped>\n",
              "    .dataframe tbody tr th:only-of-type {\n",
              "        vertical-align: middle;\n",
              "    }\n",
              "\n",
              "    .dataframe tbody tr th {\n",
              "        vertical-align: top;\n",
              "    }\n",
              "\n",
              "    .dataframe thead th {\n",
              "        text-align: right;\n",
              "    }\n",
              "</style>\n",
              "<table border=\"1\" class=\"dataframe\">\n",
              "  <thead>\n",
              "    <tr style=\"text-align: right;\">\n",
              "      <th></th>\n",
              "      <th>URLs</th>\n",
              "      <th>Headline</th>\n",
              "      <th>Body</th>\n",
              "      <th>Label</th>\n",
              "      <th>Body_01</th>\n",
              "      <th>Body_02</th>\n",
              "      <th>Number of spell mistakes</th>\n",
              "      <th>Body_03</th>\n",
              "      <th>Body_04</th>\n",
              "      <th>Polarity</th>\n",
              "      <th>Subjectivity</th>\n",
              "    </tr>\n",
              "  </thead>\n",
              "  <tbody>\n",
              "    <tr>\n",
              "      <th>0</th>\n",
              "      <td>http://www.bbc.com/news/world-us-canada-414191...</td>\n",
              "      <td>Four ways Bob Corker skewered Donald Trump</td>\n",
              "      <td>Image copyright Getty Images\\nOn Sunday mornin...</td>\n",
              "      <td>1</td>\n",
              "      <td>image copyright getty imageson sunday morning ...</td>\n",
              "      <td>image copyright getty images sunday morning do...</td>\n",
              "      <td>4</td>\n",
              "      <td>image copyright getty image unday morning dona...</td>\n",
              "      <td>image copyright getty image unday morning dona...</td>\n",
              "      <td>0.457409</td>\n",
              "      <td>0.422146</td>\n",
              "    </tr>\n",
              "    <tr>\n",
              "      <th>1</th>\n",
              "      <td>https://www.reuters.com/article/us-filmfestiva...</td>\n",
              "      <td>Linklater's war veteran comedy speaks to moder...</td>\n",
              "      <td>LONDON (Reuters) - “Last Flag Flying”, a comed...</td>\n",
              "      <td>1</td>\n",
              "      <td>london reuters  last flag flying a comedy dram...</td>\n",
              "      <td>london reuters  last flag flying a comedy dram...</td>\n",
              "      <td>0</td>\n",
              "      <td>london reuter lat flag fly a comedy drama abou...</td>\n",
              "      <td>london reuter lat flag fly comedy drama vietna...</td>\n",
              "      <td>0.474333</td>\n",
              "      <td>0.460599</td>\n",
              "    </tr>\n",
              "    <tr>\n",
              "      <th>2</th>\n",
              "      <td>https://www.nytimes.com/2017/10/09/us/politics...</td>\n",
              "      <td>Trump’s Fight With Corker Jeopardizes His Legi...</td>\n",
              "      <td>The feud broke into public view last week when...</td>\n",
              "      <td>1</td>\n",
              "      <td>the feud broke into public view last week when...</td>\n",
              "      <td>the feud broke into public view last week when...</td>\n",
              "      <td>3</td>\n",
              "      <td>the feud break into public view lat week when ...</td>\n",
              "      <td>feud break public view lat week mr corker ay ...</td>\n",
              "      <td>0.512022</td>\n",
              "      <td>0.408650</td>\n",
              "    </tr>\n",
              "    <tr>\n",
              "      <th>3</th>\n",
              "      <td>https://www.reuters.com/article/us-mexico-oil-...</td>\n",
              "      <td>Egypt's Cheiron wins tie-up with Pemex for Mex...</td>\n",
              "      <td>MEXICO CITY (Reuters) - Egypt’s Cheiron Holdin...</td>\n",
              "      <td>1</td>\n",
              "      <td>mexico city reuters egypt s cheiron holdings l...</td>\n",
              "      <td>mexico city reuters egypt s chevron holdings l...</td>\n",
              "      <td>1</td>\n",
              "      <td>mexico city reuter egyptchevron holding limite...</td>\n",
              "      <td>mexico city reuter egyptchevron holding limite...</td>\n",
              "      <td>0.502063</td>\n",
              "      <td>0.282653</td>\n",
              "    </tr>\n",
              "    <tr>\n",
              "      <th>4</th>\n",
              "      <td>http://beforeitsnews.com/sports/2017/09/jetnat...</td>\n",
              "      <td>JetNation FanDuel League; Week 4</td>\n",
              "      <td>JetNation FanDuel League; Week 4\\n% of readers...</td>\n",
              "      <td>0</td>\n",
              "      <td>jetnation fanduel league week of readers think...</td>\n",
              "      <td>detention fanduel league week of readers think...</td>\n",
              "      <td>3</td>\n",
              "      <td>detention fanduel league week of reader think ...</td>\n",
              "      <td>detention fanduel league week reader think thi...</td>\n",
              "      <td>0.425532</td>\n",
              "      <td>0.337500</td>\n",
              "    </tr>\n",
              "    <tr>\n",
              "      <th>...</th>\n",
              "      <td>...</td>\n",
              "      <td>...</td>\n",
              "      <td>...</td>\n",
              "      <td>...</td>\n",
              "      <td>...</td>\n",
              "      <td>...</td>\n",
              "      <td>...</td>\n",
              "      <td>...</td>\n",
              "      <td>...</td>\n",
              "      <td>...</td>\n",
              "      <td>...</td>\n",
              "    </tr>\n",
              "    <tr>\n",
              "      <th>2371</th>\n",
              "      <td>https://www.activistpost.com/2017/09/false-arr...</td>\n",
              "      <td>35 False Matches and 1 Erroneous Arrest As Pol...</td>\n",
              "      <td>By Nicholas West\\nAll things biometric are swe...</td>\n",
              "      <td>0</td>\n",
              "      <td>by nicholas westall things biometric are sweep...</td>\n",
              "      <td>by nicholas westall things biometric are sweep...</td>\n",
              "      <td>1</td>\n",
              "      <td>by nichola wetall thing biometric be weep acro...</td>\n",
              "      <td>nichola wetall thing biometric weep acro worl...</td>\n",
              "      <td>0.483309</td>\n",
              "      <td>0.308180</td>\n",
              "    </tr>\n",
              "    <tr>\n",
              "      <th>2372</th>\n",
              "      <td>http://beforeitsnews.com/u-s-politics/2017/10/...</td>\n",
              "      <td>CNN and Globalist Exposed - Steve Quayle and A...</td>\n",
              "      <td>Vietnam Is in Great Danger, You Must Publish a...</td>\n",
              "      <td>0</td>\n",
              "      <td>vietnam is in great danger you must publish an...</td>\n",
              "      <td>vietnam is in great danger you must publish an...</td>\n",
              "      <td>0</td>\n",
              "      <td>vietnam be in great dangermut publih and tella...</td>\n",
              "      <td>vietnam great dangermut publih tellarmy govern...</td>\n",
              "      <td>0.936170</td>\n",
              "      <td>0.750000</td>\n",
              "    </tr>\n",
              "    <tr>\n",
              "      <th>2373</th>\n",
              "      <td>http://beforeitsnews.com/sports/2017/09/trends...</td>\n",
              "      <td>Trends to Watch</td>\n",
              "      <td>Trends to Watch\\n% of readers think this story...</td>\n",
              "      <td>0</td>\n",
              "      <td>trends to watch of readers think this story is...</td>\n",
              "      <td>trends to watch of readers think this story is...</td>\n",
              "      <td>8</td>\n",
              "      <td>trend to watch of reader think thi tory be fac...</td>\n",
              "      <td>trend watch reader think thi tory fact addtwo ...</td>\n",
              "      <td>0.630722</td>\n",
              "      <td>0.516919</td>\n",
              "    </tr>\n",
              "    <tr>\n",
              "      <th>2374</th>\n",
              "      <td>http://beforeitsnews.com/u-s-politics/2017/10/...</td>\n",
              "      <td>Trump Jr. Is Soon To Give A 30-Minute Speech F...</td>\n",
              "      <td>Trump Jr. Is Soon To Give A 30-Minute Speech F...</td>\n",
              "      <td>0</td>\n",
              "      <td>trump jr is soon to give a minute speech for  ...</td>\n",
              "      <td>trump jr is soon to give a minute speech for  ...</td>\n",
              "      <td>0</td>\n",
              "      <td>trump jr be oon to give a minute peech for of ...</td>\n",
              "      <td>trump jr oon give minute peech reader think th...</td>\n",
              "      <td>0.483559</td>\n",
              "      <td>0.303030</td>\n",
              "    </tr>\n",
              "    <tr>\n",
              "      <th>2375</th>\n",
              "      <td>http://beforeitsnews.com/u-s-politics/2017/10/...</td>\n",
              "      <td>Vice President Mike Pence Leaves NFL Game Beca...</td>\n",
              "      <td>Vice President Mike Pence Leaves NFL Game Beca...</td>\n",
              "      <td>0</td>\n",
              "      <td>vice president mike pence leaves nfl game beca...</td>\n",
              "      <td>vice president mike pence leaves nfl game beca...</td>\n",
              "      <td>3</td>\n",
              "      <td>vice preident mike pence leave nfl game becaue...</td>\n",
              "      <td>vice preident mike pence leave nfl game becaue...</td>\n",
              "      <td>0.405584</td>\n",
              "      <td>0.296021</td>\n",
              "    </tr>\n",
              "  </tbody>\n",
              "</table>\n",
              "<p>2376 rows × 11 columns</p>\n",
              "</div>"
            ],
            "text/plain": [
              "                                                   URLs  ... Subjectivity\n",
              "0     http://www.bbc.com/news/world-us-canada-414191...  ...     0.422146\n",
              "1     https://www.reuters.com/article/us-filmfestiva...  ...     0.460599\n",
              "2     https://www.nytimes.com/2017/10/09/us/politics...  ...     0.408650\n",
              "3     https://www.reuters.com/article/us-mexico-oil-...  ...     0.282653\n",
              "4     http://beforeitsnews.com/sports/2017/09/jetnat...  ...     0.337500\n",
              "...                                                 ...  ...          ...\n",
              "2371  https://www.activistpost.com/2017/09/false-arr...  ...     0.308180\n",
              "2372  http://beforeitsnews.com/u-s-politics/2017/10/...  ...     0.750000\n",
              "2373  http://beforeitsnews.com/sports/2017/09/trends...  ...     0.516919\n",
              "2374  http://beforeitsnews.com/u-s-politics/2017/10/...  ...     0.303030\n",
              "2375  http://beforeitsnews.com/u-s-politics/2017/10/...  ...     0.296021\n",
              "\n",
              "[2376 rows x 11 columns]"
            ]
          },
          "metadata": {},
          "execution_count": 11
        }
      ]
    },
    {
      "cell_type": "code",
      "metadata": {
        "colab": {
          "base_uri": "https://localhost:8080/"
        },
        "id": "FWOZLLH3qd_e",
        "outputId": "131ec82c-4907-4406-9625-e9f2718dbe38"
      },
      "source": [
        "!pip install extractnet"
      ],
      "execution_count": 1,
      "outputs": [
        {
          "output_type": "stream",
          "name": "stdout",
          "text": [
            "Collecting extractnet\n",
            "  Downloading extractnet-1.0.4-cp37-cp37m-manylinux2010_x86_64.whl (14.2 MB)\n",
            "\u001b[K     |████████████████████████████████| 14.2 MB 5.3 MB/s \n",
            "\u001b[?25hCollecting dateparser==1.0.0\n",
            "  Downloading dateparser-1.0.0-py2.py3-none-any.whl (279 kB)\n",
            "\u001b[K     |████████████████████████████████| 279 kB 44.8 MB/s \n",
            "\u001b[?25hRequirement already satisfied: Cython>=0.21.1 in /usr/local/lib/python3.7/dist-packages (from extractnet) (0.29.24)\n",
            "Collecting sklearn-crfsuite==0.3.6\n",
            "  Downloading sklearn_crfsuite-0.3.6-py2.py3-none-any.whl (12 kB)\n",
            "Collecting courlan==0.2.3\n",
            "  Downloading courlan-0.2.3-py3-none-any.whl (17 kB)\n",
            "Collecting ftfy<5.0.0,>=4.1.0\n",
            "  Downloading ftfy-4.4.3.tar.gz (50 kB)\n",
            "\u001b[K     |████████████████████████████████| 50 kB 6.3 MB/s \n",
            "\u001b[?25hRequirement already satisfied: lxml in /usr/local/lib/python3.7/dist-packages (from extractnet) (4.2.6)\n",
            "Collecting htmldate==0.7.2\n",
            "  Downloading htmldate-0.7.2-py3-none-any.whl (31 kB)\n",
            "Requirement already satisfied: scipy>=0.17.0 in /usr/local/lib/python3.7/dist-packages (from extractnet) (1.4.1)\n",
            "Collecting catboost==0.24.2\n",
            "  Downloading catboost-0.24.2-cp37-none-manylinux1_x86_64.whl (66.0 MB)\n",
            "\u001b[K     |████████████████████████████████| 66.0 MB 93 kB/s \n",
            "\u001b[?25hCollecting beautifulsoup4==4.9.3\n",
            "  Downloading beautifulsoup4-4.9.3-py3-none-any.whl (115 kB)\n",
            "\u001b[K     |████████████████████████████████| 115 kB 59.0 MB/s \n",
            "\u001b[?25hCollecting joblib==0.17.0\n",
            "  Downloading joblib-0.17.0-py3-none-any.whl (301 kB)\n",
            "\u001b[K     |████████████████████████████████| 301 kB 45.2 MB/s \n",
            "\u001b[?25hRequirement already satisfied: numpy>=1.19.0 in /usr/local/lib/python3.7/dist-packages (from extractnet) (1.19.5)\n",
            "Requirement already satisfied: scikit-learn>=0.22.0 in /usr/local/lib/python3.7/dist-packages (from extractnet) (1.0.1)\n",
            "Collecting soupsieve>1.2\n",
            "  Downloading soupsieve-2.3.1-py3-none-any.whl (37 kB)\n",
            "Requirement already satisfied: graphviz in /usr/local/lib/python3.7/dist-packages (from catboost==0.24.2->extractnet) (0.10.1)\n",
            "Requirement already satisfied: matplotlib in /usr/local/lib/python3.7/dist-packages (from catboost==0.24.2->extractnet) (3.2.2)\n",
            "Requirement already satisfied: pandas>=0.24.0 in /usr/local/lib/python3.7/dist-packages (from catboost==0.24.2->extractnet) (1.1.5)\n",
            "Requirement already satisfied: six in /usr/local/lib/python3.7/dist-packages (from catboost==0.24.2->extractnet) (1.15.0)\n",
            "Requirement already satisfied: plotly in /usr/local/lib/python3.7/dist-packages (from catboost==0.24.2->extractnet) (4.4.1)\n",
            "Requirement already satisfied: requests in /usr/local/lib/python3.7/dist-packages (from courlan==0.2.3->extractnet) (2.23.0)\n",
            "Collecting tldextract\n",
            "  Downloading tldextract-3.1.2-py2.py3-none-any.whl (87 kB)\n",
            "\u001b[K     |████████████████████████████████| 87 kB 5.5 MB/s \n",
            "\u001b[?25hRequirement already satisfied: python-dateutil in /usr/local/lib/python3.7/dist-packages (from dateparser==1.0.0->extractnet) (2.8.2)\n",
            "Requirement already satisfied: regex!=2019.02.19 in /usr/local/lib/python3.7/dist-packages (from dateparser==1.0.0->extractnet) (2019.12.20)\n",
            "Requirement already satisfied: pytz in /usr/local/lib/python3.7/dist-packages (from dateparser==1.0.0->extractnet) (2018.9)\n",
            "Requirement already satisfied: tzlocal in /usr/local/lib/python3.7/dist-packages (from dateparser==1.0.0->extractnet) (1.5.1)\n",
            "Collecting lxml\n",
            "  Downloading lxml-4.6.4-cp37-cp37m-manylinux_2_17_x86_64.manylinux2014_x86_64.manylinux_2_24_x86_64.whl (6.3 MB)\n",
            "\u001b[K     |████████████████████████████████| 6.3 MB 30.6 MB/s \n",
            "\u001b[?25hRequirement already satisfied: tabulate in /usr/local/lib/python3.7/dist-packages (from sklearn-crfsuite==0.3.6->extractnet) (0.8.9)\n",
            "Collecting python-crfsuite>=0.8.3\n",
            "  Downloading python_crfsuite-0.9.7-cp37-cp37m-manylinux1_x86_64.whl (743 kB)\n",
            "\u001b[K     |████████████████████████████████| 743 kB 37.4 MB/s \n",
            "\u001b[?25hRequirement already satisfied: tqdm>=2.0 in /usr/local/lib/python3.7/dist-packages (from sklearn-crfsuite==0.3.6->extractnet) (4.62.3)\n",
            "Requirement already satisfied: html5lib in /usr/local/lib/python3.7/dist-packages (from ftfy<5.0.0,>=4.1.0->extractnet) (1.0.1)\n",
            "Requirement already satisfied: wcwidth in /usr/local/lib/python3.7/dist-packages (from ftfy<5.0.0,>=4.1.0->extractnet) (0.2.5)\n",
            "Requirement already satisfied: urllib3!=1.25.0,!=1.25.1,<1.26,>=1.21.1 in /usr/local/lib/python3.7/dist-packages (from requests->courlan==0.2.3->extractnet) (1.24.3)\n",
            "Requirement already satisfied: chardet<4,>=3.0.2 in /usr/local/lib/python3.7/dist-packages (from requests->courlan==0.2.3->extractnet) (3.0.4)\n",
            "Requirement already satisfied: certifi>=2017.4.17 in /usr/local/lib/python3.7/dist-packages (from requests->courlan==0.2.3->extractnet) (2021.10.8)\n",
            "Requirement already satisfied: idna<3,>=2.5 in /usr/local/lib/python3.7/dist-packages (from requests->courlan==0.2.3->extractnet) (2.10)\n",
            "Requirement already satisfied: threadpoolctl>=2.0.0 in /usr/local/lib/python3.7/dist-packages (from scikit-learn>=0.22.0->extractnet) (3.0.0)\n",
            "Requirement already satisfied: webencodings in /usr/local/lib/python3.7/dist-packages (from html5lib->ftfy<5.0.0,>=4.1.0->extractnet) (0.5.1)\n",
            "Requirement already satisfied: kiwisolver>=1.0.1 in /usr/local/lib/python3.7/dist-packages (from matplotlib->catboost==0.24.2->extractnet) (1.3.2)\n",
            "Requirement already satisfied: pyparsing!=2.0.4,!=2.1.2,!=2.1.6,>=2.0.1 in /usr/local/lib/python3.7/dist-packages (from matplotlib->catboost==0.24.2->extractnet) (3.0.6)\n",
            "Requirement already satisfied: cycler>=0.10 in /usr/local/lib/python3.7/dist-packages (from matplotlib->catboost==0.24.2->extractnet) (0.11.0)\n",
            "Requirement already satisfied: retrying>=1.3.3 in /usr/local/lib/python3.7/dist-packages (from plotly->catboost==0.24.2->extractnet) (1.3.3)\n",
            "Requirement already satisfied: filelock>=3.0.8 in /usr/local/lib/python3.7/dist-packages (from tldextract->courlan==0.2.3->extractnet) (3.4.0)\n",
            "Collecting requests-file>=1.4\n",
            "  Downloading requests_file-1.5.1-py2.py3-none-any.whl (3.7 kB)\n",
            "Building wheels for collected packages: ftfy\n",
            "  Building wheel for ftfy (setup.py) ... \u001b[?25l\u001b[?25hdone\n",
            "  Created wheel for ftfy: filename=ftfy-4.4.3-py3-none-any.whl size=41082 sha256=3734e126d4b60b44a7c9eb8cd75989dcdba1d36bf8a5db964ce347687c0ec93e\n",
            "  Stored in directory: /root/.cache/pip/wheels/b0/66/08/c65b9e8a3b674f10739790db0cbbc846afaa20a3f80f0b9e42\n",
            "Successfully built ftfy\n",
            "Installing collected packages: requests-file, tldextract, soupsieve, python-crfsuite, lxml, joblib, sklearn-crfsuite, htmldate, ftfy, dateparser, courlan, catboost, beautifulsoup4, extractnet\n",
            "  Attempting uninstall: lxml\n",
            "    Found existing installation: lxml 4.2.6\n",
            "    Uninstalling lxml-4.2.6:\n",
            "      Successfully uninstalled lxml-4.2.6\n",
            "  Attempting uninstall: joblib\n",
            "    Found existing installation: joblib 1.1.0\n",
            "    Uninstalling joblib-1.1.0:\n",
            "      Successfully uninstalled joblib-1.1.0\n",
            "  Attempting uninstall: beautifulsoup4\n",
            "    Found existing installation: beautifulsoup4 4.6.3\n",
            "    Uninstalling beautifulsoup4-4.6.3:\n",
            "      Successfully uninstalled beautifulsoup4-4.6.3\n",
            "Successfully installed beautifulsoup4-4.9.3 catboost-0.24.2 courlan-0.2.3 dateparser-1.0.0 extractnet-1.0.4 ftfy-4.4.3 htmldate-0.7.2 joblib-0.17.0 lxml-4.6.4 python-crfsuite-0.9.7 requests-file-1.5.1 sklearn-crfsuite-0.3.6 soupsieve-2.3.1 tldextract-3.1.2\n"
          ]
        }
      ]
    },
    {
      "cell_type": "code",
      "metadata": {
        "id": "OFkqy3-aqq1B"
      },
      "source": [
        "import requests\n",
        "from extractnet import Extractor"
      ],
      "execution_count": 2,
      "outputs": []
    },
    {
      "cell_type": "code",
      "metadata": {
        "id": "oW6p0ml2rqhx"
      },
      "source": [
        "def getParsedFeatures(url):\n",
        "\n",
        "    url = requests.get(url).text\n",
        "\n",
        "    features = []\n",
        "    ft = Extractor().extract(url)\n",
        "\n",
        "    features.append(ft['hostname']) if 'hostname' in list(ft.keys()) else features.append('')\n",
        "    features.append(ft['sitename']) if 'sitename' in list(ft.keys()) else features.append('')\n",
        "    features.append(ft['rawDate']) if 'rawDate' in list(ft.keys()) else features.append('')\n",
        "    features.append(ft['title']) if 'title' in list(ft.keys()) else features.append('')\n",
        "    features.append(ft['content']) if 'content' in list(ft.keys()) else features.append('')\n",
        "\n",
        "    return features"
      ],
      "execution_count": 114,
      "outputs": []
    },
    {
      "cell_type": "code",
      "metadata": {
        "id": "InI0TxzxD1xa"
      },
      "source": [
        "def getFeatures(df): # [24,126, 493, 675, 777, 793, 1244, 1327, 1557, 1755, 2045, 2192, 2322] - почему то в цикле от 0 и до конца на этих строках все ломается, \n",
        "                                                                                             # хотя отдельно и в цикле с их индекса и до конца они парсятся\n",
        "    parsed_features = []\n",
        "    features_names = ['hostname', 'sitename', 'rawDate', 'title', 'content']\n",
        "\n",
        "    for i in range(0,len(df['URLs'])):\n",
        "        # print(i, '\\t', df['URLs'][i])\n",
        "\n",
        "    # for url in df['URLs']:\n",
        "        features = getParsedFeatures(df['URLs'][i])\n",
        "        parsed_features.append(features)\n",
        "\n",
        "    df_parsed_features = pd.DataFrame(parsed_features, columns= features_names)\n",
        "    return df_parsed_features"
      ],
      "execution_count": 148,
      "outputs": []
    },
    {
      "cell_type": "code",
      "metadata": {
        "colab": {
          "base_uri": "https://localhost:8080/"
        },
        "id": "O2DKtXw3vNWH",
        "outputId": "e1953de1-54ed-495f-d202-b9b9127551af"
      },
      "source": [
        "df_new_parsed = getFeatures(df)"
      ],
      "execution_count": 149,
      "outputs": [
        {
          "output_type": "stream",
          "name": "stdout",
          "text": [
            "2322 \t http://beforeitsnews.com/u-s-politics/2017/10/folk-choke-tampa-bay-bucs-kicker-misses-three-field-goals-in-thursday-night-debacle-2537409.html\r\n",
            "\n"
          ]
        },
        {
          "output_type": "stream",
          "name": "stderr",
          "text": [
            "/usr/local/lib/python3.7/dist-packages/sklearn/base.py:333: UserWarning: Trying to unpickle estimator PCA from version 0.22 when using version 1.0.1. This might lead to breaking code or invalid results. Use at your own risk. For more info please refer to:\n",
            "https://scikit-learn.org/stable/modules/model_persistence.html#security-maintainability-limitations\n",
            "  UserWarning,\n",
            "/usr/local/lib/python3.7/dist-packages/sklearn/base.py:333: UserWarning: Trying to unpickle estimator TfidfTransformer from version 0.22 when using version 1.0.1. This might lead to breaking code or invalid results. Use at your own risk. For more info please refer to:\n",
            "https://scikit-learn.org/stable/modules/model_persistence.html#security-maintainability-limitations\n",
            "  UserWarning,\n",
            "/usr/local/lib/python3.7/dist-packages/sklearn/base.py:333: UserWarning: Trying to unpickle estimator TfidfVectorizer from version 0.22 when using version 1.0.1. This might lead to breaking code or invalid results. Use at your own risk. For more info please refer to:\n",
            "https://scikit-learn.org/stable/modules/model_persistence.html#security-maintainability-limitations\n",
            "  UserWarning,\n"
          ]
        },
        {
          "output_type": "stream",
          "name": "stdout",
          "text": [
            "2323 \t http://www.bbc.com/sport/tennis/41552075\r\n",
            "\n"
          ]
        },
        {
          "output_type": "stream",
          "name": "stderr",
          "text": [
            "/usr/local/lib/python3.7/dist-packages/sklearn/base.py:333: UserWarning: Trying to unpickle estimator PCA from version 0.22 when using version 1.0.1. This might lead to breaking code or invalid results. Use at your own risk. For more info please refer to:\n",
            "https://scikit-learn.org/stable/modules/model_persistence.html#security-maintainability-limitations\n",
            "  UserWarning,\n",
            "/usr/local/lib/python3.7/dist-packages/sklearn/base.py:333: UserWarning: Trying to unpickle estimator TfidfTransformer from version 0.22 when using version 1.0.1. This might lead to breaking code or invalid results. Use at your own risk. For more info please refer to:\n",
            "https://scikit-learn.org/stable/modules/model_persistence.html#security-maintainability-limitations\n",
            "  UserWarning,\n",
            "/usr/local/lib/python3.7/dist-packages/sklearn/base.py:333: UserWarning: Trying to unpickle estimator TfidfVectorizer from version 0.22 when using version 1.0.1. This might lead to breaking code or invalid results. Use at your own risk. For more info please refer to:\n",
            "https://scikit-learn.org/stable/modules/model_persistence.html#security-maintainability-limitations\n",
            "  UserWarning,\n",
            "no main title found\n"
          ]
        },
        {
          "output_type": "stream",
          "name": "stdout",
          "text": [
            "2324 \t http://www.bbc.com/news/world-asia-41510635\r\n",
            "\n"
          ]
        },
        {
          "output_type": "stream",
          "name": "stderr",
          "text": [
            "/usr/local/lib/python3.7/dist-packages/sklearn/base.py:333: UserWarning: Trying to unpickle estimator PCA from version 0.22 when using version 1.0.1. This might lead to breaking code or invalid results. Use at your own risk. For more info please refer to:\n",
            "https://scikit-learn.org/stable/modules/model_persistence.html#security-maintainability-limitations\n",
            "  UserWarning,\n",
            "/usr/local/lib/python3.7/dist-packages/sklearn/base.py:333: UserWarning: Trying to unpickle estimator TfidfTransformer from version 0.22 when using version 1.0.1. This might lead to breaking code or invalid results. Use at your own risk. For more info please refer to:\n",
            "https://scikit-learn.org/stable/modules/model_persistence.html#security-maintainability-limitations\n",
            "  UserWarning,\n",
            "/usr/local/lib/python3.7/dist-packages/sklearn/base.py:333: UserWarning: Trying to unpickle estimator TfidfVectorizer from version 0.22 when using version 1.0.1. This might lead to breaking code or invalid results. Use at your own risk. For more info please refer to:\n",
            "https://scikit-learn.org/stable/modules/model_persistence.html#security-maintainability-limitations\n",
            "  UserWarning,\n"
          ]
        },
        {
          "output_type": "stream",
          "name": "stdout",
          "text": [
            "2325 \t https://www.reuters.com/article/us-people-harvey-weinstein-politics/weinstein-on-indefinite-leave-as-company-investigates-allegations-idUSKBN1CB2UQ\r\n",
            "\n"
          ]
        },
        {
          "output_type": "stream",
          "name": "stderr",
          "text": [
            "/usr/local/lib/python3.7/dist-packages/sklearn/base.py:333: UserWarning: Trying to unpickle estimator PCA from version 0.22 when using version 1.0.1. This might lead to breaking code or invalid results. Use at your own risk. For more info please refer to:\n",
            "https://scikit-learn.org/stable/modules/model_persistence.html#security-maintainability-limitations\n",
            "  UserWarning,\n",
            "/usr/local/lib/python3.7/dist-packages/sklearn/base.py:333: UserWarning: Trying to unpickle estimator TfidfTransformer from version 0.22 when using version 1.0.1. This might lead to breaking code or invalid results. Use at your own risk. For more info please refer to:\n",
            "https://scikit-learn.org/stable/modules/model_persistence.html#security-maintainability-limitations\n",
            "  UserWarning,\n",
            "/usr/local/lib/python3.7/dist-packages/sklearn/base.py:333: UserWarning: Trying to unpickle estimator TfidfVectorizer from version 0.22 when using version 1.0.1. This might lead to breaking code or invalid results. Use at your own risk. For more info please refer to:\n",
            "https://scikit-learn.org/stable/modules/model_persistence.html#security-maintainability-limitations\n",
            "  UserWarning,\n"
          ]
        },
        {
          "output_type": "stream",
          "name": "stdout",
          "text": [
            "2326 \t https://www.reuters.com/article/us-mideast-crisis-iraq-hawija/hundreds-of-suspected-islamic-state-militants-surrender-in-iraq-source-idUSKBN1CF1A7\r\n",
            "\n"
          ]
        },
        {
          "output_type": "stream",
          "name": "stderr",
          "text": [
            "/usr/local/lib/python3.7/dist-packages/sklearn/base.py:333: UserWarning: Trying to unpickle estimator PCA from version 0.22 when using version 1.0.1. This might lead to breaking code or invalid results. Use at your own risk. For more info please refer to:\n",
            "https://scikit-learn.org/stable/modules/model_persistence.html#security-maintainability-limitations\n",
            "  UserWarning,\n",
            "/usr/local/lib/python3.7/dist-packages/sklearn/base.py:333: UserWarning: Trying to unpickle estimator TfidfTransformer from version 0.22 when using version 1.0.1. This might lead to breaking code or invalid results. Use at your own risk. For more info please refer to:\n",
            "https://scikit-learn.org/stable/modules/model_persistence.html#security-maintainability-limitations\n",
            "  UserWarning,\n",
            "/usr/local/lib/python3.7/dist-packages/sklearn/base.py:333: UserWarning: Trying to unpickle estimator TfidfVectorizer from version 0.22 when using version 1.0.1. This might lead to breaking code or invalid results. Use at your own risk. For more info please refer to:\n",
            "https://scikit-learn.org/stable/modules/model_persistence.html#security-maintainability-limitations\n",
            "  UserWarning,\n"
          ]
        },
        {
          "output_type": "stream",
          "name": "stdout",
          "text": [
            "2327 \t http://www.cnn.com/videos/us/2017/10/09/ivana-trump-cbs-interview-donald-melania-orig.cnn\n",
            "\n"
          ]
        },
        {
          "output_type": "stream",
          "name": "stderr",
          "text": [
            "/usr/local/lib/python3.7/dist-packages/sklearn/base.py:333: UserWarning: Trying to unpickle estimator PCA from version 0.22 when using version 1.0.1. This might lead to breaking code or invalid results. Use at your own risk. For more info please refer to:\n",
            "https://scikit-learn.org/stable/modules/model_persistence.html#security-maintainability-limitations\n",
            "  UserWarning,\n",
            "/usr/local/lib/python3.7/dist-packages/sklearn/base.py:333: UserWarning: Trying to unpickle estimator TfidfTransformer from version 0.22 when using version 1.0.1. This might lead to breaking code or invalid results. Use at your own risk. For more info please refer to:\n",
            "https://scikit-learn.org/stable/modules/model_persistence.html#security-maintainability-limitations\n",
            "  UserWarning,\n",
            "/usr/local/lib/python3.7/dist-packages/sklearn/base.py:333: UserWarning: Trying to unpickle estimator TfidfVectorizer from version 0.22 when using version 1.0.1. This might lead to breaking code or invalid results. Use at your own risk. For more info please refer to:\n",
            "https://scikit-learn.org/stable/modules/model_persistence.html#security-maintainability-limitations\n",
            "  UserWarning,\n"
          ]
        },
        {
          "output_type": "stream",
          "name": "stdout",
          "text": [
            "2328 \t http://beforeitsnews.com/sports/2017/10/2017-fantasy-football-team-defense-rankings-week-5-2701900.html\r\n",
            "\n"
          ]
        },
        {
          "output_type": "stream",
          "name": "stderr",
          "text": [
            "/usr/local/lib/python3.7/dist-packages/sklearn/base.py:333: UserWarning: Trying to unpickle estimator PCA from version 0.22 when using version 1.0.1. This might lead to breaking code or invalid results. Use at your own risk. For more info please refer to:\n",
            "https://scikit-learn.org/stable/modules/model_persistence.html#security-maintainability-limitations\n",
            "  UserWarning,\n",
            "/usr/local/lib/python3.7/dist-packages/sklearn/base.py:333: UserWarning: Trying to unpickle estimator TfidfTransformer from version 0.22 when using version 1.0.1. This might lead to breaking code or invalid results. Use at your own risk. For more info please refer to:\n",
            "https://scikit-learn.org/stable/modules/model_persistence.html#security-maintainability-limitations\n",
            "  UserWarning,\n",
            "/usr/local/lib/python3.7/dist-packages/sklearn/base.py:333: UserWarning: Trying to unpickle estimator TfidfVectorizer from version 0.22 when using version 1.0.1. This might lead to breaking code or invalid results. Use at your own risk. For more info please refer to:\n",
            "https://scikit-learn.org/stable/modules/model_persistence.html#security-maintainability-limitations\n",
            "  UserWarning,\n"
          ]
        },
        {
          "output_type": "stream",
          "name": "stdout",
          "text": [
            "2329 \t https://www.reuters.com/article/us-usa-books-bestsellers/political-thriller-extreme-prey-tops-u-s-fiction-bestseller-list-idUSKCN0XW23F\r\n",
            "\n"
          ]
        },
        {
          "output_type": "stream",
          "name": "stderr",
          "text": [
            "/usr/local/lib/python3.7/dist-packages/sklearn/base.py:333: UserWarning: Trying to unpickle estimator PCA from version 0.22 when using version 1.0.1. This might lead to breaking code or invalid results. Use at your own risk. For more info please refer to:\n",
            "https://scikit-learn.org/stable/modules/model_persistence.html#security-maintainability-limitations\n",
            "  UserWarning,\n",
            "/usr/local/lib/python3.7/dist-packages/sklearn/base.py:333: UserWarning: Trying to unpickle estimator TfidfTransformer from version 0.22 when using version 1.0.1. This might lead to breaking code or invalid results. Use at your own risk. For more info please refer to:\n",
            "https://scikit-learn.org/stable/modules/model_persistence.html#security-maintainability-limitations\n",
            "  UserWarning,\n",
            "/usr/local/lib/python3.7/dist-packages/sklearn/base.py:333: UserWarning: Trying to unpickle estimator TfidfVectorizer from version 0.22 when using version 1.0.1. This might lead to breaking code or invalid results. Use at your own risk. For more info please refer to:\n",
            "https://scikit-learn.org/stable/modules/model_persistence.html#security-maintainability-limitations\n",
            "  UserWarning,\n"
          ]
        },
        {
          "output_type": "stream",
          "name": "stdout",
          "text": [
            "2330 \t https://www.reuters.com/article/us-mideast-crisis-france-iraq/france-offers-to-mediate-between-baghdad-and-kurds-idUSKBN1CA17S\r\n",
            "\n"
          ]
        },
        {
          "output_type": "stream",
          "name": "stderr",
          "text": [
            "/usr/local/lib/python3.7/dist-packages/sklearn/base.py:333: UserWarning: Trying to unpickle estimator PCA from version 0.22 when using version 1.0.1. This might lead to breaking code or invalid results. Use at your own risk. For more info please refer to:\n",
            "https://scikit-learn.org/stable/modules/model_persistence.html#security-maintainability-limitations\n",
            "  UserWarning,\n",
            "/usr/local/lib/python3.7/dist-packages/sklearn/base.py:333: UserWarning: Trying to unpickle estimator TfidfTransformer from version 0.22 when using version 1.0.1. This might lead to breaking code or invalid results. Use at your own risk. For more info please refer to:\n",
            "https://scikit-learn.org/stable/modules/model_persistence.html#security-maintainability-limitations\n",
            "  UserWarning,\n",
            "/usr/local/lib/python3.7/dist-packages/sklearn/base.py:333: UserWarning: Trying to unpickle estimator TfidfVectorizer from version 0.22 when using version 1.0.1. This might lead to breaking code or invalid results. Use at your own risk. For more info please refer to:\n",
            "https://scikit-learn.org/stable/modules/model_persistence.html#security-maintainability-limitations\n",
            "  UserWarning,\n"
          ]
        },
        {
          "output_type": "stream",
          "name": "stdout",
          "text": [
            "2331 \t http://www.bbc.com/sport/boxing/41543539\r\n",
            "\n"
          ]
        },
        {
          "output_type": "stream",
          "name": "stderr",
          "text": [
            "/usr/local/lib/python3.7/dist-packages/sklearn/base.py:333: UserWarning: Trying to unpickle estimator PCA from version 0.22 when using version 1.0.1. This might lead to breaking code or invalid results. Use at your own risk. For more info please refer to:\n",
            "https://scikit-learn.org/stable/modules/model_persistence.html#security-maintainability-limitations\n",
            "  UserWarning,\n",
            "/usr/local/lib/python3.7/dist-packages/sklearn/base.py:333: UserWarning: Trying to unpickle estimator TfidfTransformer from version 0.22 when using version 1.0.1. This might lead to breaking code or invalid results. Use at your own risk. For more info please refer to:\n",
            "https://scikit-learn.org/stable/modules/model_persistence.html#security-maintainability-limitations\n",
            "  UserWarning,\n",
            "/usr/local/lib/python3.7/dist-packages/sklearn/base.py:333: UserWarning: Trying to unpickle estimator TfidfVectorizer from version 0.22 when using version 1.0.1. This might lead to breaking code or invalid results. Use at your own risk. For more info please refer to:\n",
            "https://scikit-learn.org/stable/modules/model_persistence.html#security-maintainability-limitations\n",
            "  UserWarning,\n",
            "no main title found\n"
          ]
        },
        {
          "output_type": "stream",
          "name": "stdout",
          "text": [
            "2332 \t http://beforeitsnews.com/u-s-politics/2017/09/racist-propaganda-librarian-rejects-books-donated-by-melania-2536970.html\r\n",
            "\n"
          ]
        },
        {
          "output_type": "stream",
          "name": "stderr",
          "text": [
            "/usr/local/lib/python3.7/dist-packages/sklearn/base.py:333: UserWarning: Trying to unpickle estimator PCA from version 0.22 when using version 1.0.1. This might lead to breaking code or invalid results. Use at your own risk. For more info please refer to:\n",
            "https://scikit-learn.org/stable/modules/model_persistence.html#security-maintainability-limitations\n",
            "  UserWarning,\n",
            "/usr/local/lib/python3.7/dist-packages/sklearn/base.py:333: UserWarning: Trying to unpickle estimator TfidfTransformer from version 0.22 when using version 1.0.1. This might lead to breaking code or invalid results. Use at your own risk. For more info please refer to:\n",
            "https://scikit-learn.org/stable/modules/model_persistence.html#security-maintainability-limitations\n",
            "  UserWarning,\n",
            "/usr/local/lib/python3.7/dist-packages/sklearn/base.py:333: UserWarning: Trying to unpickle estimator TfidfVectorizer from version 0.22 when using version 1.0.1. This might lead to breaking code or invalid results. Use at your own risk. For more info please refer to:\n",
            "https://scikit-learn.org/stable/modules/model_persistence.html#security-maintainability-limitations\n",
            "  UserWarning,\n"
          ]
        },
        {
          "output_type": "stream",
          "name": "stdout",
          "text": [
            "2333 \t http://beforeitsnews.com/u-s-politics/2017/09/out-in-the-cold-a-f-branco-cartoon-2536858.html\r\n",
            "\n"
          ]
        },
        {
          "output_type": "stream",
          "name": "stderr",
          "text": [
            "/usr/local/lib/python3.7/dist-packages/sklearn/base.py:333: UserWarning: Trying to unpickle estimator PCA from version 0.22 when using version 1.0.1. This might lead to breaking code or invalid results. Use at your own risk. For more info please refer to:\n",
            "https://scikit-learn.org/stable/modules/model_persistence.html#security-maintainability-limitations\n",
            "  UserWarning,\n",
            "/usr/local/lib/python3.7/dist-packages/sklearn/base.py:333: UserWarning: Trying to unpickle estimator TfidfTransformer from version 0.22 when using version 1.0.1. This might lead to breaking code or invalid results. Use at your own risk. For more info please refer to:\n",
            "https://scikit-learn.org/stable/modules/model_persistence.html#security-maintainability-limitations\n",
            "  UserWarning,\n",
            "/usr/local/lib/python3.7/dist-packages/sklearn/base.py:333: UserWarning: Trying to unpickle estimator TfidfVectorizer from version 0.22 when using version 1.0.1. This might lead to breaking code or invalid results. Use at your own risk. For more info please refer to:\n",
            "https://scikit-learn.org/stable/modules/model_persistence.html#security-maintainability-limitations\n",
            "  UserWarning,\n"
          ]
        },
        {
          "output_type": "stream",
          "name": "stdout",
          "text": [
            "2334 \t http://money.cnn.com/2017/10/11/technology/google-home-mini-security-flaw/index.html\r\n",
            "\n"
          ]
        },
        {
          "output_type": "stream",
          "name": "stderr",
          "text": [
            "/usr/local/lib/python3.7/dist-packages/sklearn/base.py:333: UserWarning: Trying to unpickle estimator PCA from version 0.22 when using version 1.0.1. This might lead to breaking code or invalid results. Use at your own risk. For more info please refer to:\n",
            "https://scikit-learn.org/stable/modules/model_persistence.html#security-maintainability-limitations\n",
            "  UserWarning,\n",
            "/usr/local/lib/python3.7/dist-packages/sklearn/base.py:333: UserWarning: Trying to unpickle estimator TfidfTransformer from version 0.22 when using version 1.0.1. This might lead to breaking code or invalid results. Use at your own risk. For more info please refer to:\n",
            "https://scikit-learn.org/stable/modules/model_persistence.html#security-maintainability-limitations\n",
            "  UserWarning,\n",
            "/usr/local/lib/python3.7/dist-packages/sklearn/base.py:333: UserWarning: Trying to unpickle estimator TfidfVectorizer from version 0.22 when using version 1.0.1. This might lead to breaking code or invalid results. Use at your own risk. For more info please refer to:\n",
            "https://scikit-learn.org/stable/modules/model_persistence.html#security-maintainability-limitations\n",
            "  UserWarning,\n"
          ]
        },
        {
          "output_type": "stream",
          "name": "stdout",
          "text": [
            "2335 \t http://dailybuzzlive.com/this-guy-tried-to-scam-someone-via-text-message-the-response-was-epic/\n"
          ]
        },
        {
          "output_type": "stream",
          "name": "stderr",
          "text": [
            "/usr/local/lib/python3.7/dist-packages/sklearn/base.py:333: UserWarning: Trying to unpickle estimator PCA from version 0.22 when using version 1.0.1. This might lead to breaking code or invalid results. Use at your own risk. For more info please refer to:\n",
            "https://scikit-learn.org/stable/modules/model_persistence.html#security-maintainability-limitations\n",
            "  UserWarning,\n",
            "/usr/local/lib/python3.7/dist-packages/sklearn/base.py:333: UserWarning: Trying to unpickle estimator TfidfTransformer from version 0.22 when using version 1.0.1. This might lead to breaking code or invalid results. Use at your own risk. For more info please refer to:\n",
            "https://scikit-learn.org/stable/modules/model_persistence.html#security-maintainability-limitations\n",
            "  UserWarning,\n",
            "/usr/local/lib/python3.7/dist-packages/sklearn/base.py:333: UserWarning: Trying to unpickle estimator TfidfVectorizer from version 0.22 when using version 1.0.1. This might lead to breaking code or invalid results. Use at your own risk. For more info please refer to:\n",
            "https://scikit-learn.org/stable/modules/model_persistence.html#security-maintainability-limitations\n",
            "  UserWarning,\n"
          ]
        },
        {
          "output_type": "stream",
          "name": "stdout",
          "text": [
            "2336 \t http://beforeitsnews.com/sports/2017/09/week-4-rankings-2017-top-15-kickers-2701304.html\n",
            "\n",
            "\n"
          ]
        },
        {
          "output_type": "stream",
          "name": "stderr",
          "text": [
            "/usr/local/lib/python3.7/dist-packages/sklearn/base.py:333: UserWarning: Trying to unpickle estimator PCA from version 0.22 when using version 1.0.1. This might lead to breaking code or invalid results. Use at your own risk. For more info please refer to:\n",
            "https://scikit-learn.org/stable/modules/model_persistence.html#security-maintainability-limitations\n",
            "  UserWarning,\n",
            "/usr/local/lib/python3.7/dist-packages/sklearn/base.py:333: UserWarning: Trying to unpickle estimator TfidfTransformer from version 0.22 when using version 1.0.1. This might lead to breaking code or invalid results. Use at your own risk. For more info please refer to:\n",
            "https://scikit-learn.org/stable/modules/model_persistence.html#security-maintainability-limitations\n",
            "  UserWarning,\n",
            "/usr/local/lib/python3.7/dist-packages/sklearn/base.py:333: UserWarning: Trying to unpickle estimator TfidfVectorizer from version 0.22 when using version 1.0.1. This might lead to breaking code or invalid results. Use at your own risk. For more info please refer to:\n",
            "https://scikit-learn.org/stable/modules/model_persistence.html#security-maintainability-limitations\n",
            "  UserWarning,\n"
          ]
        },
        {
          "output_type": "stream",
          "name": "stdout",
          "text": [
            "2337 \t http://beforeitsnews.com/sports/2017/10/thursday-night-start-em-or-sit-em-week-5-chris-hogan-doug-martin-james-white-more-2701987.html\r\n",
            "\n"
          ]
        },
        {
          "output_type": "stream",
          "name": "stderr",
          "text": [
            "/usr/local/lib/python3.7/dist-packages/sklearn/base.py:333: UserWarning: Trying to unpickle estimator PCA from version 0.22 when using version 1.0.1. This might lead to breaking code or invalid results. Use at your own risk. For more info please refer to:\n",
            "https://scikit-learn.org/stable/modules/model_persistence.html#security-maintainability-limitations\n",
            "  UserWarning,\n",
            "/usr/local/lib/python3.7/dist-packages/sklearn/base.py:333: UserWarning: Trying to unpickle estimator TfidfTransformer from version 0.22 when using version 1.0.1. This might lead to breaking code or invalid results. Use at your own risk. For more info please refer to:\n",
            "https://scikit-learn.org/stable/modules/model_persistence.html#security-maintainability-limitations\n",
            "  UserWarning,\n",
            "/usr/local/lib/python3.7/dist-packages/sklearn/base.py:333: UserWarning: Trying to unpickle estimator TfidfVectorizer from version 0.22 when using version 1.0.1. This might lead to breaking code or invalid results. Use at your own risk. For more info please refer to:\n",
            "https://scikit-learn.org/stable/modules/model_persistence.html#security-maintainability-limitations\n",
            "  UserWarning,\n"
          ]
        },
        {
          "output_type": "stream",
          "name": "stdout",
          "text": [
            "2338 \t http://beforeitsnews.com/sports/2017/09/ravens-vs-steelers-wednesday-3-2701320.html\r\n",
            "\n"
          ]
        },
        {
          "output_type": "stream",
          "name": "stderr",
          "text": [
            "/usr/local/lib/python3.7/dist-packages/sklearn/base.py:333: UserWarning: Trying to unpickle estimator PCA from version 0.22 when using version 1.0.1. This might lead to breaking code or invalid results. Use at your own risk. For more info please refer to:\n",
            "https://scikit-learn.org/stable/modules/model_persistence.html#security-maintainability-limitations\n",
            "  UserWarning,\n",
            "/usr/local/lib/python3.7/dist-packages/sklearn/base.py:333: UserWarning: Trying to unpickle estimator TfidfTransformer from version 0.22 when using version 1.0.1. This might lead to breaking code or invalid results. Use at your own risk. For more info please refer to:\n",
            "https://scikit-learn.org/stable/modules/model_persistence.html#security-maintainability-limitations\n",
            "  UserWarning,\n",
            "/usr/local/lib/python3.7/dist-packages/sklearn/base.py:333: UserWarning: Trying to unpickle estimator TfidfVectorizer from version 0.22 when using version 1.0.1. This might lead to breaking code or invalid results. Use at your own risk. For more info please refer to:\n",
            "https://scikit-learn.org/stable/modules/model_persistence.html#security-maintainability-limitations\n",
            "  UserWarning,\n"
          ]
        },
        {
          "output_type": "stream",
          "name": "stdout",
          "text": [
            "2339 \t http://beforeitsnews.com/u-s-politics/2017/10/youtube-censors-search-results-on-las-vegas-shooting-rampage-2537495.html\r\n",
            "\n"
          ]
        },
        {
          "output_type": "stream",
          "name": "stderr",
          "text": [
            "/usr/local/lib/python3.7/dist-packages/sklearn/base.py:333: UserWarning: Trying to unpickle estimator PCA from version 0.22 when using version 1.0.1. This might lead to breaking code or invalid results. Use at your own risk. For more info please refer to:\n",
            "https://scikit-learn.org/stable/modules/model_persistence.html#security-maintainability-limitations\n",
            "  UserWarning,\n",
            "/usr/local/lib/python3.7/dist-packages/sklearn/base.py:333: UserWarning: Trying to unpickle estimator TfidfTransformer from version 0.22 when using version 1.0.1. This might lead to breaking code or invalid results. Use at your own risk. For more info please refer to:\n",
            "https://scikit-learn.org/stable/modules/model_persistence.html#security-maintainability-limitations\n",
            "  UserWarning,\n",
            "/usr/local/lib/python3.7/dist-packages/sklearn/base.py:333: UserWarning: Trying to unpickle estimator TfidfVectorizer from version 0.22 when using version 1.0.1. This might lead to breaking code or invalid results. Use at your own risk. For more info please refer to:\n",
            "https://scikit-learn.org/stable/modules/model_persistence.html#security-maintainability-limitations\n",
            "  UserWarning,\n"
          ]
        },
        {
          "output_type": "stream",
          "name": "stdout",
          "text": [
            "2340 \t https://www.reuters.com/article/us-oympics-doping-vancouver/olympics-only-one-athlete-positive-in-vancouver-games-re-tests-ioc-idUSKBN1CE1QL\r\n",
            "\n"
          ]
        },
        {
          "output_type": "stream",
          "name": "stderr",
          "text": [
            "/usr/local/lib/python3.7/dist-packages/sklearn/base.py:333: UserWarning: Trying to unpickle estimator PCA from version 0.22 when using version 1.0.1. This might lead to breaking code or invalid results. Use at your own risk. For more info please refer to:\n",
            "https://scikit-learn.org/stable/modules/model_persistence.html#security-maintainability-limitations\n",
            "  UserWarning,\n",
            "/usr/local/lib/python3.7/dist-packages/sklearn/base.py:333: UserWarning: Trying to unpickle estimator TfidfTransformer from version 0.22 when using version 1.0.1. This might lead to breaking code or invalid results. Use at your own risk. For more info please refer to:\n",
            "https://scikit-learn.org/stable/modules/model_persistence.html#security-maintainability-limitations\n",
            "  UserWarning,\n",
            "/usr/local/lib/python3.7/dist-packages/sklearn/base.py:333: UserWarning: Trying to unpickle estimator TfidfVectorizer from version 0.22 when using version 1.0.1. This might lead to breaking code or invalid results. Use at your own risk. For more info please refer to:\n",
            "https://scikit-learn.org/stable/modules/model_persistence.html#security-maintainability-limitations\n",
            "  UserWarning,\n"
          ]
        },
        {
          "output_type": "stream",
          "name": "stdout",
          "text": [
            "2341 \t https://www.reuters.com/article/us-kenya-election-law/kenya-parliament-passes-controversial-election-law-amendment-idUSKBN1CG0WZ\r\n",
            "\n"
          ]
        },
        {
          "output_type": "stream",
          "name": "stderr",
          "text": [
            "/usr/local/lib/python3.7/dist-packages/sklearn/base.py:333: UserWarning: Trying to unpickle estimator PCA from version 0.22 when using version 1.0.1. This might lead to breaking code or invalid results. Use at your own risk. For more info please refer to:\n",
            "https://scikit-learn.org/stable/modules/model_persistence.html#security-maintainability-limitations\n",
            "  UserWarning,\n",
            "/usr/local/lib/python3.7/dist-packages/sklearn/base.py:333: UserWarning: Trying to unpickle estimator TfidfTransformer from version 0.22 when using version 1.0.1. This might lead to breaking code or invalid results. Use at your own risk. For more info please refer to:\n",
            "https://scikit-learn.org/stable/modules/model_persistence.html#security-maintainability-limitations\n",
            "  UserWarning,\n",
            "/usr/local/lib/python3.7/dist-packages/sklearn/base.py:333: UserWarning: Trying to unpickle estimator TfidfVectorizer from version 0.22 when using version 1.0.1. This might lead to breaking code or invalid results. Use at your own risk. For more info please refer to:\n",
            "https://scikit-learn.org/stable/modules/model_persistence.html#security-maintainability-limitations\n",
            "  UserWarning,\n"
          ]
        },
        {
          "output_type": "stream",
          "name": "stdout",
          "text": [
            "2342 \t https://www.activistpost.com/2017/10/questions-dr-ron-paul.html\r\n",
            "\n"
          ]
        },
        {
          "output_type": "stream",
          "name": "stderr",
          "text": [
            "/usr/local/lib/python3.7/dist-packages/sklearn/base.py:333: UserWarning: Trying to unpickle estimator PCA from version 0.22 when using version 1.0.1. This might lead to breaking code or invalid results. Use at your own risk. For more info please refer to:\n",
            "https://scikit-learn.org/stable/modules/model_persistence.html#security-maintainability-limitations\n",
            "  UserWarning,\n",
            "/usr/local/lib/python3.7/dist-packages/sklearn/base.py:333: UserWarning: Trying to unpickle estimator TfidfTransformer from version 0.22 when using version 1.0.1. This might lead to breaking code or invalid results. Use at your own risk. For more info please refer to:\n",
            "https://scikit-learn.org/stable/modules/model_persistence.html#security-maintainability-limitations\n",
            "  UserWarning,\n",
            "/usr/local/lib/python3.7/dist-packages/sklearn/base.py:333: UserWarning: Trying to unpickle estimator TfidfVectorizer from version 0.22 when using version 1.0.1. This might lead to breaking code or invalid results. Use at your own risk. For more info please refer to:\n",
            "https://scikit-learn.org/stable/modules/model_persistence.html#security-maintainability-limitations\n",
            "  UserWarning,\n"
          ]
        },
        {
          "output_type": "stream",
          "name": "stdout",
          "text": [
            "2343 \t https://www.reuters.com/article/us-mexico-telecom/mexican-telecom-regulator-asks-america-movil-to-modify-separation-plan-idUSKBN1CA1JB\r\n",
            "\n"
          ]
        },
        {
          "output_type": "stream",
          "name": "stderr",
          "text": [
            "/usr/local/lib/python3.7/dist-packages/sklearn/base.py:333: UserWarning: Trying to unpickle estimator PCA from version 0.22 when using version 1.0.1. This might lead to breaking code or invalid results. Use at your own risk. For more info please refer to:\n",
            "https://scikit-learn.org/stable/modules/model_persistence.html#security-maintainability-limitations\n",
            "  UserWarning,\n",
            "/usr/local/lib/python3.7/dist-packages/sklearn/base.py:333: UserWarning: Trying to unpickle estimator TfidfTransformer from version 0.22 when using version 1.0.1. This might lead to breaking code or invalid results. Use at your own risk. For more info please refer to:\n",
            "https://scikit-learn.org/stable/modules/model_persistence.html#security-maintainability-limitations\n",
            "  UserWarning,\n",
            "/usr/local/lib/python3.7/dist-packages/sklearn/base.py:333: UserWarning: Trying to unpickle estimator TfidfVectorizer from version 0.22 when using version 1.0.1. This might lead to breaking code or invalid results. Use at your own risk. For more info please refer to:\n",
            "https://scikit-learn.org/stable/modules/model_persistence.html#security-maintainability-limitations\n",
            "  UserWarning,\n"
          ]
        },
        {
          "output_type": "stream",
          "name": "stdout",
          "text": [
            "2344 \t https://www.reuters.com/article/us-mideast-crisis-syria-ceasefire/ceasefire-deal-sealed-for-rebel-pocket-near-damascus-idUSKBN1CH1FC\r\n",
            "\n"
          ]
        },
        {
          "output_type": "stream",
          "name": "stderr",
          "text": [
            "/usr/local/lib/python3.7/dist-packages/sklearn/base.py:333: UserWarning: Trying to unpickle estimator PCA from version 0.22 when using version 1.0.1. This might lead to breaking code or invalid results. Use at your own risk. For more info please refer to:\n",
            "https://scikit-learn.org/stable/modules/model_persistence.html#security-maintainability-limitations\n",
            "  UserWarning,\n",
            "/usr/local/lib/python3.7/dist-packages/sklearn/base.py:333: UserWarning: Trying to unpickle estimator TfidfTransformer from version 0.22 when using version 1.0.1. This might lead to breaking code or invalid results. Use at your own risk. For more info please refer to:\n",
            "https://scikit-learn.org/stable/modules/model_persistence.html#security-maintainability-limitations\n",
            "  UserWarning,\n",
            "/usr/local/lib/python3.7/dist-packages/sklearn/base.py:333: UserWarning: Trying to unpickle estimator TfidfVectorizer from version 0.22 when using version 1.0.1. This might lead to breaking code or invalid results. Use at your own risk. For more info please refer to:\n",
            "https://scikit-learn.org/stable/modules/model_persistence.html#security-maintainability-limitations\n",
            "  UserWarning,\n"
          ]
        },
        {
          "output_type": "stream",
          "name": "stdout",
          "text": [
            "2345 \t https://www.reuters.com/article/us-japan-election-koike/tokyo-governor-koike-no-need-for-big-change-in-monetary-policy-idUSKBN1CB1K2\r\n",
            "\n"
          ]
        },
        {
          "output_type": "stream",
          "name": "stderr",
          "text": [
            "/usr/local/lib/python3.7/dist-packages/sklearn/base.py:333: UserWarning: Trying to unpickle estimator PCA from version 0.22 when using version 1.0.1. This might lead to breaking code or invalid results. Use at your own risk. For more info please refer to:\n",
            "https://scikit-learn.org/stable/modules/model_persistence.html#security-maintainability-limitations\n",
            "  UserWarning,\n",
            "/usr/local/lib/python3.7/dist-packages/sklearn/base.py:333: UserWarning: Trying to unpickle estimator TfidfTransformer from version 0.22 when using version 1.0.1. This might lead to breaking code or invalid results. Use at your own risk. For more info please refer to:\n",
            "https://scikit-learn.org/stable/modules/model_persistence.html#security-maintainability-limitations\n",
            "  UserWarning,\n",
            "/usr/local/lib/python3.7/dist-packages/sklearn/base.py:333: UserWarning: Trying to unpickle estimator TfidfVectorizer from version 0.22 when using version 1.0.1. This might lead to breaking code or invalid results. Use at your own risk. For more info please refer to:\n",
            "https://scikit-learn.org/stable/modules/model_persistence.html#security-maintainability-limitations\n",
            "  UserWarning,\n"
          ]
        },
        {
          "output_type": "stream",
          "name": "stdout",
          "text": [
            "2346 \t https://www.reuters.com/article/us-india-economy-analysis/fiscal-test-as-indias-smaller-firms-struggle-modi-faces-stimulus-dilemma-idUSKBN1CE1DU\r\n",
            "\n"
          ]
        },
        {
          "output_type": "stream",
          "name": "stderr",
          "text": [
            "/usr/local/lib/python3.7/dist-packages/sklearn/base.py:333: UserWarning: Trying to unpickle estimator PCA from version 0.22 when using version 1.0.1. This might lead to breaking code or invalid results. Use at your own risk. For more info please refer to:\n",
            "https://scikit-learn.org/stable/modules/model_persistence.html#security-maintainability-limitations\n",
            "  UserWarning,\n",
            "/usr/local/lib/python3.7/dist-packages/sklearn/base.py:333: UserWarning: Trying to unpickle estimator TfidfTransformer from version 0.22 when using version 1.0.1. This might lead to breaking code or invalid results. Use at your own risk. For more info please refer to:\n",
            "https://scikit-learn.org/stable/modules/model_persistence.html#security-maintainability-limitations\n",
            "  UserWarning,\n",
            "/usr/local/lib/python3.7/dist-packages/sklearn/base.py:333: UserWarning: Trying to unpickle estimator TfidfVectorizer from version 0.22 when using version 1.0.1. This might lead to breaking code or invalid results. Use at your own risk. For more info please refer to:\n",
            "https://scikit-learn.org/stable/modules/model_persistence.html#security-maintainability-limitations\n",
            "  UserWarning,\n"
          ]
        },
        {
          "output_type": "stream",
          "name": "stdout",
          "text": [
            "2347 \t http://beforeitsnews.com/opinion-conservative/2017/10/las-vegas-attacker-tried-to-blow-up-massive-aviation-fuel-tanks-3327569.html\n"
          ]
        },
        {
          "output_type": "stream",
          "name": "stderr",
          "text": [
            "/usr/local/lib/python3.7/dist-packages/sklearn/base.py:333: UserWarning: Trying to unpickle estimator PCA from version 0.22 when using version 1.0.1. This might lead to breaking code or invalid results. Use at your own risk. For more info please refer to:\n",
            "https://scikit-learn.org/stable/modules/model_persistence.html#security-maintainability-limitations\n",
            "  UserWarning,\n",
            "/usr/local/lib/python3.7/dist-packages/sklearn/base.py:333: UserWarning: Trying to unpickle estimator TfidfTransformer from version 0.22 when using version 1.0.1. This might lead to breaking code or invalid results. Use at your own risk. For more info please refer to:\n",
            "https://scikit-learn.org/stable/modules/model_persistence.html#security-maintainability-limitations\n",
            "  UserWarning,\n",
            "/usr/local/lib/python3.7/dist-packages/sklearn/base.py:333: UserWarning: Trying to unpickle estimator TfidfVectorizer from version 0.22 when using version 1.0.1. This might lead to breaking code or invalid results. Use at your own risk. For more info please refer to:\n",
            "https://scikit-learn.org/stable/modules/model_persistence.html#security-maintainability-limitations\n",
            "  UserWarning,\n"
          ]
        },
        {
          "output_type": "stream",
          "name": "stdout",
          "text": [
            "2348 \t http://www.cnn.com/2017/09/30/us/california-earthquake-preparation/index.html\n"
          ]
        },
        {
          "output_type": "stream",
          "name": "stderr",
          "text": [
            "/usr/local/lib/python3.7/dist-packages/sklearn/base.py:333: UserWarning: Trying to unpickle estimator PCA from version 0.22 when using version 1.0.1. This might lead to breaking code or invalid results. Use at your own risk. For more info please refer to:\n",
            "https://scikit-learn.org/stable/modules/model_persistence.html#security-maintainability-limitations\n",
            "  UserWarning,\n",
            "/usr/local/lib/python3.7/dist-packages/sklearn/base.py:333: UserWarning: Trying to unpickle estimator TfidfTransformer from version 0.22 when using version 1.0.1. This might lead to breaking code or invalid results. Use at your own risk. For more info please refer to:\n",
            "https://scikit-learn.org/stable/modules/model_persistence.html#security-maintainability-limitations\n",
            "  UserWarning,\n",
            "/usr/local/lib/python3.7/dist-packages/sklearn/base.py:333: UserWarning: Trying to unpickle estimator TfidfVectorizer from version 0.22 when using version 1.0.1. This might lead to breaking code or invalid results. Use at your own risk. For more info please refer to:\n",
            "https://scikit-learn.org/stable/modules/model_persistence.html#security-maintainability-limitations\n",
            "  UserWarning,\n"
          ]
        },
        {
          "output_type": "stream",
          "name": "stdout",
          "text": [
            "2349 \t http://beforeitsnews.com/sports/2017/09/jets-vs-jaguars-week-4-preview-2701551.html\r\n",
            "\n"
          ]
        },
        {
          "output_type": "stream",
          "name": "stderr",
          "text": [
            "/usr/local/lib/python3.7/dist-packages/sklearn/base.py:333: UserWarning: Trying to unpickle estimator PCA from version 0.22 when using version 1.0.1. This might lead to breaking code or invalid results. Use at your own risk. For more info please refer to:\n",
            "https://scikit-learn.org/stable/modules/model_persistence.html#security-maintainability-limitations\n",
            "  UserWarning,\n",
            "/usr/local/lib/python3.7/dist-packages/sklearn/base.py:333: UserWarning: Trying to unpickle estimator TfidfTransformer from version 0.22 when using version 1.0.1. This might lead to breaking code or invalid results. Use at your own risk. For more info please refer to:\n",
            "https://scikit-learn.org/stable/modules/model_persistence.html#security-maintainability-limitations\n",
            "  UserWarning,\n",
            "/usr/local/lib/python3.7/dist-packages/sklearn/base.py:333: UserWarning: Trying to unpickle estimator TfidfVectorizer from version 0.22 when using version 1.0.1. This might lead to breaking code or invalid results. Use at your own risk. For more info please refer to:\n",
            "https://scikit-learn.org/stable/modules/model_persistence.html#security-maintainability-limitations\n",
            "  UserWarning,\n"
          ]
        },
        {
          "output_type": "stream",
          "name": "stdout",
          "text": [
            "2350 \t http://beforeitsnews.com/u-s-politics/2017/10/active-shooter-reported-near-las-vegas-casino-2537122.html\r\n",
            "\n"
          ]
        },
        {
          "output_type": "stream",
          "name": "stderr",
          "text": [
            "/usr/local/lib/python3.7/dist-packages/sklearn/base.py:333: UserWarning: Trying to unpickle estimator PCA from version 0.22 when using version 1.0.1. This might lead to breaking code or invalid results. Use at your own risk. For more info please refer to:\n",
            "https://scikit-learn.org/stable/modules/model_persistence.html#security-maintainability-limitations\n",
            "  UserWarning,\n",
            "/usr/local/lib/python3.7/dist-packages/sklearn/base.py:333: UserWarning: Trying to unpickle estimator TfidfTransformer from version 0.22 when using version 1.0.1. This might lead to breaking code or invalid results. Use at your own risk. For more info please refer to:\n",
            "https://scikit-learn.org/stable/modules/model_persistence.html#security-maintainability-limitations\n",
            "  UserWarning,\n",
            "/usr/local/lib/python3.7/dist-packages/sklearn/base.py:333: UserWarning: Trying to unpickle estimator TfidfVectorizer from version 0.22 when using version 1.0.1. This might lead to breaking code or invalid results. Use at your own risk. For more info please refer to:\n",
            "https://scikit-learn.org/stable/modules/model_persistence.html#security-maintainability-limitations\n",
            "  UserWarning,\n"
          ]
        },
        {
          "output_type": "stream",
          "name": "stdout",
          "text": [
            "2351 \t http://beforeitsnews.com/u-s-politics/2017/10/highly-ranked-oklahoma-sooners-suffer-crushing-loss-to-iowa-state-2537525.html\r\n",
            "\n"
          ]
        },
        {
          "output_type": "stream",
          "name": "stderr",
          "text": [
            "/usr/local/lib/python3.7/dist-packages/sklearn/base.py:333: UserWarning: Trying to unpickle estimator PCA from version 0.22 when using version 1.0.1. This might lead to breaking code or invalid results. Use at your own risk. For more info please refer to:\n",
            "https://scikit-learn.org/stable/modules/model_persistence.html#security-maintainability-limitations\n",
            "  UserWarning,\n",
            "/usr/local/lib/python3.7/dist-packages/sklearn/base.py:333: UserWarning: Trying to unpickle estimator TfidfTransformer from version 0.22 when using version 1.0.1. This might lead to breaking code or invalid results. Use at your own risk. For more info please refer to:\n",
            "https://scikit-learn.org/stable/modules/model_persistence.html#security-maintainability-limitations\n",
            "  UserWarning,\n",
            "/usr/local/lib/python3.7/dist-packages/sklearn/base.py:333: UserWarning: Trying to unpickle estimator TfidfVectorizer from version 0.22 when using version 1.0.1. This might lead to breaking code or invalid results. Use at your own risk. For more info please refer to:\n",
            "https://scikit-learn.org/stable/modules/model_persistence.html#security-maintainability-limitations\n",
            "  UserWarning,\n"
          ]
        },
        {
          "output_type": "stream",
          "name": "stdout",
          "text": [
            "2352 \t http://beforeitsnews.com/entertainment/2017/09/living-on-bitcoin-for-a-week-2670508.html\n",
            "\n",
            "\n"
          ]
        },
        {
          "output_type": "stream",
          "name": "stderr",
          "text": [
            "/usr/local/lib/python3.7/dist-packages/sklearn/base.py:333: UserWarning: Trying to unpickle estimator PCA from version 0.22 when using version 1.0.1. This might lead to breaking code or invalid results. Use at your own risk. For more info please refer to:\n",
            "https://scikit-learn.org/stable/modules/model_persistence.html#security-maintainability-limitations\n",
            "  UserWarning,\n",
            "/usr/local/lib/python3.7/dist-packages/sklearn/base.py:333: UserWarning: Trying to unpickle estimator TfidfTransformer from version 0.22 when using version 1.0.1. This might lead to breaking code or invalid results. Use at your own risk. For more info please refer to:\n",
            "https://scikit-learn.org/stable/modules/model_persistence.html#security-maintainability-limitations\n",
            "  UserWarning,\n",
            "/usr/local/lib/python3.7/dist-packages/sklearn/base.py:333: UserWarning: Trying to unpickle estimator TfidfVectorizer from version 0.22 when using version 1.0.1. This might lead to breaking code or invalid results. Use at your own risk. For more info please refer to:\n",
            "https://scikit-learn.org/stable/modules/model_persistence.html#security-maintainability-limitations\n",
            "  UserWarning,\n"
          ]
        },
        {
          "output_type": "stream",
          "name": "stdout",
          "text": [
            "2353 \t http://www.cnn.com/2017/10/10/politics/bob-corker-fight-republican-agenda/index.html\n",
            "\n"
          ]
        },
        {
          "output_type": "stream",
          "name": "stderr",
          "text": [
            "/usr/local/lib/python3.7/dist-packages/sklearn/base.py:333: UserWarning: Trying to unpickle estimator PCA from version 0.22 when using version 1.0.1. This might lead to breaking code or invalid results. Use at your own risk. For more info please refer to:\n",
            "https://scikit-learn.org/stable/modules/model_persistence.html#security-maintainability-limitations\n",
            "  UserWarning,\n",
            "/usr/local/lib/python3.7/dist-packages/sklearn/base.py:333: UserWarning: Trying to unpickle estimator TfidfTransformer from version 0.22 when using version 1.0.1. This might lead to breaking code or invalid results. Use at your own risk. For more info please refer to:\n",
            "https://scikit-learn.org/stable/modules/model_persistence.html#security-maintainability-limitations\n",
            "  UserWarning,\n",
            "/usr/local/lib/python3.7/dist-packages/sklearn/base.py:333: UserWarning: Trying to unpickle estimator TfidfVectorizer from version 0.22 when using version 1.0.1. This might lead to breaking code or invalid results. Use at your own risk. For more info please refer to:\n",
            "https://scikit-learn.org/stable/modules/model_persistence.html#security-maintainability-limitations\n",
            "  UserWarning,\n"
          ]
        },
        {
          "output_type": "stream",
          "name": "stdout",
          "text": [
            "2354 \t http://www.bbc.com/sport/golf/41545634\r\n",
            "\n"
          ]
        },
        {
          "output_type": "stream",
          "name": "stderr",
          "text": [
            "/usr/local/lib/python3.7/dist-packages/sklearn/base.py:333: UserWarning: Trying to unpickle estimator PCA from version 0.22 when using version 1.0.1. This might lead to breaking code or invalid results. Use at your own risk. For more info please refer to:\n",
            "https://scikit-learn.org/stable/modules/model_persistence.html#security-maintainability-limitations\n",
            "  UserWarning,\n",
            "/usr/local/lib/python3.7/dist-packages/sklearn/base.py:333: UserWarning: Trying to unpickle estimator TfidfTransformer from version 0.22 when using version 1.0.1. This might lead to breaking code or invalid results. Use at your own risk. For more info please refer to:\n",
            "https://scikit-learn.org/stable/modules/model_persistence.html#security-maintainability-limitations\n",
            "  UserWarning,\n",
            "/usr/local/lib/python3.7/dist-packages/sklearn/base.py:333: UserWarning: Trying to unpickle estimator TfidfVectorizer from version 0.22 when using version 1.0.1. This might lead to breaking code or invalid results. Use at your own risk. For more info please refer to:\n",
            "https://scikit-learn.org/stable/modules/model_persistence.html#security-maintainability-limitations\n",
            "  UserWarning,\n",
            "no main title found\n"
          ]
        },
        {
          "output_type": "stream",
          "name": "stdout",
          "text": [
            "2355 \t http://beforeitsnews.com/u-s-politics/2017/10/jimmy-kimmel-the-new-official-spokesman-for-dumb-liberal-ideas-2537235.html\r\n",
            "\n"
          ]
        },
        {
          "output_type": "stream",
          "name": "stderr",
          "text": [
            "/usr/local/lib/python3.7/dist-packages/sklearn/base.py:333: UserWarning: Trying to unpickle estimator PCA from version 0.22 when using version 1.0.1. This might lead to breaking code or invalid results. Use at your own risk. For more info please refer to:\n",
            "https://scikit-learn.org/stable/modules/model_persistence.html#security-maintainability-limitations\n",
            "  UserWarning,\n",
            "/usr/local/lib/python3.7/dist-packages/sklearn/base.py:333: UserWarning: Trying to unpickle estimator TfidfTransformer from version 0.22 when using version 1.0.1. This might lead to breaking code or invalid results. Use at your own risk. For more info please refer to:\n",
            "https://scikit-learn.org/stable/modules/model_persistence.html#security-maintainability-limitations\n",
            "  UserWarning,\n",
            "/usr/local/lib/python3.7/dist-packages/sklearn/base.py:333: UserWarning: Trying to unpickle estimator TfidfVectorizer from version 0.22 when using version 1.0.1. This might lead to breaking code or invalid results. Use at your own risk. For more info please refer to:\n",
            "https://scikit-learn.org/stable/modules/model_persistence.html#security-maintainability-limitations\n",
            "  UserWarning,\n"
          ]
        },
        {
          "output_type": "stream",
          "name": "stdout",
          "text": [
            "2356 \t http://www.bbc.com/culture/story/20171004-film-review-does-blade-runner-2049-top-the-original\n"
          ]
        },
        {
          "output_type": "stream",
          "name": "stderr",
          "text": [
            "/usr/local/lib/python3.7/dist-packages/sklearn/base.py:333: UserWarning: Trying to unpickle estimator PCA from version 0.22 when using version 1.0.1. This might lead to breaking code or invalid results. Use at your own risk. For more info please refer to:\n",
            "https://scikit-learn.org/stable/modules/model_persistence.html#security-maintainability-limitations\n",
            "  UserWarning,\n",
            "/usr/local/lib/python3.7/dist-packages/sklearn/base.py:333: UserWarning: Trying to unpickle estimator TfidfTransformer from version 0.22 when using version 1.0.1. This might lead to breaking code or invalid results. Use at your own risk. For more info please refer to:\n",
            "https://scikit-learn.org/stable/modules/model_persistence.html#security-maintainability-limitations\n",
            "  UserWarning,\n",
            "/usr/local/lib/python3.7/dist-packages/sklearn/base.py:333: UserWarning: Trying to unpickle estimator TfidfVectorizer from version 0.22 when using version 1.0.1. This might lead to breaking code or invalid results. Use at your own risk. For more info please refer to:\n",
            "https://scikit-learn.org/stable/modules/model_persistence.html#security-maintainability-limitations\n",
            "  UserWarning,\n"
          ]
        },
        {
          "output_type": "stream",
          "name": "stdout",
          "text": [
            "2357 \t http://beforeitsnews.com/sports/2017/10/103-trs-pnc-park-era-bucs-win-a-couple-lose-a-couple-playoff-games-roberto-pops-finales-game-stories-2701793.html\r\n",
            "\n"
          ]
        },
        {
          "output_type": "stream",
          "name": "stderr",
          "text": [
            "/usr/local/lib/python3.7/dist-packages/sklearn/base.py:333: UserWarning: Trying to unpickle estimator PCA from version 0.22 when using version 1.0.1. This might lead to breaking code or invalid results. Use at your own risk. For more info please refer to:\n",
            "https://scikit-learn.org/stable/modules/model_persistence.html#security-maintainability-limitations\n",
            "  UserWarning,\n",
            "/usr/local/lib/python3.7/dist-packages/sklearn/base.py:333: UserWarning: Trying to unpickle estimator TfidfTransformer from version 0.22 when using version 1.0.1. This might lead to breaking code or invalid results. Use at your own risk. For more info please refer to:\n",
            "https://scikit-learn.org/stable/modules/model_persistence.html#security-maintainability-limitations\n",
            "  UserWarning,\n",
            "/usr/local/lib/python3.7/dist-packages/sklearn/base.py:333: UserWarning: Trying to unpickle estimator TfidfVectorizer from version 0.22 when using version 1.0.1. This might lead to breaking code or invalid results. Use at your own risk. For more info please refer to:\n",
            "https://scikit-learn.org/stable/modules/model_persistence.html#security-maintainability-limitations\n",
            "  UserWarning,\n"
          ]
        },
        {
          "output_type": "stream",
          "name": "stdout",
          "text": [
            "2358 \t http://www.bbc.com/sport/tennis/41564480\r\n",
            "\n"
          ]
        },
        {
          "output_type": "stream",
          "name": "stderr",
          "text": [
            "/usr/local/lib/python3.7/dist-packages/sklearn/base.py:333: UserWarning: Trying to unpickle estimator PCA from version 0.22 when using version 1.0.1. This might lead to breaking code or invalid results. Use at your own risk. For more info please refer to:\n",
            "https://scikit-learn.org/stable/modules/model_persistence.html#security-maintainability-limitations\n",
            "  UserWarning,\n",
            "/usr/local/lib/python3.7/dist-packages/sklearn/base.py:333: UserWarning: Trying to unpickle estimator TfidfTransformer from version 0.22 when using version 1.0.1. This might lead to breaking code or invalid results. Use at your own risk. For more info please refer to:\n",
            "https://scikit-learn.org/stable/modules/model_persistence.html#security-maintainability-limitations\n",
            "  UserWarning,\n",
            "/usr/local/lib/python3.7/dist-packages/sklearn/base.py:333: UserWarning: Trying to unpickle estimator TfidfVectorizer from version 0.22 when using version 1.0.1. This might lead to breaking code or invalid results. Use at your own risk. For more info please refer to:\n",
            "https://scikit-learn.org/stable/modules/model_persistence.html#security-maintainability-limitations\n",
            "  UserWarning,\n",
            "no main title found\n"
          ]
        },
        {
          "output_type": "stream",
          "name": "stdout",
          "text": [
            "2359 \t http://beforeitsnews.com/u-s-politics/2017/09/trump-pushes-for-no-kneeling-rule-in-nfl-2536758.html\r\n",
            "\n"
          ]
        },
        {
          "output_type": "stream",
          "name": "stderr",
          "text": [
            "/usr/local/lib/python3.7/dist-packages/sklearn/base.py:333: UserWarning: Trying to unpickle estimator PCA from version 0.22 when using version 1.0.1. This might lead to breaking code or invalid results. Use at your own risk. For more info please refer to:\n",
            "https://scikit-learn.org/stable/modules/model_persistence.html#security-maintainability-limitations\n",
            "  UserWarning,\n",
            "/usr/local/lib/python3.7/dist-packages/sklearn/base.py:333: UserWarning: Trying to unpickle estimator TfidfTransformer from version 0.22 when using version 1.0.1. This might lead to breaking code or invalid results. Use at your own risk. For more info please refer to:\n",
            "https://scikit-learn.org/stable/modules/model_persistence.html#security-maintainability-limitations\n",
            "  UserWarning,\n",
            "/usr/local/lib/python3.7/dist-packages/sklearn/base.py:333: UserWarning: Trying to unpickle estimator TfidfVectorizer from version 0.22 when using version 1.0.1. This might lead to breaking code or invalid results. Use at your own risk. For more info please refer to:\n",
            "https://scikit-learn.org/stable/modules/model_persistence.html#security-maintainability-limitations\n",
            "  UserWarning,\n"
          ]
        },
        {
          "output_type": "stream",
          "name": "stdout",
          "text": [
            "2360 \t http://beforeitsnews.com/alternative/2017/10/was-the-vegas-massacre-foreshadowed-in-the-illuminati-card-game-3559276.html\n"
          ]
        },
        {
          "output_type": "stream",
          "name": "stderr",
          "text": [
            "/usr/local/lib/python3.7/dist-packages/sklearn/base.py:333: UserWarning: Trying to unpickle estimator PCA from version 0.22 when using version 1.0.1. This might lead to breaking code or invalid results. Use at your own risk. For more info please refer to:\n",
            "https://scikit-learn.org/stable/modules/model_persistence.html#security-maintainability-limitations\n",
            "  UserWarning,\n",
            "/usr/local/lib/python3.7/dist-packages/sklearn/base.py:333: UserWarning: Trying to unpickle estimator TfidfTransformer from version 0.22 when using version 1.0.1. This might lead to breaking code or invalid results. Use at your own risk. For more info please refer to:\n",
            "https://scikit-learn.org/stable/modules/model_persistence.html#security-maintainability-limitations\n",
            "  UserWarning,\n",
            "/usr/local/lib/python3.7/dist-packages/sklearn/base.py:333: UserWarning: Trying to unpickle estimator TfidfVectorizer from version 0.22 when using version 1.0.1. This might lead to breaking code or invalid results. Use at your own risk. For more info please refer to:\n",
            "https://scikit-learn.org/stable/modules/model_persistence.html#security-maintainability-limitations\n",
            "  UserWarning,\n"
          ]
        },
        {
          "output_type": "stream",
          "name": "stdout",
          "text": [
            "2361 \t https://www.reuters.com/innovative-universities-europe-2017/compare?univ=1\n",
            "\n"
          ]
        },
        {
          "output_type": "stream",
          "name": "stderr",
          "text": [
            "/usr/local/lib/python3.7/dist-packages/sklearn/base.py:333: UserWarning: Trying to unpickle estimator PCA from version 0.22 when using version 1.0.1. This might lead to breaking code or invalid results. Use at your own risk. For more info please refer to:\n",
            "https://scikit-learn.org/stable/modules/model_persistence.html#security-maintainability-limitations\n",
            "  UserWarning,\n",
            "/usr/local/lib/python3.7/dist-packages/sklearn/base.py:333: UserWarning: Trying to unpickle estimator TfidfTransformer from version 0.22 when using version 1.0.1. This might lead to breaking code or invalid results. Use at your own risk. For more info please refer to:\n",
            "https://scikit-learn.org/stable/modules/model_persistence.html#security-maintainability-limitations\n",
            "  UserWarning,\n",
            "/usr/local/lib/python3.7/dist-packages/sklearn/base.py:333: UserWarning: Trying to unpickle estimator TfidfVectorizer from version 0.22 when using version 1.0.1. This might lead to breaking code or invalid results. Use at your own risk. For more info please refer to:\n",
            "https://scikit-learn.org/stable/modules/model_persistence.html#security-maintainability-limitations\n",
            "  UserWarning,\n"
          ]
        },
        {
          "output_type": "stream",
          "name": "stdout",
          "text": [
            "2362 \t https://www.reuters.com/article/us-chevronsouth-africa-m-a-glencore/glencore-pips-sinopec-to-buy-chevrons-south-african-assets-idUSKBN1CB139\r\n",
            "\n"
          ]
        },
        {
          "output_type": "stream",
          "name": "stderr",
          "text": [
            "/usr/local/lib/python3.7/dist-packages/sklearn/base.py:333: UserWarning: Trying to unpickle estimator PCA from version 0.22 when using version 1.0.1. This might lead to breaking code or invalid results. Use at your own risk. For more info please refer to:\n",
            "https://scikit-learn.org/stable/modules/model_persistence.html#security-maintainability-limitations\n",
            "  UserWarning,\n",
            "/usr/local/lib/python3.7/dist-packages/sklearn/base.py:333: UserWarning: Trying to unpickle estimator TfidfTransformer from version 0.22 when using version 1.0.1. This might lead to breaking code or invalid results. Use at your own risk. For more info please refer to:\n",
            "https://scikit-learn.org/stable/modules/model_persistence.html#security-maintainability-limitations\n",
            "  UserWarning,\n",
            "/usr/local/lib/python3.7/dist-packages/sklearn/base.py:333: UserWarning: Trying to unpickle estimator TfidfVectorizer from version 0.22 when using version 1.0.1. This might lead to breaking code or invalid results. Use at your own risk. For more info please refer to:\n",
            "https://scikit-learn.org/stable/modules/model_persistence.html#security-maintainability-limitations\n",
            "  UserWarning,\n"
          ]
        },
        {
          "output_type": "stream",
          "name": "stdout",
          "text": [
            "2363 \t http://www.bbc.com/news/world-europe-41594224\n",
            "\n"
          ]
        },
        {
          "output_type": "stream",
          "name": "stderr",
          "text": [
            "/usr/local/lib/python3.7/dist-packages/sklearn/base.py:333: UserWarning: Trying to unpickle estimator PCA from version 0.22 when using version 1.0.1. This might lead to breaking code or invalid results. Use at your own risk. For more info please refer to:\n",
            "https://scikit-learn.org/stable/modules/model_persistence.html#security-maintainability-limitations\n",
            "  UserWarning,\n",
            "/usr/local/lib/python3.7/dist-packages/sklearn/base.py:333: UserWarning: Trying to unpickle estimator TfidfTransformer from version 0.22 when using version 1.0.1. This might lead to breaking code or invalid results. Use at your own risk. For more info please refer to:\n",
            "https://scikit-learn.org/stable/modules/model_persistence.html#security-maintainability-limitations\n",
            "  UserWarning,\n",
            "/usr/local/lib/python3.7/dist-packages/sklearn/base.py:333: UserWarning: Trying to unpickle estimator TfidfVectorizer from version 0.22 when using version 1.0.1. This might lead to breaking code or invalid results. Use at your own risk. For more info please refer to:\n",
            "https://scikit-learn.org/stable/modules/model_persistence.html#security-maintainability-limitations\n",
            "  UserWarning,\n"
          ]
        },
        {
          "output_type": "stream",
          "name": "stdout",
          "text": [
            "2364 \t https://www.nytimes.com/2017/10/12/arts/music/margo-price-all-american-made.html?rref=collection%2Fsectioncollection%2Farts\r\n",
            "\n"
          ]
        },
        {
          "output_type": "stream",
          "name": "stderr",
          "text": [
            "/usr/local/lib/python3.7/dist-packages/sklearn/base.py:333: UserWarning: Trying to unpickle estimator PCA from version 0.22 when using version 1.0.1. This might lead to breaking code or invalid results. Use at your own risk. For more info please refer to:\n",
            "https://scikit-learn.org/stable/modules/model_persistence.html#security-maintainability-limitations\n",
            "  UserWarning,\n",
            "/usr/local/lib/python3.7/dist-packages/sklearn/base.py:333: UserWarning: Trying to unpickle estimator TfidfTransformer from version 0.22 when using version 1.0.1. This might lead to breaking code or invalid results. Use at your own risk. For more info please refer to:\n",
            "https://scikit-learn.org/stable/modules/model_persistence.html#security-maintainability-limitations\n",
            "  UserWarning,\n",
            "/usr/local/lib/python3.7/dist-packages/sklearn/base.py:333: UserWarning: Trying to unpickle estimator TfidfVectorizer from version 0.22 when using version 1.0.1. This might lead to breaking code or invalid results. Use at your own risk. For more info please refer to:\n",
            "https://scikit-learn.org/stable/modules/model_persistence.html#security-maintainability-limitations\n",
            "  UserWarning,\n"
          ]
        },
        {
          "output_type": "stream",
          "name": "stdout",
          "text": [
            "2365 \t http://beforeitsnews.com/sports/2017/09/saturday-two-to-go-jamo-v-max-scherzer-lineup-notes-2701579.html\r\n",
            "\n"
          ]
        },
        {
          "output_type": "stream",
          "name": "stderr",
          "text": [
            "/usr/local/lib/python3.7/dist-packages/sklearn/base.py:333: UserWarning: Trying to unpickle estimator PCA from version 0.22 when using version 1.0.1. This might lead to breaking code or invalid results. Use at your own risk. For more info please refer to:\n",
            "https://scikit-learn.org/stable/modules/model_persistence.html#security-maintainability-limitations\n",
            "  UserWarning,\n",
            "/usr/local/lib/python3.7/dist-packages/sklearn/base.py:333: UserWarning: Trying to unpickle estimator TfidfTransformer from version 0.22 when using version 1.0.1. This might lead to breaking code or invalid results. Use at your own risk. For more info please refer to:\n",
            "https://scikit-learn.org/stable/modules/model_persistence.html#security-maintainability-limitations\n",
            "  UserWarning,\n",
            "/usr/local/lib/python3.7/dist-packages/sklearn/base.py:333: UserWarning: Trying to unpickle estimator TfidfVectorizer from version 0.22 when using version 1.0.1. This might lead to breaking code or invalid results. Use at your own risk. For more info please refer to:\n",
            "https://scikit-learn.org/stable/modules/model_persistence.html#security-maintainability-limitations\n",
            "  UserWarning,\n"
          ]
        },
        {
          "output_type": "stream",
          "name": "stdout",
          "text": [
            "2366 \t http://beforeitsnews.com/sports/2017/10/matchup-bulls-v-mud-hens-2-2702099.html\n",
            "\n",
            "\n"
          ]
        },
        {
          "output_type": "stream",
          "name": "stderr",
          "text": [
            "/usr/local/lib/python3.7/dist-packages/sklearn/base.py:333: UserWarning: Trying to unpickle estimator PCA from version 0.22 when using version 1.0.1. This might lead to breaking code or invalid results. Use at your own risk. For more info please refer to:\n",
            "https://scikit-learn.org/stable/modules/model_persistence.html#security-maintainability-limitations\n",
            "  UserWarning,\n",
            "/usr/local/lib/python3.7/dist-packages/sklearn/base.py:333: UserWarning: Trying to unpickle estimator TfidfTransformer from version 0.22 when using version 1.0.1. This might lead to breaking code or invalid results. Use at your own risk. For more info please refer to:\n",
            "https://scikit-learn.org/stable/modules/model_persistence.html#security-maintainability-limitations\n",
            "  UserWarning,\n",
            "/usr/local/lib/python3.7/dist-packages/sklearn/base.py:333: UserWarning: Trying to unpickle estimator TfidfVectorizer from version 0.22 when using version 1.0.1. This might lead to breaking code or invalid results. Use at your own risk. For more info please refer to:\n",
            "https://scikit-learn.org/stable/modules/model_persistence.html#security-maintainability-limitations\n",
            "  UserWarning,\n"
          ]
        },
        {
          "output_type": "stream",
          "name": "stdout",
          "text": [
            "2367 \t https://www.activistpost.com/2017/10/smart-meters-create-honeypot-personal-information-exploit.html\r\n",
            "\n"
          ]
        },
        {
          "output_type": "stream",
          "name": "stderr",
          "text": [
            "/usr/local/lib/python3.7/dist-packages/sklearn/base.py:333: UserWarning: Trying to unpickle estimator PCA from version 0.22 when using version 1.0.1. This might lead to breaking code or invalid results. Use at your own risk. For more info please refer to:\n",
            "https://scikit-learn.org/stable/modules/model_persistence.html#security-maintainability-limitations\n",
            "  UserWarning,\n",
            "/usr/local/lib/python3.7/dist-packages/sklearn/base.py:333: UserWarning: Trying to unpickle estimator TfidfTransformer from version 0.22 when using version 1.0.1. This might lead to breaking code or invalid results. Use at your own risk. For more info please refer to:\n",
            "https://scikit-learn.org/stable/modules/model_persistence.html#security-maintainability-limitations\n",
            "  UserWarning,\n",
            "/usr/local/lib/python3.7/dist-packages/sklearn/base.py:333: UserWarning: Trying to unpickle estimator TfidfVectorizer from version 0.22 when using version 1.0.1. This might lead to breaking code or invalid results. Use at your own risk. For more info please refer to:\n",
            "https://scikit-learn.org/stable/modules/model_persistence.html#security-maintainability-limitations\n",
            "  UserWarning,\n"
          ]
        },
        {
          "output_type": "stream",
          "name": "stdout",
          "text": [
            "2368 \t http://beforeitsnews.com/entertainment/2017/10/the-spy-in-the-ira-2670627.html\r\n",
            "\n"
          ]
        },
        {
          "output_type": "stream",
          "name": "stderr",
          "text": [
            "/usr/local/lib/python3.7/dist-packages/sklearn/base.py:333: UserWarning: Trying to unpickle estimator PCA from version 0.22 when using version 1.0.1. This might lead to breaking code or invalid results. Use at your own risk. For more info please refer to:\n",
            "https://scikit-learn.org/stable/modules/model_persistence.html#security-maintainability-limitations\n",
            "  UserWarning,\n",
            "/usr/local/lib/python3.7/dist-packages/sklearn/base.py:333: UserWarning: Trying to unpickle estimator TfidfTransformer from version 0.22 when using version 1.0.1. This might lead to breaking code or invalid results. Use at your own risk. For more info please refer to:\n",
            "https://scikit-learn.org/stable/modules/model_persistence.html#security-maintainability-limitations\n",
            "  UserWarning,\n",
            "/usr/local/lib/python3.7/dist-packages/sklearn/base.py:333: UserWarning: Trying to unpickle estimator TfidfVectorizer from version 0.22 when using version 1.0.1. This might lead to breaking code or invalid results. Use at your own risk. For more info please refer to:\n",
            "https://scikit-learn.org/stable/modules/model_persistence.html#security-maintainability-limitations\n",
            "  UserWarning,\n"
          ]
        },
        {
          "output_type": "stream",
          "name": "stdout",
          "text": [
            "2369 \t http://beforeitsnews.com/u-s-politics/2017/10/trump-takes-bold-action-to-save-u-s-from-europes-tragic-fate-2537179.html\r\n",
            "\n"
          ]
        },
        {
          "output_type": "stream",
          "name": "stderr",
          "text": [
            "/usr/local/lib/python3.7/dist-packages/sklearn/base.py:333: UserWarning: Trying to unpickle estimator PCA from version 0.22 when using version 1.0.1. This might lead to breaking code or invalid results. Use at your own risk. For more info please refer to:\n",
            "https://scikit-learn.org/stable/modules/model_persistence.html#security-maintainability-limitations\n",
            "  UserWarning,\n",
            "/usr/local/lib/python3.7/dist-packages/sklearn/base.py:333: UserWarning: Trying to unpickle estimator TfidfTransformer from version 0.22 when using version 1.0.1. This might lead to breaking code or invalid results. Use at your own risk. For more info please refer to:\n",
            "https://scikit-learn.org/stable/modules/model_persistence.html#security-maintainability-limitations\n",
            "  UserWarning,\n",
            "/usr/local/lib/python3.7/dist-packages/sklearn/base.py:333: UserWarning: Trying to unpickle estimator TfidfVectorizer from version 0.22 when using version 1.0.1. This might lead to breaking code or invalid results. Use at your own risk. For more info please refer to:\n",
            "https://scikit-learn.org/stable/modules/model_persistence.html#security-maintainability-limitations\n",
            "  UserWarning,\n"
          ]
        },
        {
          "output_type": "stream",
          "name": "stdout",
          "text": [
            "2370 \t http://beforeitsnews.com/sports/2017/09/928-through-the-40s-the-gloaming-hbd-bill-lou-cy-the-third-everett-cy-leon-buck-clarke-honoredtiny-2-hitter-2701370.html\n",
            "\n",
            "\n"
          ]
        },
        {
          "output_type": "stream",
          "name": "stderr",
          "text": [
            "/usr/local/lib/python3.7/dist-packages/sklearn/base.py:333: UserWarning: Trying to unpickle estimator PCA from version 0.22 when using version 1.0.1. This might lead to breaking code or invalid results. Use at your own risk. For more info please refer to:\n",
            "https://scikit-learn.org/stable/modules/model_persistence.html#security-maintainability-limitations\n",
            "  UserWarning,\n",
            "/usr/local/lib/python3.7/dist-packages/sklearn/base.py:333: UserWarning: Trying to unpickle estimator TfidfTransformer from version 0.22 when using version 1.0.1. This might lead to breaking code or invalid results. Use at your own risk. For more info please refer to:\n",
            "https://scikit-learn.org/stable/modules/model_persistence.html#security-maintainability-limitations\n",
            "  UserWarning,\n",
            "/usr/local/lib/python3.7/dist-packages/sklearn/base.py:333: UserWarning: Trying to unpickle estimator TfidfVectorizer from version 0.22 when using version 1.0.1. This might lead to breaking code or invalid results. Use at your own risk. For more info please refer to:\n",
            "https://scikit-learn.org/stable/modules/model_persistence.html#security-maintainability-limitations\n",
            "  UserWarning,\n"
          ]
        },
        {
          "output_type": "stream",
          "name": "stdout",
          "text": [
            "2371 \t https://www.activistpost.com/2017/09/false-arrest-raise-questions-police-facial-recognition.html\r\n",
            "\n"
          ]
        },
        {
          "output_type": "stream",
          "name": "stderr",
          "text": [
            "/usr/local/lib/python3.7/dist-packages/sklearn/base.py:333: UserWarning: Trying to unpickle estimator PCA from version 0.22 when using version 1.0.1. This might lead to breaking code or invalid results. Use at your own risk. For more info please refer to:\n",
            "https://scikit-learn.org/stable/modules/model_persistence.html#security-maintainability-limitations\n",
            "  UserWarning,\n",
            "/usr/local/lib/python3.7/dist-packages/sklearn/base.py:333: UserWarning: Trying to unpickle estimator TfidfTransformer from version 0.22 when using version 1.0.1. This might lead to breaking code or invalid results. Use at your own risk. For more info please refer to:\n",
            "https://scikit-learn.org/stable/modules/model_persistence.html#security-maintainability-limitations\n",
            "  UserWarning,\n",
            "/usr/local/lib/python3.7/dist-packages/sklearn/base.py:333: UserWarning: Trying to unpickle estimator TfidfVectorizer from version 0.22 when using version 1.0.1. This might lead to breaking code or invalid results. Use at your own risk. For more info please refer to:\n",
            "https://scikit-learn.org/stable/modules/model_persistence.html#security-maintainability-limitations\n",
            "  UserWarning,\n"
          ]
        },
        {
          "output_type": "stream",
          "name": "stdout",
          "text": [
            "2372 \t http://beforeitsnews.com/u-s-politics/2017/10/new-cnn-and-globalist-exposed-steve-quayle-alex-jones-2537492.html\r\n",
            "\n"
          ]
        },
        {
          "output_type": "stream",
          "name": "stderr",
          "text": [
            "/usr/local/lib/python3.7/dist-packages/sklearn/base.py:333: UserWarning: Trying to unpickle estimator PCA from version 0.22 when using version 1.0.1. This might lead to breaking code or invalid results. Use at your own risk. For more info please refer to:\n",
            "https://scikit-learn.org/stable/modules/model_persistence.html#security-maintainability-limitations\n",
            "  UserWarning,\n",
            "/usr/local/lib/python3.7/dist-packages/sklearn/base.py:333: UserWarning: Trying to unpickle estimator TfidfTransformer from version 0.22 when using version 1.0.1. This might lead to breaking code or invalid results. Use at your own risk. For more info please refer to:\n",
            "https://scikit-learn.org/stable/modules/model_persistence.html#security-maintainability-limitations\n",
            "  UserWarning,\n",
            "/usr/local/lib/python3.7/dist-packages/sklearn/base.py:333: UserWarning: Trying to unpickle estimator TfidfVectorizer from version 0.22 when using version 1.0.1. This might lead to breaking code or invalid results. Use at your own risk. For more info please refer to:\n",
            "https://scikit-learn.org/stable/modules/model_persistence.html#security-maintainability-limitations\n",
            "  UserWarning,\n"
          ]
        },
        {
          "output_type": "stream",
          "name": "stdout",
          "text": [
            "2373 \t http://beforeitsnews.com/sports/2017/09/trends-to-watch-2701095.html\n",
            "\n",
            "\n"
          ]
        },
        {
          "output_type": "stream",
          "name": "stderr",
          "text": [
            "/usr/local/lib/python3.7/dist-packages/sklearn/base.py:333: UserWarning: Trying to unpickle estimator PCA from version 0.22 when using version 1.0.1. This might lead to breaking code or invalid results. Use at your own risk. For more info please refer to:\n",
            "https://scikit-learn.org/stable/modules/model_persistence.html#security-maintainability-limitations\n",
            "  UserWarning,\n",
            "/usr/local/lib/python3.7/dist-packages/sklearn/base.py:333: UserWarning: Trying to unpickle estimator TfidfTransformer from version 0.22 when using version 1.0.1. This might lead to breaking code or invalid results. Use at your own risk. For more info please refer to:\n",
            "https://scikit-learn.org/stable/modules/model_persistence.html#security-maintainability-limitations\n",
            "  UserWarning,\n",
            "/usr/local/lib/python3.7/dist-packages/sklearn/base.py:333: UserWarning: Trying to unpickle estimator TfidfVectorizer from version 0.22 when using version 1.0.1. This might lead to breaking code or invalid results. Use at your own risk. For more info please refer to:\n",
            "https://scikit-learn.org/stable/modules/model_persistence.html#security-maintainability-limitations\n",
            "  UserWarning,\n"
          ]
        },
        {
          "output_type": "stream",
          "name": "stdout",
          "text": [
            "2374 \t http://beforeitsnews.com/u-s-politics/2017/10/trump-jr-is-soon-to-give-a-30-minute-speech-for-100000-2537423.html\r\n",
            "\n"
          ]
        },
        {
          "output_type": "stream",
          "name": "stderr",
          "text": [
            "/usr/local/lib/python3.7/dist-packages/sklearn/base.py:333: UserWarning: Trying to unpickle estimator PCA from version 0.22 when using version 1.0.1. This might lead to breaking code or invalid results. Use at your own risk. For more info please refer to:\n",
            "https://scikit-learn.org/stable/modules/model_persistence.html#security-maintainability-limitations\n",
            "  UserWarning,\n",
            "/usr/local/lib/python3.7/dist-packages/sklearn/base.py:333: UserWarning: Trying to unpickle estimator TfidfTransformer from version 0.22 when using version 1.0.1. This might lead to breaking code or invalid results. Use at your own risk. For more info please refer to:\n",
            "https://scikit-learn.org/stable/modules/model_persistence.html#security-maintainability-limitations\n",
            "  UserWarning,\n",
            "/usr/local/lib/python3.7/dist-packages/sklearn/base.py:333: UserWarning: Trying to unpickle estimator TfidfVectorizer from version 0.22 when using version 1.0.1. This might lead to breaking code or invalid results. Use at your own risk. For more info please refer to:\n",
            "https://scikit-learn.org/stable/modules/model_persistence.html#security-maintainability-limitations\n",
            "  UserWarning,\n"
          ]
        },
        {
          "output_type": "stream",
          "name": "stdout",
          "text": [
            "2375 \t http://beforeitsnews.com/u-s-politics/2017/10/vice-president-mike-pence-leaves-nfl-game-because-of-anti-american-protests-2537585.html\r\n",
            "\n"
          ]
        },
        {
          "output_type": "stream",
          "name": "stderr",
          "text": [
            "/usr/local/lib/python3.7/dist-packages/sklearn/base.py:333: UserWarning: Trying to unpickle estimator PCA from version 0.22 when using version 1.0.1. This might lead to breaking code or invalid results. Use at your own risk. For more info please refer to:\n",
            "https://scikit-learn.org/stable/modules/model_persistence.html#security-maintainability-limitations\n",
            "  UserWarning,\n",
            "/usr/local/lib/python3.7/dist-packages/sklearn/base.py:333: UserWarning: Trying to unpickle estimator TfidfTransformer from version 0.22 when using version 1.0.1. This might lead to breaking code or invalid results. Use at your own risk. For more info please refer to:\n",
            "https://scikit-learn.org/stable/modules/model_persistence.html#security-maintainability-limitations\n",
            "  UserWarning,\n",
            "/usr/local/lib/python3.7/dist-packages/sklearn/base.py:333: UserWarning: Trying to unpickle estimator TfidfVectorizer from version 0.22 when using version 1.0.1. This might lead to breaking code or invalid results. Use at your own risk. For more info please refer to:\n",
            "https://scikit-learn.org/stable/modules/model_persistence.html#security-maintainability-limitations\n",
            "  UserWarning,\n"
          ]
        }
      ]
    },
    {
      "cell_type": "code",
      "metadata": {
        "colab": {
          "base_uri": "https://localhost:8080/",
          "height": 1000
        },
        "id": "BT0RbkB1aSg4",
        "outputId": "cbd50539-c8b7-447e-862c-0e083cfa44b9"
      },
      "source": [
        "df_new_parsed # датасет с напарсенными признаками (получилось далеко не все)"
      ],
      "execution_count": 150,
      "outputs": [
        {
          "output_type": "execute_result",
          "data": {
            "text/html": [
              "<div>\n",
              "<style scoped>\n",
              "    .dataframe tbody tr th:only-of-type {\n",
              "        vertical-align: middle;\n",
              "    }\n",
              "\n",
              "    .dataframe tbody tr th {\n",
              "        vertical-align: top;\n",
              "    }\n",
              "\n",
              "    .dataframe thead th {\n",
              "        text-align: right;\n",
              "    }\n",
              "</style>\n",
              "<table border=\"1\" class=\"dataframe\">\n",
              "  <thead>\n",
              "    <tr style=\"text-align: right;\">\n",
              "      <th></th>\n",
              "      <th>hostname</th>\n",
              "      <th>sitename</th>\n",
              "      <th>rawDate</th>\n",
              "      <th>title</th>\n",
              "      <th>content</th>\n",
              "    </tr>\n",
              "  </thead>\n",
              "  <tbody>\n",
              "    <tr>\n",
              "      <th>0</th>\n",
              "      <td>beforeitsnews.com</td>\n",
              "      <td>beforeitsnews.com</td>\n",
              "      <td>2017-10-01</td>\n",
              "      <td>404 Not Found!</td>\n",
              "      <td>You're using an Ad-Blocker.\\nBeforeItsNews onl...</td>\n",
              "    </tr>\n",
              "    <tr>\n",
              "      <th>1</th>\n",
              "      <td></td>\n",
              "      <td></td>\n",
              "      <td></td>\n",
              "      <td>Accessibility links</td>\n",
              "      <td>Unfortunately, the page you are looking for is...</td>\n",
              "    </tr>\n",
              "    <tr>\n",
              "      <th>2</th>\n",
              "      <td></td>\n",
              "      <td>BBC News</td>\n",
              "      <td></td>\n",
              "      <td>\\n                                    404\\n   ...</td>\n",
              "      <td>Double checking the url Hitting the refresh bu...</td>\n",
              "    </tr>\n",
              "    <tr>\n",
              "      <th>3</th>\n",
              "      <td></td>\n",
              "      <td>Reuters</td>\n",
              "      <td></td>\n",
              "      <td>Page Not Found</td>\n",
              "      <td></td>\n",
              "    </tr>\n",
              "    <tr>\n",
              "      <th>4</th>\n",
              "      <td></td>\n",
              "      <td>Reuters</td>\n",
              "      <td></td>\n",
              "      <td>Page Not Found</td>\n",
              "      <td></td>\n",
              "    </tr>\n",
              "    <tr>\n",
              "      <th>5</th>\n",
              "      <td></td>\n",
              "      <td></td>\n",
              "      <td></td>\n",
              "      <td>Uh-oh!</td>\n",
              "      <td></td>\n",
              "    </tr>\n",
              "    <tr>\n",
              "      <th>6</th>\n",
              "      <td>beforeitsnews.com</td>\n",
              "      <td>Sports | Before It's News</td>\n",
              "      <td>2017-10-20</td>\n",
              "      <td>2017 Fantasy Football Team Defense Rankings – ...</td>\n",
              "      <td>Wednesday, October 4, 2017 4:17\\n% of readers ...</td>\n",
              "    </tr>\n",
              "    <tr>\n",
              "      <th>7</th>\n",
              "      <td></td>\n",
              "      <td>Reuters</td>\n",
              "      <td></td>\n",
              "      <td>Page Not Found</td>\n",
              "      <td></td>\n",
              "    </tr>\n",
              "    <tr>\n",
              "      <th>8</th>\n",
              "      <td></td>\n",
              "      <td>Reuters</td>\n",
              "      <td></td>\n",
              "      <td>Page Not Found</td>\n",
              "      <td></td>\n",
              "    </tr>\n",
              "    <tr>\n",
              "      <th>9</th>\n",
              "      <td></td>\n",
              "      <td></td>\n",
              "      <td></td>\n",
              "      <td>Accessibility links</td>\n",
              "      <td>Unfortunately, the page you are looking for is...</td>\n",
              "    </tr>\n",
              "    <tr>\n",
              "      <th>10</th>\n",
              "      <td>beforeitsnews.com</td>\n",
              "      <td>beforeitsnews.com</td>\n",
              "      <td>2017-09-01</td>\n",
              "      <td>404 Not Found!</td>\n",
              "      <td>You're using an Ad-Blocker.\\nBeforeItsNews onl...</td>\n",
              "    </tr>\n",
              "    <tr>\n",
              "      <th>11</th>\n",
              "      <td>beforeitsnews.com</td>\n",
              "      <td>beforeitsnews.com</td>\n",
              "      <td>2017-09-01</td>\n",
              "      <td>404 Not Found!</td>\n",
              "      <td>You're using an Ad-Blocker.\\nBeforeItsNews onl...</td>\n",
              "    </tr>\n",
              "    <tr>\n",
              "      <th>12</th>\n",
              "      <td></td>\n",
              "      <td>CNNMoney</td>\n",
              "      <td></td>\n",
              "      <td>404 Page Not Found</td>\n",
              "      <td>Most stock quote data provided by BATS. Market...</td>\n",
              "    </tr>\n",
              "    <tr>\n",
              "      <th>13</th>\n",
              "      <td>dailybuzzlive.com</td>\n",
              "      <td>dailybuzzlive.com</td>\n",
              "      <td>2015-06-15</td>\n",
              "      <td>This Guy Tried To Scam Someone Via Text Messag...</td>\n",
              "      <td>Have you ever been solicited via text message?...</td>\n",
              "    </tr>\n",
              "    <tr>\n",
              "      <th>14</th>\n",
              "      <td>beforeitsnews.com</td>\n",
              "      <td>beforeitsnews.com</td>\n",
              "      <td>2017-09-01</td>\n",
              "      <td>404 Not Found!</td>\n",
              "      <td>You're using an Ad-Blocker.\\nBeforeItsNews onl...</td>\n",
              "    </tr>\n",
              "    <tr>\n",
              "      <th>15</th>\n",
              "      <td>beforeitsnews.com</td>\n",
              "      <td>beforeitsnews.com</td>\n",
              "      <td>2017-10-01</td>\n",
              "      <td>404 Not Found!</td>\n",
              "      <td>You're using an Ad-Blocker.\\nBeforeItsNews onl...</td>\n",
              "    </tr>\n",
              "    <tr>\n",
              "      <th>16</th>\n",
              "      <td>beforeitsnews.com</td>\n",
              "      <td>beforeitsnews.com</td>\n",
              "      <td>2017-09-01</td>\n",
              "      <td>404 Not Found!</td>\n",
              "      <td>You're using an Ad-Blocker.\\nBeforeItsNews onl...</td>\n",
              "    </tr>\n",
              "    <tr>\n",
              "      <th>17</th>\n",
              "      <td>beforeitsnews.com</td>\n",
              "      <td>U. S. Politics | Before It's News</td>\n",
              "      <td>2017-10-07</td>\n",
              "      <td>YouTube Censors Search Results on Las Vegas Sh...</td>\n",
              "      <td>By\\nSix days after a 64-year-old with a myster...</td>\n",
              "    </tr>\n",
              "    <tr>\n",
              "      <th>18</th>\n",
              "      <td></td>\n",
              "      <td>Reuters</td>\n",
              "      <td></td>\n",
              "      <td>Page Not Found</td>\n",
              "      <td></td>\n",
              "    </tr>\n",
              "    <tr>\n",
              "      <th>19</th>\n",
              "      <td></td>\n",
              "      <td>Reuters</td>\n",
              "      <td></td>\n",
              "      <td>Page Not Found</td>\n",
              "      <td></td>\n",
              "    </tr>\n",
              "    <tr>\n",
              "      <th>20</th>\n",
              "      <td></td>\n",
              "      <td>520: Web Server Is Returning An Unknown Error</td>\n",
              "      <td>2021-12-03</td>\n",
              "      <td>\\n              \\n              Error\\n       ...</td>\n",
              "      <td>There is an unknown connection issue between C...</td>\n",
              "    </tr>\n",
              "    <tr>\n",
              "      <th>21</th>\n",
              "      <td></td>\n",
              "      <td>Reuters</td>\n",
              "      <td></td>\n",
              "      <td>Page Not Found</td>\n",
              "      <td></td>\n",
              "    </tr>\n",
              "    <tr>\n",
              "      <th>22</th>\n",
              "      <td></td>\n",
              "      <td>Reuters</td>\n",
              "      <td></td>\n",
              "      <td>Page Not Found</td>\n",
              "      <td></td>\n",
              "    </tr>\n",
              "    <tr>\n",
              "      <th>23</th>\n",
              "      <td></td>\n",
              "      <td>Reuters</td>\n",
              "      <td></td>\n",
              "      <td>Page Not Found</td>\n",
              "      <td></td>\n",
              "    </tr>\n",
              "    <tr>\n",
              "      <th>24</th>\n",
              "      <td></td>\n",
              "      <td>Reuters</td>\n",
              "      <td></td>\n",
              "      <td>Page Not Found</td>\n",
              "      <td></td>\n",
              "    </tr>\n",
              "    <tr>\n",
              "      <th>25</th>\n",
              "      <td>beforeitsnews.com</td>\n",
              "      <td>Opinion - Conservative | Before It's News</td>\n",
              "      <td>2017-10-04</td>\n",
              "      <td>Las Vegas Attacker Tried to Blow up Massive Av...</td>\n",
              "      <td>This is terrorism. No question.\\nImagine if th...</td>\n",
              "    </tr>\n",
              "    <tr>\n",
              "      <th>26</th>\n",
              "      <td>cnn.com</td>\n",
              "      <td>CNN</td>\n",
              "      <td>2017-09-30</td>\n",
              "      <td>'Statistically, it's coming.' California prepa...</td>\n",
              "      <td>CNN —  \\nThe scene is terrifying – entire sect...</td>\n",
              "    </tr>\n",
              "    <tr>\n",
              "      <th>27</th>\n",
              "      <td>beforeitsnews.com</td>\n",
              "      <td>beforeitsnews.com</td>\n",
              "      <td>2017-09-01</td>\n",
              "      <td>404 Not Found!</td>\n",
              "      <td>You're using an Ad-Blocker.\\nBeforeItsNews onl...</td>\n",
              "    </tr>\n",
              "    <tr>\n",
              "      <th>28</th>\n",
              "      <td>beforeitsnews.com</td>\n",
              "      <td>beforeitsnews.com</td>\n",
              "      <td>2017-10-01</td>\n",
              "      <td>404 Not Found!</td>\n",
              "      <td>You're using an Ad-Blocker.\\nBeforeItsNews onl...</td>\n",
              "    </tr>\n",
              "    <tr>\n",
              "      <th>29</th>\n",
              "      <td>beforeitsnews.com</td>\n",
              "      <td>beforeitsnews.com</td>\n",
              "      <td>2017-10-01</td>\n",
              "      <td>404 Not Found!</td>\n",
              "      <td>You're using an Ad-Blocker.\\nBeforeItsNews onl...</td>\n",
              "    </tr>\n",
              "    <tr>\n",
              "      <th>30</th>\n",
              "      <td>beforeitsnews.com</td>\n",
              "      <td>Entertainment | Before It's News</td>\n",
              "      <td>2017-09-10</td>\n",
              "      <td>Living on Bitcoin for a Week (Video) | Enterta...</td>\n",
              "      <td>From the producer of the documentary\\nSuper Si...</td>\n",
              "    </tr>\n",
              "    <tr>\n",
              "      <th>31</th>\n",
              "      <td></td>\n",
              "      <td></td>\n",
              "      <td></td>\n",
              "      <td>Uh-oh!</td>\n",
              "      <td></td>\n",
              "    </tr>\n",
              "    <tr>\n",
              "      <th>32</th>\n",
              "      <td></td>\n",
              "      <td></td>\n",
              "      <td></td>\n",
              "      <td>Accessibility links</td>\n",
              "      <td>Unfortunately, the page you are looking for is...</td>\n",
              "    </tr>\n",
              "    <tr>\n",
              "      <th>33</th>\n",
              "      <td>beforeitsnews.com</td>\n",
              "      <td>U. S. Politics | Before It's News</td>\n",
              "      <td>2017-10-03</td>\n",
              "      <td>Jimmy Kimmel: The New Official Spokesman for D...</td>\n",
              "      <td>For more great articles like this visit http:/...</td>\n",
              "    </tr>\n",
              "    <tr>\n",
              "      <th>34</th>\n",
              "      <td>bbc.com</td>\n",
              "      <td>BBC Culture</td>\n",
              "      <td>2017-10-04</td>\n",
              "      <td>Film review: Does Blade Runner 2049 top the or...</td>\n",
              "      <td>The original Blade Runner was set in the futur...</td>\n",
              "    </tr>\n",
              "    <tr>\n",
              "      <th>35</th>\n",
              "      <td>beforeitsnews.com</td>\n",
              "      <td>beforeitsnews.com</td>\n",
              "      <td>2017-10-10</td>\n",
              "      <td>404 Not Found!</td>\n",
              "      <td>You're using an Ad-Blocker.\\nBeforeItsNews onl...</td>\n",
              "    </tr>\n",
              "    <tr>\n",
              "      <th>36</th>\n",
              "      <td></td>\n",
              "      <td></td>\n",
              "      <td></td>\n",
              "      <td>Accessibility links</td>\n",
              "      <td>Unfortunately, the page you are looking for is...</td>\n",
              "    </tr>\n",
              "    <tr>\n",
              "      <th>37</th>\n",
              "      <td>beforeitsnews.com</td>\n",
              "      <td>beforeitsnews.com</td>\n",
              "      <td>2017-09-01</td>\n",
              "      <td>404 Not Found!</td>\n",
              "      <td>You're using an Ad-Blocker.\\nBeforeItsNews onl...</td>\n",
              "    </tr>\n",
              "    <tr>\n",
              "      <th>38</th>\n",
              "      <td>beforeitsnews.com</td>\n",
              "      <td>Alternative | Before It's News</td>\n",
              "      <td>2017-10-04</td>\n",
              "      <td>Illuminati Card Game Predicted Vegas Massacre;...</td>\n",
              "      <td>I had a hard time finding a picture of Jason’s...</td>\n",
              "    </tr>\n",
              "    <tr>\n",
              "      <th>39</th>\n",
              "      <td></td>\n",
              "      <td></td>\n",
              "      <td></td>\n",
              "      <td>Top 100 European Innovative Universities Compa...</td>\n",
              "      <td>Use the drop down lists to choose any two memb...</td>\n",
              "    </tr>\n",
              "    <tr>\n",
              "      <th>40</th>\n",
              "      <td></td>\n",
              "      <td>Reuters</td>\n",
              "      <td></td>\n",
              "      <td>Page Not Found</td>\n",
              "      <td></td>\n",
              "    </tr>\n",
              "    <tr>\n",
              "      <th>41</th>\n",
              "      <td></td>\n",
              "      <td>BBC News</td>\n",
              "      <td></td>\n",
              "      <td>\\n                                    404\\n   ...</td>\n",
              "      <td>Double checking the url Hitting the refresh bu...</td>\n",
              "    </tr>\n",
              "    <tr>\n",
              "      <th>42</th>\n",
              "      <td>nytimes.com</td>\n",
              "      <td>The New York Times</td>\n",
              "      <td>2017-10-12</td>\n",
              "      <td>Margo Price, Nashville Outsider, Tells It Like...</td>\n",
              "      <td>As Ms. Price, 34, rummaged in her leopard-prin...</td>\n",
              "    </tr>\n",
              "    <tr>\n",
              "      <th>43</th>\n",
              "      <td>beforeitsnews.com</td>\n",
              "      <td>beforeitsnews.com</td>\n",
              "      <td>2017-09-01</td>\n",
              "      <td>404 Not Found!</td>\n",
              "      <td>You're using an Ad-Blocker.\\nBeforeItsNews onl...</td>\n",
              "    </tr>\n",
              "    <tr>\n",
              "      <th>44</th>\n",
              "      <td>beforeitsnews.com</td>\n",
              "      <td>beforeitsnews.com</td>\n",
              "      <td>2017-10-01</td>\n",
              "      <td>404 Not Found!</td>\n",
              "      <td>You're using an Ad-Blocker.\\nBeforeItsNews onl...</td>\n",
              "    </tr>\n",
              "    <tr>\n",
              "      <th>45</th>\n",
              "      <td></td>\n",
              "      <td>520: Web Server Is Returning An Unknown Error</td>\n",
              "      <td>2021-12-03</td>\n",
              "      <td>\\n              \\n              Error\\n       ...</td>\n",
              "      <td>There is an unknown connection issue between C...</td>\n",
              "    </tr>\n",
              "    <tr>\n",
              "      <th>46</th>\n",
              "      <td>beforeitsnews.com</td>\n",
              "      <td>beforeitsnews.com</td>\n",
              "      <td>2017-10-01</td>\n",
              "      <td>404 Not Found!</td>\n",
              "      <td>You're using an Ad-Blocker.\\nBeforeItsNews onl...</td>\n",
              "    </tr>\n",
              "    <tr>\n",
              "      <th>47</th>\n",
              "      <td>beforeitsnews.com</td>\n",
              "      <td>U. S. Politics | Before It's News</td>\n",
              "      <td>2017-10-02</td>\n",
              "      <td>Trump Takes Bold Action to Save U.S. From Euro...</td>\n",
              "      <td>For more great articles like this visit http:/...</td>\n",
              "    </tr>\n",
              "    <tr>\n",
              "      <th>48</th>\n",
              "      <td>beforeitsnews.com</td>\n",
              "      <td>beforeitsnews.com</td>\n",
              "      <td>2017-09-01</td>\n",
              "      <td>404 Not Found!</td>\n",
              "      <td>You're using an Ad-Blocker.\\nBeforeItsNews onl...</td>\n",
              "    </tr>\n",
              "    <tr>\n",
              "      <th>49</th>\n",
              "      <td></td>\n",
              "      <td>520: Web Server Is Returning An Unknown Error</td>\n",
              "      <td>2021-12-03</td>\n",
              "      <td>\\n              \\n              Error\\n       ...</td>\n",
              "      <td>There is an unknown connection issue between C...</td>\n",
              "    </tr>\n",
              "    <tr>\n",
              "      <th>50</th>\n",
              "      <td>beforeitsnews.com</td>\n",
              "      <td>beforeitsnews.com</td>\n",
              "      <td>2017-10-01</td>\n",
              "      <td>404 Not Found!</td>\n",
              "      <td>You're using an Ad-Blocker.\\nBeforeItsNews onl...</td>\n",
              "    </tr>\n",
              "    <tr>\n",
              "      <th>51</th>\n",
              "      <td>beforeitsnews.com</td>\n",
              "      <td>beforeitsnews.com</td>\n",
              "      <td>2017-09-01</td>\n",
              "      <td>404 Not Found!</td>\n",
              "      <td>You're using an Ad-Blocker.\\nBeforeItsNews onl...</td>\n",
              "    </tr>\n",
              "    <tr>\n",
              "      <th>52</th>\n",
              "      <td>beforeitsnews.com</td>\n",
              "      <td>beforeitsnews.com</td>\n",
              "      <td>2017-10-01</td>\n",
              "      <td>404 Not Found!</td>\n",
              "      <td>You're using an Ad-Blocker.\\nBeforeItsNews onl...</td>\n",
              "    </tr>\n",
              "    <tr>\n",
              "      <th>53</th>\n",
              "      <td>beforeitsnews.com</td>\n",
              "      <td>U. S. Politics | Before It's News</td>\n",
              "      <td>2017-10-08</td>\n",
              "      <td>Vice President Mike Pence Leaves NFL Game Beca...</td>\n",
              "      <td>Donn Marten -\\nVice President Mike Pence was t...</td>\n",
              "    </tr>\n",
              "  </tbody>\n",
              "</table>\n",
              "</div>"
            ],
            "text/plain": [
              "             hostname  ...                                            content\n",
              "0   beforeitsnews.com  ...  You're using an Ad-Blocker.\\nBeforeItsNews onl...\n",
              "1                      ...  Unfortunately, the page you are looking for is...\n",
              "2                      ...  Double checking the url Hitting the refresh bu...\n",
              "3                      ...                                                   \n",
              "4                      ...                                                   \n",
              "5                      ...                                                   \n",
              "6   beforeitsnews.com  ...  Wednesday, October 4, 2017 4:17\\n% of readers ...\n",
              "7                      ...                                                   \n",
              "8                      ...                                                   \n",
              "9                      ...  Unfortunately, the page you are looking for is...\n",
              "10  beforeitsnews.com  ...  You're using an Ad-Blocker.\\nBeforeItsNews onl...\n",
              "11  beforeitsnews.com  ...  You're using an Ad-Blocker.\\nBeforeItsNews onl...\n",
              "12                     ...  Most stock quote data provided by BATS. Market...\n",
              "13  dailybuzzlive.com  ...  Have you ever been solicited via text message?...\n",
              "14  beforeitsnews.com  ...  You're using an Ad-Blocker.\\nBeforeItsNews onl...\n",
              "15  beforeitsnews.com  ...  You're using an Ad-Blocker.\\nBeforeItsNews onl...\n",
              "16  beforeitsnews.com  ...  You're using an Ad-Blocker.\\nBeforeItsNews onl...\n",
              "17  beforeitsnews.com  ...  By\\nSix days after a 64-year-old with a myster...\n",
              "18                     ...                                                   \n",
              "19                     ...                                                   \n",
              "20                     ...  There is an unknown connection issue between C...\n",
              "21                     ...                                                   \n",
              "22                     ...                                                   \n",
              "23                     ...                                                   \n",
              "24                     ...                                                   \n",
              "25  beforeitsnews.com  ...  This is terrorism. No question.\\nImagine if th...\n",
              "26            cnn.com  ...  CNN —  \\nThe scene is terrifying – entire sect...\n",
              "27  beforeitsnews.com  ...  You're using an Ad-Blocker.\\nBeforeItsNews onl...\n",
              "28  beforeitsnews.com  ...  You're using an Ad-Blocker.\\nBeforeItsNews onl...\n",
              "29  beforeitsnews.com  ...  You're using an Ad-Blocker.\\nBeforeItsNews onl...\n",
              "30  beforeitsnews.com  ...  From the producer of the documentary\\nSuper Si...\n",
              "31                     ...                                                   \n",
              "32                     ...  Unfortunately, the page you are looking for is...\n",
              "33  beforeitsnews.com  ...  For more great articles like this visit http:/...\n",
              "34            bbc.com  ...  The original Blade Runner was set in the futur...\n",
              "35  beforeitsnews.com  ...  You're using an Ad-Blocker.\\nBeforeItsNews onl...\n",
              "36                     ...  Unfortunately, the page you are looking for is...\n",
              "37  beforeitsnews.com  ...  You're using an Ad-Blocker.\\nBeforeItsNews onl...\n",
              "38  beforeitsnews.com  ...  I had a hard time finding a picture of Jason’s...\n",
              "39                     ...  Use the drop down lists to choose any two memb...\n",
              "40                     ...                                                   \n",
              "41                     ...  Double checking the url Hitting the refresh bu...\n",
              "42        nytimes.com  ...  As Ms. Price, 34, rummaged in her leopard-prin...\n",
              "43  beforeitsnews.com  ...  You're using an Ad-Blocker.\\nBeforeItsNews onl...\n",
              "44  beforeitsnews.com  ...  You're using an Ad-Blocker.\\nBeforeItsNews onl...\n",
              "45                     ...  There is an unknown connection issue between C...\n",
              "46  beforeitsnews.com  ...  You're using an Ad-Blocker.\\nBeforeItsNews onl...\n",
              "47  beforeitsnews.com  ...  For more great articles like this visit http:/...\n",
              "48  beforeitsnews.com  ...  You're using an Ad-Blocker.\\nBeforeItsNews onl...\n",
              "49                     ...  There is an unknown connection issue between C...\n",
              "50  beforeitsnews.com  ...  You're using an Ad-Blocker.\\nBeforeItsNews onl...\n",
              "51  beforeitsnews.com  ...  You're using an Ad-Blocker.\\nBeforeItsNews onl...\n",
              "52  beforeitsnews.com  ...  You're using an Ad-Blocker.\\nBeforeItsNews onl...\n",
              "53  beforeitsnews.com  ...  Donn Marten -\\nVice President Mike Pence was t...\n",
              "\n",
              "[54 rows x 5 columns]"
            ]
          },
          "metadata": {},
          "execution_count": 150
        }
      ]
    },
    {
      "cell_type": "code",
      "metadata": {
        "colab": {
          "base_uri": "https://localhost:8080/"
        },
        "id": "EspoVoofcBOK",
        "outputId": "07ea5119-97dd-473c-ff18-97b3ea0098cd"
      },
      "source": [
        "for i in df_new_parsed.columns:\n",
        "    print(i, '\\n\\n', df_new_parsed[i].unique(), '\\n____________________________________________________\\n')"
      ],
      "execution_count": 153,
      "outputs": [
        {
          "output_type": "stream",
          "name": "stdout",
          "text": [
            "hostname \n",
            "\n",
            " ['beforeitsnews.com' '' 'dailybuzzlive.com' 'cnn.com' 'bbc.com'\n",
            " 'nytimes.com'] \n",
            "____________________________________________________\n",
            "\n",
            "sitename \n",
            "\n",
            " ['beforeitsnews.com' '' 'BBC News' 'Reuters' \"Sports | Before It's News\"\n",
            " 'CNNMoney' 'dailybuzzlive.com' \"U. S. Politics | Before It's News\"\n",
            " '520: Web Server Is Returning An Unknown Error'\n",
            " \"Opinion - Conservative | Before It's News\" 'CNN'\n",
            " \"Entertainment | Before It's News\" 'BBC Culture'\n",
            " \"Alternative | Before It's News\" 'The New York Times'] \n",
            "____________________________________________________\n",
            "\n",
            "rawDate \n",
            "\n",
            " ['2017-10-01' '' '2017-10-20' '2017-09-01' '2015-06-15' '2017-10-07'\n",
            " '2021-12-03' '2017-10-04' '2017-09-30' '2017-09-10' '2017-10-03'\n",
            " '2017-10-10' '2017-10-12' '2017-10-02' '2017-10-08'] \n",
            "____________________________________________________\n",
            "\n",
            "title \n",
            "\n",
            " ['404 Not Found!' 'Accessibility links'\n",
            " '\\n                                    404\\n                                    Page cannot be found\\n                                '\n",
            " 'Page Not Found' 'Uh-oh!'\n",
            " \"2017 Fantasy Football Team Defense Rankings – Week 5 | Sports | Before It's News\"\n",
            " '404 Page Not Found'\n",
            " 'This Guy Tried To Scam Someone Via Text Message.... The Response Was EPIC!'\n",
            " \"YouTube Censors Search Results on Las Vegas Shooting Rampage | U. S. Politics | Before It's News\"\n",
            " '\\n              \\n              Error\\n              520\\n            '\n",
            " \"Las Vegas Attacker Tried to Blow up Massive Aviation Fuel Tanks | Opinion - Conservative | Before It's News\"\n",
            " \"'Statistically, it's coming.' California prepares for the next big earthquake | CNN\"\n",
            " \"Living on Bitcoin for a Week (Video) | Entertainment | Before It's News\"\n",
            " \"Jimmy Kimmel: The New Official Spokesman for Dumb Liberal Ideas | U. S. Politics | Before It's News\"\n",
            " 'Film review: Does Blade Runner 2049 top the original?'\n",
            " \"Illuminati Card Game Predicted Vegas Massacre; Did Jason Aldeon Have Foreknowledge? | Alternative | Before It's News\"\n",
            " 'Top 100 European Innovative Universities Comparison'\n",
            " 'Margo Price, Nashville Outsider, Tells It Like It Really Is (Published 2017)'\n",
            " \"Trump Takes Bold Action to Save U.S. From Europe’s Tragic Fate | U. S. Politics | Before It's News\"\n",
            " \"Vice President Mike Pence Leaves NFL Game Because of Anti-American Protests | U. S. Politics | Before It's News\"] \n",
            "____________________________________________________\n",
            "\n",
            "content \n",
            "\n",
            " [\"You're using an Ad-Blocker.\\nBeforeItsNews only exists through ads. We ask all patriots who appreciate the evil we expose and want to help us savage the NWO with more Truth to disable your ad-blocker on our site only so we can grow and expose more evil! Funding gives us more weapons! Thank you patriots! Oh and If you disable the Ad-blocker - on your deathbed you will receive total consciousness. So you got that going for you...which is nice!\"\n",
            " 'Unfortunately, the page you are looking for is not available.\\nYou may have typed the web address incorrectly. Please check the address you entered.'\n",
            " 'Double checking the url Hitting the refresh button in your browser Searching for this page using the BBC search bar'\n",
            " ''\n",
            " 'Wednesday, October 4, 2017 4:17\\n% of readers think this story is Fact. Add your two cents.\\n. Bye Week: Atlanta, Denver, New Orleans, Washington\\n. 1. Minnesota Vikings 2. Seattle Seahawks 3. Philadelphia Eagles 4. Pittsburgh Steelers 5. Oakland Raiders 6. New York Jets 7. Buffalo Bills 8. Cincinnati Bengals 9. New York Giants 10. Kansas City Chiefs 11. Arizona Cardinals 12. Jacksonville Jaguars 13. Green Bay Packers 14. Tennessee Titans 15. Detroit Lions\\n2017 Fantasy Football Week 5 Kicker Rankings\\n2017 Fantasy Football Week 5 Get ‘em or Don’t Sweat ‘em Waiver Wire Picks\\n2017 NFL Picks Week 5\\nhttp://lesterslegends.com/2017-fantasy-football-team-defense-rankings-week-5/\\nBefore It’s News® is a community of individuals who report on what’s going on around them, from all around the world. Anyone can\\njoin . Anyone can contribute. Anyone can become informed about their world. \"United We Stand\"\\nClick Here To Create Your Personal\\nCitizen Journalist Account Today, Be Sure To Invite Your Friends.\\nhttps://www.herbanomics.com \\xa0M -\\xa0F\\xa09am to 5pm\\xa0EST\\nHumic & Fulvic Trace Minerals Complex \\xa0- Nature\\'s most important supplement! Vivid Dreams again!\\nHNEX HydroNano EXtracellular Water\\n\\xa0- Improve immune system health and\\xa0reduce inflammation\\nUltimate Clinical Potency Curcumin \\xa0- Natural pain relief, reduce inflammation and so much more.\\nMitoCopper \\xa0- Bioavailable Copper destroys pathogens and gives you more energy. (See Blood Video)'\n",
            " \"Most stock quote data provided by BATS. Market indices are shown in real time, except for the DJIA, which is delayed by two minutes. All times are ET. Disclaimer. Morningstar: © 2019 Morningstar, Inc. All Rights Reserved. Factset: FactSet Research Systems Inc.2019. All rights reserved. Chicago Mercantile Association: Certain market data is the property of Chicago Mercantile Exchange Inc. and its licensors. All rights reserved. Dow Jones: The Dow Jones branded indices are proprietary to and are calculated, distributed and marketed by DJI Opco, a subsidiary of S&P Dow Jones Indices LLC and have been licensed for use to S&P Opco, LLC and CNN. Standard & Poor's and S&P are registered trademarks of Standard & Poor's Financial Services LLC and Dow Jones is a registered trademark of Dow Jones Trademark Holdings LLC. All content of the Dow Jones branded indices © S&P Dow Jones Indices LLC 2019 and/or its affiliates.\\n©\\n2021 Cable News Network. A Warner Media Company. All Rights Reserved. CNN Sans™ & © 2016 Cable News Network.\"\n",
            " 'Have you ever been solicited via text message?\\nIf so, you know how annoying it can be.\\nSee how this guy reacted when he had someone offering him $5,000 per month via text!\\nCLICK HERE —> To FOLLOW us on TWITTER'\n",
            " 'By\\nSix days after a 64-year-old with a mysterious background opened fire on the crowd at a country music festival – killing 59 and injuring over 500 – there is still no real information on what drove Stephen Paddock to this extreme act of violence. Not only is there no information on a motive but there continue to be questions on how one loner could pull off such a massacre without any logistical help. While Las Vegas Sheriff Joe Lombardo let it slip that he believes that alleged shooter had to have assistance, there has been a clampdown on additional details other than the strange red herrings that keep being published by the media. Like so many of these bizarre incidents, the official story stinks and it’s very obvious in this case. So obvious that there are moves being made to censor discussions on the internet and quash speculation that all may not be as it seems. For example, according to reports, YouTube has changed its algorithm to manipulate search results that run counter to the still-developing official explanation of what exactly went down in Vegas. YouTube alters search algorithm over fake Las Vegas conspiracy videos https://t.co/BQKynMI9TB — The Guardian (@guardian) …\\nYouTube Censors Search Results on Las Vegas Shooting Rampage is original content from\\nConservative Daily News .\\nhttps://www.conservativedailynews.com/2017/10/youtube-censors-search-results-las-vegas-shooting-rampage/'\n",
            " 'There is an unknown connection issue between Cloudflare and the origin web server. As a result, the web page can not be displayed.\\nIf you are the owner of this website:'\n",
            " 'This is terrorism. No question.\\nImagine if those fuel tanks blew. Paddock would have blown up the city. The Las Vegas sheriff said that Paddock could not have done this alone.\\nLas Vegas Strip shooter targeted aviation fuel tanks, source says\\n\\xa0Review Journal, October 4, 2017:\\nLas Vegas Strip mass murderer Stephen Paddock used his Mandalay Bay hotel room to spray massive aviation fuel tanks with bullets Sunday night, a knowledgeable source told the Las Vegas Review-Journal.\\nThe bullets left holes, but did not penetrate the two circular white tanks, sparing the nearby Route 91 Harvest country music festival from a potentially massive explosion, the source said Wednesday.\\nThe tanks are roughly 1,100 feet from the concert site, where Paddock killed 58 people and wounded almost 500.\\nWithin the past couple of days, construction crews repaired and painted the holes, and FBI agents inspected the tanks and took measurements of the line of fire from Mandalay Bay, the source said.\\nPaddock, a 64-year-old Mesquite resident, had broken two windows in his 32nd-floor suite — one in line with the concert site and the other with a direct view of the fuel tanks, the source said. The bases of private aircraft operators are close to the tanks.\\nFBI spokeswoman Sandra Breault declined to comment. “We can’t comment on an ongoing investigation,” she said late Wednesday.\\nPaddock’s shooting rampage was the deadliest in modern U.S. history. He killed himself as Las Vegas police closed in on his room.\\nPaddock was a retired accountant who had no criminal background and a passion for video poker. He lived in Mesquite with his girlfriend, Marilou Danley, and regularly came to the Las Vegas Strip to gamble.\\nhttps://pamelageller.com/2017/10/las-vegas-attacker-tried-blow-massive-aviation-fuel-tanks.html/\\nSituation Update: The World They Have Hidden From Us! Trump Sworn In! Scare Event Closer! DEFCON 3 For Middle East, Russia Will Move On Ukraine, NATO, US, China & Taiwan! - We The People Must Video'\n",
            " \"CNN — \\xa0\\nThe scene is terrifying – entire sections of a Mexico City office building fall away and crash to the ground. The screams of people reacting are almost worse.\\nThat moment, captured on cellphone video, shows just one of a number of buildings, from apartments to schools to governmental offices, that collapsed during the 7.1 magnitude quake that hit Mexico on September 19.\\n“I’ve seen that video,” says Mark Schlaich, vice president of engineering at Los Angeles-based Alpha Structural Inc. “It’s what we’re trying to prevent here.” Schlaich waves at the central Los Angeles multistory apartment complex he’s standing under, a pre-1978 wood-frame soft-story building – so-called because the first story is substantially weaker and more flexible than the stories above it, lacking walls or frames at the street level, usually reserved for parking spaces.\\nPhotos&colon; Deadly earthquake rocks central Mexico\\nYURI CORTEZ/AFP/AFP/Getty Images\\nRelatives of missing people wait for news in front of a collapsed building in Mexico City on Friday, September 22. A magnitude 7.1 quake\\nhit central Mexico three days earlier.\\nNatacha Pisarenko/AP\\nRescue workers search for survivors Thursday, September 21, at a collapsed apartment building in Mexico City.\\nPhotos&colon; Deadly earthquake rocks central Mexico\\nEduardo Verdugo/AP\\nA religious statue is salvaged from a former convent that was heavily damaged in Tlayacapan, Mexico. This was the second earthquake to hit Mexico in two weeks. A magnitude 8.1 quake\\nstruck off the country's southern coast on September 8.\\nEduardo Verdugo/AP\\nA wall is damaged at a home in Tlayacapan on Wednesday, September 20.\\nPhotos&colon; Deadly earthquake rocks central Mexico\\nVolunteers organize donations in Mexico City on September 20.\\nPhotos&colon; Deadly earthquake rocks central Mexico\\nMarco Ugarte/AP\\nRescuers in Mexico City work to save a child\\ntrapped inside the Enrique Rebsamen elementary school on September 20. Rescue workers said they believed they'd made contact with a girl trapped in the rubble at the school. But by the next afternoon, navy official Angel Enrique Sarmiento said all the school's children had been accounted for and there was no student in the rubble.\\nHe apologized for the confusion.\\nPhotos&colon; Deadly earthquake rocks central Mexico\\nRebecca Blackwell/AP\\nMen carry beams of wood to offer help in Mexico City's Roma neighborhood on September 20.\\nPhotos&colon; Deadly earthquake rocks central Mexico\\nRebecca Blackwell/AP\\nFamilies prepare to sleep under tarps outside their quake-damaged building in Mexico City on September 20.\\nPhotos&colon; Deadly earthquake rocks central Mexico\\nVICTOR GALINDO/AFP/Getty Images\\nRescuers and firefighters lower a corpse from a house in Mexico City on September 20.\\nPhotos&colon; Deadly earthquake rocks central Mexico\\nMiguel Tovar/AP\\nVolunteers and rescue workers search for people trapped inside the Enrique Rebsamen school on September 20.\\nPhotos&colon; Deadly earthquake rocks central Mexico\\nALFREDO ESTRELLA/AFP/Getty Images\\nA volunteer in Mexico City asks for silence as a flattened building is searched for survivors on September 20.\\nPhotos&colon; Deadly earthquake rocks central Mexico\\nGary Coronado/Los Angeles Times via Getty Images\\nMembers of the Mexican Army nap September 20 after assisting in search-and-rescue missions in Mexico City.\\nPhotos&colon; Deadly earthquake rocks central Mexico\\nEduardo Verdugo/AP\\nA man walks his bike past a partially collapsed building in Jojutla on September 20.\\nPhotos&colon; Deadly earthquake rocks central Mexico\\nRONALDO SCHEMIDT/AFP/Getty Images\\nVolunteers arrange food and other donated supplies at a distribution point in Mexico City on September 20.\\nPhotos&colon; Deadly earthquake rocks central Mexico\\nALFREDO ESTRELLA/AFP/Getty Images\\nChildren's toys are seen in a damaged building in Mexico City on September 20.\\nPhotos&colon; Deadly earthquake rocks central Mexico\\nPEDRO PARDO/AFP/Getty Images\\nA survivor is pulled out of rubble in Mexico City on September 20.\\nEduardo Verdugo/AP\\nPeople sleep on the street next to damaged homes in Jojutla on September 20.\\nPhotos&colon; Deadly earthquake rocks central Mexico\\nManuel Velasquez/Anadolu Agency/Getty Images\\nSoldiers remove debris from a collapsed building in Mexico City on September 20.\\nPhotos&colon; Deadly earthquake rocks central Mexico\\nMiguel Tovar/AP\\nAn injured person is carried away after being rescued in Mexico City on Tuesday, September 19. The earthquake happened on the anniversary of a 1985 quake that killed an estimated 9,500 people in and around Mexico City.\\nPhotos&colon; Deadly earthquake rocks central Mexico\\nRONALDO SCHEMIDT/AFP/Getty Images\\nRescue workers remove rubble from a Mexico City building on September 19.\\nPhotos&colon; Deadly earthquake rocks central Mexico\\nCarlos Cisneros/AP\\nRescue workers in Mexico City search for people trapped inside the collapsed Enrique Rebsamen school on September 19.\\nPhotos&colon; Deadly earthquake rocks central Mexico\\nRebecca Blackwell/AP\\nA man comforts a student outside a school in Mexico City on September 19.\\nPhotos&colon; Deadly earthquake rocks central Mexico\\nYURI CORTEZ/AFP/Getty Images\\nA police officer runs toward the site where a building collapsed in Mexico City on September 19.\\nPhotos&colon; Deadly earthquake rocks central Mexico\\nEduardo Verdugo/AP\\nRescue workers and volunteers search a collapsed building in Mexico City on September 19.\\nPhotos&colon; Deadly earthquake rocks central Mexico\\nPablo Ramos/AP\\nA man is rescued under rubble in Mexico City's Condesa area on September 19.\\nPhotos&colon; Deadly earthquake rocks central Mexico\\nMarco Ugarte/AP\\nA woman's crushed body hangs from a collapsed building in Mexico City on September 19.\\nPhotos&colon; Deadly earthquake rocks central Mexico\\nCourtesy Lior Sperandeo/CNN Exclusive\\nRecovery efforts take place at the collapse of a residential building in Mexico City on September 19.\\nPhotos&colon; Deadly earthquake rocks central Mexico\\nMiguel Tovar/AP\\nA search goes on at the scene of a collapsed building in Mexico City's Del Valle neighborhood on September 19.\\nPhotos&colon; Deadly earthquake rocks central Mexico\\nRONALDO SCHEMIDT/AFP/Getty Images\\nEmergency workers remove debris as they search for survivors in Mexico City on September 19.\\nPhotos&colon; Deadly earthquake rocks central Mexico\\nRebecca Blackwell/AP\\nPeople gather on a Mexico City street after office buildings were evacuated because of the quake.\\nPhotos&colon; Deadly earthquake rocks central Mexico\\nMarco Ugarte/AP\\nA woman in Mexico City cries as she tries to reach people on her cell phone after the quake.\\nPhotos&colon; Deadly earthquake rocks central Mexico\\nJose Mendez/EPA\\nPatients from a Mexico City hospital receive treatment outside after the hospital was evacuated on September 19.\\nPhotos&colon; Deadly earthquake rocks central Mexico\\nAlfredo Estrella/AFP/Getty Images\\nPeople remove debris off a building that collapsed in Mexico City.\\nPhotos&colon; Deadly earthquake rocks central Mexico\\nAlfredo Estrella/AFP/Getty Images\\nA car is crushed by debris in Mexico City on September 19.\\nPhotos&colon; Deadly earthquake rocks central Mexico\\nOmar Torres/AFP/Getty Images\\nA woman receives medical assistance after she was injured in Mexico City on September 19.\\nPhotos&colon; Deadly earthquake rocks central Mexico\\nRonaldo Schemidt/AFP/Getty Images\\nPeople stand inside a Mexico City building that collapsed in the quake.\\nAlpha Structural is retrofitting the apartment complex’s ground floor, installing much thicker steel beams and columns, rebar and heavier plywood.\\nMexico City’s numerous building collapses were a stark reminder of what’s to come in California. “Every 20-25 years, Los Angeles has been hit by a major earthquake,” says Schlaich. It has been 23 years since the 6.7 magnitude Northridge earthquake hit the city in 1994. “Statistically, it’s coming.”\\nReducing the number of buildings that might collapse\\nIn\\na 2008 study , the US Geological Survey found there’s a greater than 99% chance of a 6.7 magnitude quake or larger hitting the California area over the next 30 years. That type of quake along the San Andreas Fault in Southern California could kill an estimated 1,800 people, the study said, injure 53,000 and result in $214 billion in damage. California’s infrastructure could be crippled for weeks, if not months.\\nVideo Ad Feedback\\n03:33 - Source: CNN\\nEarthquake survivors describe the moment it hit\\nIn a stark recognition of those numbers, in October 2015, Los Angeles enacted the nation’s most sweeping seismic regulations, requiring about 14,000 buildings to be retrofitted so they will withstand violent shaking.\\nThe apartment building Alpha Structural is retrofitting is one of those city-identified vulnerable buildings. Schlaich points to a new steel column next to a clearly smaller, older column. The steel column goes 5 feet into the ground, plus 2 feet of additional concrete below it. “This column keeps the people alive, so the building won’t collapse,” explains Schaich. The only problem with the retrofitting in Los Angeles, say seismologists, is the expensive process is happening too slowly, expected to be complete in 2022.\\nOtto Greule Jr/Getty Images North America/Getty Images\\nBuildings were damaged after a 7.1 earthquake hit the in San Francisco area on October 17, 1989.\\nIn San Francisco, a similar city law for retrofitting soft-story buildings was enacted in 2013. Rolling out in four phases, San Francisco has seen compliance at near 99% for phase one and two, and above 85% for phase three, says Bill Strawn, spokesman for San Francisco’s Department of Building Inspection. The fourth and last phase of retrofitting the city’s soft-story buildings wraps in September 2018. Strawn says once complete, the building collapse rate substantially improves in San Francisco. “We go from an estimated 1 in 4 collapse rate of these nonretrofitted buildings during a quake to 1 in 30. And that’s with minimal retrofitting,” says Strawn.\\nThe 2008 study estimating damage at $214 billion was based on the state of buildings at that time, and efforts to retrofit buildings at the city level “undoubtedly change the statewide damage estimates,” says geophysicist Doug Given, who serves as the earthquake early warning coordinator for USGS.\\nDeveloping an early warning system\\nDouglas C. Pizac/AP\\nSections of freeway ramps collapsed during the Northridge earthquake on January 18, 1994.\\nThere is another tool that would save lives and reduce costs in an earthquake, one that Given calls “a no-brainer.”\\nThe Earthquake Early Warning system, as it’s called, is the best available technology to give seconds’ – at times, minutes’ – notice that an earthquake is coming.\\nIt would use seismometers buried underground to detect shaking crucial moments before it’s perceptible in all the areas that will experience the quake, and sensors distributed across the West Coast capture the data in real time.\\nThe most beneficial part of those 30-60 seconds, says CalTech engineering and seismology professor Tom Heaton, is simply the heads-up. Children can get under desks or move to safer areas of the school. Surgery can stop. Trains can come to a halt.\\n“This system is to provide as much information as is possible so you can make the best decisions during the earthquake,” says Heaton.\\nEduardo Verdugo/AP\\nA construction worker searches a building that collapsed after an earthquake in the Roma neighborhood of Mexico City on September 19.\\nIn the Mexico City quake, the early alert system warned people up to 30 seconds in advance that an earthquake was about to hit, allowing them to flee vulnerable buildings or move to safer areas.\\nMexico put its robust warning system into place after nearly 5,000 people died in the 1985 Mexico City quake. An early warning system has also been in place in Japan for decades. Today, cellphones and school alarms ring in unison when a quake is about to hit, a high-tech system installed after the Kobe earthquake in 1995.\\nBut in the United States, the early warning system is in development, stalled due to federal funding constraints. USGS says only 40% of the necessary sensors for the EEW system are in the ground.\\nHurdles stand in the way\\n“We only have two-thirds of the annual operating funds,” says Given. “We’re trying to build a system with that limited funding stream and will never get to a fully functioning system at this rate.”\\n“I can’t help but think of Mexico City, people killed by buildings and falling debris. … We don’t want to see the same situation here,” he says. “I fear we will regret we didn’t do this when we had the chance.”\\nUSGS and the CalTech Seismological Laboratory started research on the EEW in 2006 with a thin budget, relying on federal funding and some private donations. In 2012, they went live with a beta system, and earlier this year rolled out a pilot program to train systems and some utilities.\\nVideo Ad Feedback\\n01:38 - Source: CNN\\nWhy aren't earthquake warnings better?\\nThis year, underscoring the lack of national urgency for an EEW, the Trump administration initially budgeted nothing toward the USGS EEW system. Bipartisan demands by members of Congress tentatively restored the USGS EEW funding to $10.2 million for this year, although Congress has yet to vote on the budget. The state of California last year also allocated $10 million to developing the EEW system.\\nBut USGS says the EEW system will cost roughly $38 million to build and $16 million a year for operation and maintenance.\\n“It’s frustrating,” says Heaton. “If you look at other countries, they got the will and message after big and important earthquakes. We’d like to do it before that happens.”\\nHe points to the nation’s attention to other disasters and political priorities as one of the reasons for the slow rollout for the EEW system. As a result, he says, “we’re not ready.”\\nPEDRO PARDO/AFP/Getty Images\\nA man is pulled out of the rubble alive in Mexico City on September 20.\\nWhat Mexico's earthquake means for California\\nHeaton underscores what a 7.2 earthquake in Southern California would mean. “You’d see collapse of literally hundreds of older concrete frame buildings,” he says. “You’d see the collapse of many tall steel buildings built before 1995. We might even see collapse of today’s most modern tall buildings. It could be a very bad scenario. I honestly don’t want to live to see that day.”\\nMore than 100,000 people – even as many as 300,000 – could be displaced if a major earthquake were to hit Los Angeles, estimates Aram Sahakian, general manager for the Los Angeles Emergency Management Department.\\nAs cities and states try to prepare for the Big One, seismologists and city officials also recommend being prepared at a personal level.\\n“A major disaster, like a 7.2 earthquake, will overwhelm our resources,” says Sahakian. “You as a person, your family, and your neighborhood need to be prepared to get no response if you call 911. You need to be able to survive on your own for hours or days.”\"\n",
            " 'From the producer of the documentary\\nSuper Size Me ,\\xa0Morgan Spurlock now sets out to take on the strange new world of bitcoin and attempt to survive on nothing but the digital currency for a week.\\nWith a lot of misinformation and misunderstanding surrounding bitcoin these days…\\nhttp://documentaryheaven.com/living-on-bitcoin-for-week/'\n",
            " 'For more great articles like this visit http://www.fixthisnation.com\\nFresh off his well-publicized rants on health care, late night host Jimmy Kimmel decided he wasn’t going to stop there when it comes to being the new official spokesman for dumb liberal ideas. On his show Monday night, Kimmel launched into a screed on gun control, taking advantage of the Las Vegas massacre to promote a typically leftist view to his largely clueless audience.\\nAccording to Kimmel, the only reason we don’t have better gun control laws is that Republican politicians have their “balls” stuck in an NRA “money clip.”\\nOn politicians praying for the victims, Kimmel said: “They should be praying for God to forgive them, for letting the gun lobby run this country.”\\nKimmel said it was shameful the lengths to which the government would go after Islamic terrorists without doing anything about the proliferation of guns.\\n“When someone with a beard attacks us, we tap phones, we invoke travel bans, we build walls, we take every possible precaution to make sure it doesn’t happen again,” Kimmel said. “But when an American buys a gun and kills other Americans, there’s nothing we can do about it.”\\nFirst of all, where are these “walls” we supposedly built?\\nSecond, what exactly would Kimmel have us do about someone who makes a legal purchase and then uses that purchase to commit a crime? Especially when said purchase is specifically protected by the U.S. Constitution? Should we prosecute or kill the perpetrator? We do that. Should we beef up security protections? We do that. Should we train first responders on how to better handle mass casualty events? Check. We do that, too.\\nBut of course, Kimmel wants us to do something else – something he disingenuously claims is not “gun control.” He wants us to exercise “common sense.”\\n“Common sense says no good will ever come from allowing a person to have weapons that can take down 527 Americans at a concert,” he said.\\nWell, that same common sense would tell you that no one should be able to purchase the kind of fertilizer and diesel fuel that Timothy McVeigh used to kill more than a hundred people in Oklahoma City. (By coincidence…or not…the Las Vegas killer apparently had ammonium nitrate fertilizer in his vehicle). And yes, there’s no question that the figure Kimmel cites is tragic – that this entire event was tragic and sick and heartbreaking – but what is the “acceptable” number of Americans one should be able to kill at one time? 3,000? You can do that with airline tickets and box cutters. One? You can do that with a hammer. So let’s dispense with the talk about “common sense” and treat this as what it is: Another attempt on the left to enact laws that will infringe on freedom without doing ANYTHING to actually solve the problem.\\nFor more great articles like this visit http://www.fixthisnation.com Source:\\nhttp://www.fixthisnation.com/conservative-breaking-news/jimmy-kimmel-the-new-official-spokesman-for-dumb-liberal-ideas/'\n",
            " 'The original Blade Runner was set in the future of 2019. Today, 35 years after that now-classic movie appeared, its world hardly seems strange at all. Androids have popped up on screen everywhere, from Steven Spielberg’s underrated AI: Artificial Intelligence to Westworld. Video phones are common. The constant rain in the film seems like a forecast of the climate change that has deluged the globe with tragically strong hurricanes. How can a futuristic film outrun 2017’s reality?\\nThe film plays as if it’s three instalments of a franchise\\nDenis Villeneuve’s shrewdly calculated sequel, Blade Runner 2049, tries hard to evade that tricky problem, with a busy, distracting surface that cloaks an enduring theme about humanity.\\n- All the king’s men can’t save Kingsman\\nThe action is set in a sci-fi dystopia. Instead of focusing on the technology that led to that mess – a backstory seeps in, involving famine and a catastrophic data-destroying blackout – the film takes an issue planted in the original movie and makes it the sequel’s central, resonant mystery. Do memories make us human? If not, what does?\\nThere is a more overt mystery, of course. The sequel wisely borrows the original’s detective-in-dystopia premise, and even more wisely cast Ryan Gosling as Detective K. The all-but-human androids known as replicants, outlawed in the first film, have been replaced with spiffy new legal models. Like Harrison Ford’s Richard Deckard in the original, K is a Blade Runner charged with tracking down and eliminating out-of-date replicants.\\nAt two hours and 43 minutes, Blade Runner 2049 plays as if it were three installments of a franchise. Much of it is cautiously efficient, too protective of its legacy to invent something audaciously new. The first section builds the film’s fictional world. K leaves a more decrepit version of the old Blade Runner’s Los Angeles, tracking down a possible replicant. He finds Sapper Morton (Dave Bautista), a worm farmer -- worms are food in 2049 – and the film kicks off with a volatile fight scene. Someone goes flying through a wall. \\xa0\\nThe plot takes off during the film’s second hour\\nThat action seems like an obligatory way to grab viewers, but the world-building is more concerned with K at home. Waiting in his apartment is his girlfriend, Joi (Ana de Armas). She is part Siri, part Alexa, part Scarlett Johansson’s Samantha from Her. It would be good to know why one of her idealised iterations is a 1950s style housewife in heels and pearls, but we never find out. Those scenes effectively reveal K’s loneliness. They also play like echoes of Her rather than a knowing nod. Among the intentional nods: an unexpected allusion to Pinocchio.\\nThe plot takes off during the film’s second hour. K finds something buried under a tree at the worm farm. (Nothing in this earnest film encourages viewers to laugh at the idea of the worm farm, but go ahead.) The discovery sends K, on orders from his boss –Robin Wright, in stern commandant mode – on a quest to find the meaning of the object he has found.\\nBack to the future\\nAlong the way, he begins to question his own past and identity, roving through unsettling, half-grasped memories of childhood. Gosling is a master of understated acting, able to display a thought with a simple glance. His low-key intensity fits perfectly in a world with a shortage of human emotions on display. It says a lot about Gosling’s strengths that from the start he evokes warmth and sympathy in a pretty chilly film.\\nVilleneuve juggles action and theme with precision, and gracefully drops in information. Anyone unfamiliar with the original Blade Runner won’t be lost. Each scene is packed with so many small touches that the movie comes ready-made for fans to debate and analyse. K’s girlfriend call him Joe; Kafka’s Joseph K must be so proud. K’s flying car, an updated version of the original’s spinner, now comes with a detachable drone on the roof.\\xa0\\nBut the sequel can’t escape the fact that the strength and lasting influence of Ridley Scott’s original Blade Runner was its look: the midnight-blue light that played like a scrim over a rainy, neon-bright Los Angeles resembling Tokyo; the golden-yellow interiors that created a haunting aura for a jaundiced world.\\nThe sequel borrows the golden-yellow palette for some scenes. Overall, cinematographer Roger Deakins and production designer Dennis Gassner create a grim, ashy-grey world. Villeneuve shot a great deal on sets and locations in Hungary. The film may not be heavy with CGI, but it looks as though it is. That’s not a bad way to depict a blighted future, but the design is never as engaging as the gloriously rich original.\\nThe film makes very few actual missteps, but they exist. Jared Leto, wearing milky contacts as a blind genius and corporate tycoon who solved the food crisis, is pallid on screen, a stylised cliché.\\xa0 The music, by Benjamin Wallfisch and Hans Zimmer, can be intrusive, and is especially cloying at a moment when K makes an important discovery.\\nThe first two hours are missing something: Harrison Ford\\nBut there are many strong scenes that reveal the freshness the film could have used more of. K’s quest takes him to a dark, old-fashioned warehouse where orphaned children work on computer circuitry, a combination of Dickens and your worst fears about how your phone was made. He visits a soft-spoken young woman, isolated in a large plastic tent because of an immune deficiency. Her job is to manufacture memories to be implanted in replicants, and the emotional connection between her and K is lovely. \\xa0\\xa0\\nBut through the first two hours there is a nagging sense of something missing. Finally, K’s search leads him to Richard Deckard, the original Blade Runner, and Harrison Ford jolts the final 45 minutes or so, making the last stretch exceptional.\\nThe first film ended with Deckard on the run with his replicant girlfriend, Rachel. At least that’s the end in the Final Cut version, Scott’s preferred among several incarnations. All versions set off decades of speculation about whether Deckard himself was a replicant.\\nBut Ford doesn’t enliven the film for nostalgic reasons. He brings fierce, potent energy to the role, capturing Deckard’s suspicion of K, protectiveness about his past, and will to survive. \\xa0In a career of iconic roles, this is among his best.\\nFord also energizes Gosling’s performance. First tangling verbally, then with their fists, and eventually swerving into the film’s huge revelations, they call on every bit of their movie-star charisma, not in a tacky Oscar-baiting way but as actors who know how to hold a screen. It helps that Deckard lives in the film’s one witty location, an old casino where holograms of Elvis and Sinatra intermittently appear on the abandoned stage. The film’s most ingenious stroke also involves Ford. It’s possible to leave Blade Runner 2049 assuming you know whether Deckard is a replicant, only to look back and second-guess yourself.'\n",
            " 'I had a hard time finding a picture of Jason’s\\xa0face with the tattoo…this was the best I could find from an article posted on\\xa0E! just yesterday. You can see it from the side.\\nAnd now Mr. Aldean is one of the first people squealing about gun control… how convenient…\\nI did predict that, if I came here, there would be headlines about Las Vegas out the wazoo, declaring most everything from Bigfeets responsible to false flags to somehow related to Obama’s birth certificate, as if not to mention a peculiar perturbation in Pluto’s orbit. Of course, must see, stunning, monetized YouTube videos, perhaps one showing another shooter on the grassy knoll, very grainy and blurry, with Zionist Illuminati, and other 18th century Bavarian frat, NWO paid shills in the comments sections, sending people into a frenzy to vote down, disputing it’s another shooter, rather just exhaust from a transit bus, but we know that’s impossible, when FEMA is everywhere with rail cars, even where there are no railroad tracks.\\nSo, at this point we’ve at least resolved Las Vegas fits into every claim surrounding the JFK assassination? Can’t be a lone gunman? CIA involved? Elvis on the grassy knoll? Gunfire also coming from a nearby Taco Bell? It was all just 20,000 crisis actors? Do let me know when you guys reach diminishing returns, that is, click saturation, among the critical thinking and reality challenged.\\nYes! Yes! And you have the pyramid and floating Illuminati, as well as other sundry 18th century Bavarian frats, Zionist eyeball on dollar bills, just think about it: the Luxor hotel, rays shooting out of the eyeball, from high on the pyramid, the shooter’s eyeball? (Bone chilling, must see, monetized YouTube video forthcoming, deep secrets of the universe, for millennia, I Googled, plus altered Drudge and Zerohedge headlines, coming live from my mother’s basement, with bonus feature, “Reptilian Ophthalmologists! Is That a Contact Lens in the Illuminautical Dollar Bill Eyeball?”)\\nGot me 50 shades o’ scairt! No time for even a bugout bag inventory! Feet don’t fail me now!\\nThat really doesn’t seem relevant. I don’t know how you could attribute anything involving a diabolical mastermind to anybody with their cards tattooed on their arm. Even your run of the mill, criminal mastermind knows you hide your extra cards up your sleeve! Neither do I think proving somebody got really drunk and passed out at a tattoo parlor proves anything, especially somebody who specializes in singing songs about how their woman lied, their dog died, then their brain fried, ’cause now they’re a honky tonk wonk. But, by BIN standards, you have well proved your case of Illuminati, and other sundry 18th century Bavarian frats, involvement.\\nThat said, failure to coincidentally have a must see, monetized YouTube video, that has some answers to just what on earth you may be going on about, or not, truth be told (sorry, truth is a four letter word at BIN, literally four letter, to many), but, anyway, anything visual from a webcam, where you limit your vocabulary to no more than 300 of the most common words in the vernacular, and you shouldn’t let your head get cropped too many times, but lack of such a video does make your article beneath BIN’s high standards.\\nYou know, that’s one hell of a sun spot on his shoulder. You could use that pic again as undisputed proof, in an article warning of the earth being fried by a solar flare next September 23. Or you could simply do an article where the earth already fried last September 23, and use BIN being on peoples’ screens as proof positive they’re in hell. Be sure to add a must see video of somebody drunk, getting a tattoo.\\n2Thess 2:10..because they received not THE LOVE of the truth,… 11. And for this cause God shall send them strong delusion, that they should believe a lie:\\n123’s of true Christianity v popular & damnable heresies\\n#1 “ONE” not triune: ……PART 4 & 5 HOW MANY GODS ARE THERE FOR THE ONE GOD TO TALK TO?? Who was Jesus praying to??!?…. The real question should be … How does having multiple different persons keep this one God/being/entity from praying to himself?! (The trinitarian “schizophrenic” “god-head”) The Trinitarians want to have their cake and eat it too as the saying goes. On the one hand they need to say they only worship one indivisible God being/ entity but on the other hand they feel the need for some reason to keep Jesus or God from praying and talking to himself by dividing him up into different persons!?! It never occurs to them that that since there is only one indivisible God to pray too and Jesus is that indivisible God come in the flesh that he would need to talk to himself as to show us how to live, suffer, pray and die for our/ flesh) benefit not his!?!….. So while Trinitarians are quick to complain that God was not talking to himself at Christ baptism or in Gen “let us” they ignore the logical demands of their own theology! If Jesus is the ONE GOD in flesh and the Father is the SAME ONE GOD in heaven then Trinitarianism demands THE ONE GOD is talking to HIMSELF the same “being”! Claiming that God is multiple different persons as the reason for why God is not talking to himself (because God is three different “selfs”) only demonstrates that what they really worship is in fact not a ONE GOD who talks to himself but three different god “selfs”/ and they all talk to each other! When they speak about who God was talking and praying to, they are quick to say “the other person, NOT HIMSELF!” But if you ask them how many gods do they pray to then they will say “ONLY ONE”!?! They expect you to believe that those three different persons are THE ONE GOD-BEING” which is like calling three different cars “THE ONE VEHICLE” (they are text book examples of prov 26:12) Mark 12:28…Which is the first commandment of all? 29. …Hear, O Israel; THE LORD OUR GOD IS ONE LORD: 30. And ………..this is the first commandment….. 31. And the second is….. IF YOU CAN’T GET THIS “FIRST OF ALL COMMANDMENTS” RIGHT, ALL THE REST OF YOUR “FAITH” AND PREACHING ON LOVE & SIN IS MOOT\\nPART 6: THE ANTI CHRIST….WHERE? WHERE?….EVERYWHERE!!! …..IT”S YOU O TRINITARIAN! “WHO” it was (what person) that came “IN THE FLESH”, IS THE DETERMINING FACTOR IN WHAT IT MEANS TO BE “ANT-CHRIST”! Even Islam claims Jesus was the Jewish messiah/Christ who was to come in the flesh) they all deny “WHO” it was (what person) that came (to be the Christ) in the flesh!?!…….To deny the father is to deny the son because they are one and the same person that came in the flesh! JOHN 14: 8-20 ….Note Isaiah 9:6. For unto us a child is born, unto us a son is given: …: and his name shall be called Wonderful, Counseller, … the everlasting Father ….The son, father/Holy Spirit are all the same person, NOT like two different persons working together even as “one flesh” ….The “oneness” between Christ and the father is not comparable to a man & his wife, for only a fool would say “When you have seen me you have seen my wife, how sayest thou then, Shew us your wife?” Notice they asked to see THE FATHER and the response was Jn 14:9 ..“HAVE I BEEN SO LONG time with you, and yet hast THOU NOT KNOW ME, Philip…..Now image some fool trying to claim that statement if you asked to see his wife!?!!? You want to see the FATHER but have I been with you but you don’t know me!?!?! Jn 14 continued….…………..17. Even THE SPIRIT OF TRUTH; (Jn 14:6 I AM the way, THE TRUTH,) whom the world cannot receive, .. for HE DEWLLETH WITH YOU, (present tense/standing next to them in the flesh) and SHALL BE IN YOU… (future tense “In them”) 18. I will not leave you comfortless: I WILL COME TO YOU (future tense “In them”) Note: The spirit of Christ is the sprit of God and the holy spirit that is why Christ said “I will come to you” (to comfort them, because Christ is the comforter). The spirit was standing next to them in flesh… ….latter it would come to them to be inside of them (inside of their flesh as the spirit we are given)…..that is why. he would send the spirit…… However, Jesus himself here makes the point that the same person who was the HOLY SPIRIT that would come was standing next to them but lets them know “I will come to you again to be Inside of you” The whole point to Gal 3:20.a mediator is NOT A MEDIATOR OF ONE, (HEIS) but GOD IS ONE. (HEIS) again, point blank, identifies the number of persons of God! The “but” points out the contrast between multiple persons in a mediation party v the “one” of God. God is not like a mediation party with multiple different persons. …..”the express image of his person” ( the person of God; singular not plural).Any attempt to lay claim otherwise is willful ignorance and delusional nonsense TRINITARIANS CONFESS JESUS /THEY ARE NOT POLYTHEIST BUT ARE MONOTHEIST LIKE A LIAR & THIEF WHO “CONFESS” THEY DO NOT LIE OR STEAL The simple fact is that just because you confess or deny that you are in an adulterous relationship and denounce all forms of adultery has nothing to do with whether or not it is in fact adulterous! .. …A rose by any other name is still just a rose AND calling it a water lily does not change the definition of what a water Lilly or a rose is either!…No, Trinitarians confess & preach literally …”ANOTHER JESUS” 2 Cor 11:4 - Like a thief in your house caught stealing your things insisting he was not there stealing “I CONFESS I am NOT stealing”. You just do not “properly understand” what he is doing/saying. Further, since you never had a “proper understanding” of what he is doing/saying you have no business accusing him since you do not even know what you are talking about in the first place. It is with and in your own ignorance that you base your “false accusations” & “ad homonym attacks” against him…… Ridiculous of course it is ……2Thess 2:11; Titus 1:16; 2Tim 3:5; …… should have given you a hint, harking back to Satan in The garden…God said you will die…Satan comes along and states no you will be more WISE……today .God said He is one; but Satan’s children come along and say no three is more WISE and humble in the face of God’s grandeur only “a mystery” that can be understood “in faith”. God uses head and right arm to explain the distinctions between father and son.. However, the Trinitarian heretics say to the effect: “NO, that is just a figure of speech, or that is not what God really means. What God is really saying is that God is three different persons”. Fools, hypocrites and blind guides, God said he was One and by your traditions and vain imaginations have taken the words of God and made them of no effect, refashioning God into your image! You can download the complete FREE book from\\nhttps://www.scribd.com/doc/305367608/The-Trinity-Heresy OR\\nhttps://www.academia.edu/23463667/THE_TRINITY_HERESY or\\nhttp://www.globethics.net/gtl/10920799 THE TRINITY HERESY\\n#2 SECOND COMING Thou Fool! “I come quickly” so “Hold fast till i come”… NOT …“in another 2000 yrs I might be coming soon any time now, so hold fast”!?! …those that deny the second coming of Christ in the war of AD70 are practicing a damnable heresy in denying the lord that bought them ( 2Peter 2:1-2 ;2Tim 4:8/ you cant love an appearing you deny& the context is the 2nd coming not the first)… Mat 7:23..”I NEVER KNEW YOU” …..Mat 10:33. But whosoever shall deny me before men……..sound familiar?…. If I said I am coming to your house in this generation when these things happen but no one knows the day or hour what fool would think I might be coming in 2000 years latter!?!? ..2 Tim 4: 4. And they shall turn away their ears from the truth, and shall be TURNED UNTO FABLES.\\nChrist promised that only HIS PEOPLE would see him ….John 14:19. Yet a little while, and THE WORLD SEETH ME NO MORE;….. [2 Cor 5:16 Wherefore henceforth know we no man after the flesh: yea, though we have known Christ AFTER THE FLESH, yet NOW HENCEFORTH KNOW WE HIM NO MORE….(here the Context of John 14 is his second coming)…..continued…..but ye see me: because I live, ye shall live also. 20. AT THAT DAY .. 21. He that hath my commandments, and KEEPETH THEM, he it is that loveth me: and he that loveth me shall be loved of my Father, and I will love him, and WILL MANIFEST MYSELF TO HIM……(again taking note “as he is” or 1Jn 3:2)\\n22. Judas saith unto him, not Iscariot, Lord, HOW IS IT THAT THOU WILT MANIFEST THYSELF UNTO US AND NOT UNTO THE WORLD? 23. Jesus answered and said unto him, If a man love me, HE WILL KEEP MY WORDS: and my Father will love him, and we will come unto him, and make our abode with him.( Rev 3:20) 24. He that loveth me not.. (1Cor 16:22)…. KEEPETH NOT MY SAYINGS: ( REV 9:16-20)\\nREVELATION 1:7. Behold, HE COMETH WITH CLOUDS; and EVERY EYE SHALL SEE HIM, …. There are two point to be made here (1) this is a partial quote from OT (Zech 12:2&10; also note Rev 16:15-17 & Zech 14:1-3 with Joel 2:28-3:1,2,12,16 et al) note the context it IDENTICAL to Mat ch 24/ Lk 21/ Mark 13 et al….you know, where Jesus described his second coming with the destruction of Jerusalem!?!?!!?…. (2) there parallel here with ………….Exodus 24:10. And THEY SAW THE GOD OF ISRAEL : and there was under his feet as it were a paved work of a sapphire stone, and as it were the body of heaven in his clearness. 11. And upon the nobles of the children of Israel he laid not his hand: also THEY SAW GOD, and did eat and drink………..But Christ said….. John 1:18. NO MAN HATH SEEN GOD AT ANY TIME; the only begotten Son, which is in the bosom of the Father, he hath declared him. A person can see with their understanding and or see with their eyes…. It can see “seen” for certain that everything that Christ described was seen by the folks of that day in His coming but do they perceive that was him? …So what Christ said is true every eye saw him but the world does not see him….. With the eye they and folks still today can see everything Christ described to have taken place, but they do not “keep” ( believe and understand) his words as such they do not see him nor shall they ever.\\nThe saints who have physical died faithful in the flesh (every man in his own order) are changed in the blink of an eye & caught up to sit on that Great white throne ( this congregation of the saints is the body of Christ that folks will answer to at the judgment and these saints will judge all men who cannot see Christ along with the rest of the world……Folks think they are waiting to see Jesus but they will NEVER see Jesus himself they will only see the body of Christ condemn them the saints judge the world (Rev 3:21; 1 Cor 6:2 et al) the saints are the body of Christ…that is the only part of Christ they shall see….only the saints shall see God face to face…..most peoples idea of the second coming & day of the Lord and the judgment is completely wrong\\nhttps://www.scribd.com/doc/305366745/Revelation-the-First-Gospel-of-the-Kingdom or\\nhttp://www.globethics.net/gtl/5455069 Revelation The First Gospel of The Kingdom or\\nhttps://www.academia.edu/23464127/REVELATION_THE_FIRST_GOSPEL_OF_THE_KINGDOM\\nDAY OF THE LORD”/ YEAR OF THE LORD – does NOT last for 24 hours!?!..Also means the day of resurrection & judgment do not last for one hour or one day either! They only begin (NOT END) in a certain hour & on a certain 24 hour day ….”SUN OF RIGHTEOUSNESS to arise”…..NOT..”come & get (your new resurrected body) it while it is still hot, only 24 hours of solar power left”!?!\\nhttps://www.scribd.com/doc/308485609/Day-of-Lord-Not-24-Hours-I-Come-Quickly\\n2Thess 2: 11. And for this cause God shall send them strong delusion, that they should believe a lie: 12. That they all might be damned …\\nhttps://www.scribd.com/doc/305366745/Revelation-the-First-Gospel-of-the-Kingdom or\\nhttp://www.globethics.net/gtl/5455069 Revelation The First Gospel of The Kingdom or\\nhttps://www.academia.edu/23464127/REVELATION_THE_FIRST_GOSPEL_OF_THE_KINGDOM 978-1-4907-0590-3 (SC ISBN)\\n#3 There is a sharp contrast between THREE groups : (1) “PREDESTINED DAMNED” who were NEVER written in the book of life ………..Rev 17: 8 WHOSE NAMES WERE NOT WRITTEN IN THE BOOK OF LIFE FROM THE FOUNDATION OF THE WORLD, …as contrasted …EPH 1: 4. According as he hath CHOSEN US in him BEFORE THE FOUNDATION OF THE WORLD (2) “MANY CALLED”= ONLY and ALL SAINTS (those who come to Christ) are written in the book of life … Philippians 4:3… ……Rev 21:27; (Only saints are Called and elect; Rom 1:6-7 et al) This is THE CHRUCH and ONLY these can have their names blotted out of the book of life ….….Heb 12:23 to the general assembly and CHURCH of the firstborn … WHICH ………are WRITTEN in heaven, (3) THE FEW CHOSEN: Those saints who were alive in group #2 who are now physically dead. They died “faithful” these are the FEW that were chosen faithful…….Rev 3:5. ……; and I will not BLOT OUT HIS NAME OUT OF THE BOOK OF LIFE, (Ps 69:28) …. These are the FEW that are CHOSEN and now that they have died and are saved then “once saved THEY CAN NEVER BE LOST” Predestination….its true..its all true…download here\\nhttps://www.scribd.com/doc/306868420/Most-True-Christians-Go-to-Hell\\nhttp://www.globethics.net/gtl/10920800 Most true Christians go to hell\\nhttps://www.academia.edu/25217564/Most_True_Christains_Go_to_Hell'\n",
            " 'Use the drop down lists to choose any two members of the Top 100 European Innovative Universities, and view side-by-side details about each institution.\\nAll data is provided by Clarivate Analytics. & Science unless otherwise noted.\\nTOTAL PATENTS FILED\\nTotal Patents Filed refers to the number of basic patents (patent families) filed by the Institution between 2010 and 2015.\\nPatents Granted refers to the ratio of patents filed by the Institution between 2010 and 2015 that were subsequently granted by patent offices.\\nCommercial Impact is an indicator of how often basic research originating at an Institution has influenced commercial R&D activity, as measured by academic papers cited in patent filings.'\n",
            " 'As Ms. Price, 34, rummaged in her leopard-print clutch for cash, she noted that she too used to wait tables, and once played gigs at this establishment. In fact, it hasn’t been that long since Ms. Price and her musician husband, Jeremy Ivey, were working long shifts slinging beers, scooping popcorn, installing siding.\\nMs. Price has emerged at a moment when there’s much interest in the divide between the Nashville establishment and high-profile insurgents like\\n“I always feel like a chameleon,” Ms. Price explained, “and that’s why I love David Bowie so much. He never stayed the same. He reinvented himself. People that have longevity in their careers, many times they are reinventing themselves.”\\nIt was never a given that Ms. Price would have a chance to test her ideas about building a lasting audience. As she put it, “The struggle is who I am.” She survived untrustworthy managers — like the one in her song\\n“This Town Gets Around,” who she said tried to get her drunk and take advantage of her — and a deadbeat publicist who collected a fee for work never done. She made an elaborate, and ultimately futile, effort to pitch an album by her boogie rock horn band,\\nBuffalo Clover , to Jack White’s Third Man Records by hand-delivering weekly packages of riddles and oddities.\\n“I think all that strife, it kind of helped me and Margo both break down the barrier of caring what people thought about what we were doing,,” Mr. Ivey said.\\nThe couple had twins, then lost one to a rare heart ailment in 2010. Ms. Price dealt with the loss, along with feelings of professional failure, by self-medicating with alcohol. Over the years, she and Mr. Ivey hocked a house’s worth of prized gear and personal possessions to buy food, cover touring expenses and record “Midwest Farmer’s Daughter” at Sun Studio in Memphis.\\n“It kind of felt like there was the symbolism of it: We’re willing to put up the car, the wedding ring,” she said. “We would rather have this album exist out here, even if nothing would have happened to it. Maybe 20, 30 years down the road, or after I’m dead, somebody would find it and it would become a cult thing like\\nThe involvement of Third Man turned heads, and buzz morphed into bankable popularity and institutional recognition. She was booked on “Saturday Night Live,” then on a\\nChris Stapleton tour; won Emerging Artist of the Year at the Americana Awards; saw her prairie hometown Aledo, Ill., erect a sign declaring itself “Home of Country Music Stars Suzy Bogguss and Margo Price”; and lent the dress she wore on “S.N.L.,” along with an old guitar and strap, to an exhibition at the Country Music Hall of Fame and Museum.\\n“That was surreal,” she said of watching the curators treat her clothes like artifacts. “I was like, ‘So you guys want to put this in a shiny glass case, and it’s just laying on my dresser collecting dust?’”\\nThe success of her debut allowed Ms. Price a comparatively leisurely recording process at the newly refurbished Sam Phillips Recording for its follow-up. She varies her singing approach, here projecting a note with the blazing, bell-like clarity of Neko Case, there summoning her voice’s sweeter, more lilting qualities. “If the groove wasn’t sitting exactly the way we wanted or we couldn’t get the vibe right,” she recalled, “it was like, ‘Well, there’s no stress. Let’s go eat some ribs and then come back and play it again.’”\\nMr. Ivey played guitar and bass on the album and wrote seven of the songs with Ms. Price and one alone, but he stepped away from full-time touring when a finger injury sidelined him last year. Now he typically stays home with their son, Judah, a role she called “every bit as important as mine,” although outsiders haven’t always agreed — giving her more fuel for songs.\\nWriting “Wild Women,” “I was at a point where I was so tired of being asked those same questions that I didn’t think were fair,” she said. “Like, ‘I bet you feel a lot of guilt leaving your kid at home.’ Would you ask a man that? No, you would not.”\\nIn “Pay Gap,” Ms. Price reckons with the income disparities that women and minorities still face. In “Heart of America” and the title track she shifts from detailing the loss of her family’s farm to telling the stories of others who have been victims of the system. She said she tried to get the exact story of what happened from relatives, “But it’s so complicated and the farming industry has so many layers.”\\nMs. Price has surrounded herself with a team that supports her speaking her mind. “None of us are trying to edit her or to temper anything that she has to say,” said Ian Montone, the manager she shares with Mr. White. “It’s her music. Those are her songs. When it comes to her writing, [we’re] really not trying to edit or say, ‘Hey, look, mainstream country radio won’t play this song if you talk about this. You might want to be conscious of that.’ No way.”\\nThe barriers are sonic too, said Jim Asker, the country charts manager for Billboard. “If you listen to country radio, that’s just not where it’s at right now,” he said of Ms. Price’s sound. “If you ask programmers who are aware of her, they might tell you, ‘Oh, she’s an Americana artist.’” He added that hit country singles are the results of “a lot of setup at radio,” which requires considerable promotional muscle.\\nAfter briefly experiencing the gauntlet of glad-handing that is a country radio tour, Ms. Price had concluded, “This isn’t working.” But “Midwest Farmer’s Daughter” made her the first solo female act to debut in the Top 10 of the Billboard country albums chart without ever having landed a single on the Hot Country Songs chart.\\nMs. Price has found it far more comfortable currying favor with a more nonconforming power broker: Willie Nelson. He’s invited her to open shows and to play both his annual Fourth of July picnic and Farm Aid, the long-running benefit concert for family farmers he co-founded. He’s also her jazzily wayward duet partner and guest guitarist on “Learning to Lose,” and her most immediate model for building a variegated body of work on a country foundation.\\nMs. Price with her duet partner Willie Nelson in September.\\n“She’s an amazing talent,” Mr. Nelson said in an interview, adding that he listened to Ms. Price’s show before his own set several nights in a row, “and she was just nailing everything, knocking it out. The fact that she wanted me to do a duet with her is a great compliment.”\\nRegardless of where the new album lands her, Ms. Price isn’t inclined to take her groundedness for granted. She’s been doing her best to stay plugged into the bohemian East Nashville scene where she’s long found kindred spirits among musicians who thrive on refracting the city’s music history through the recalcitrance of indie rock and idealism of folk. One night, she sang three songs at the Grand Ole Opry, then jumped in her Ford F-150 and sped over to a tiny rock club to participate in a Neil Young tribute with friends.'\n",
            " 'For more great articles like this visit http://www.fixthisnation.com\\nYou probably can’t boil Donald Trump’s election victory last year down to any one specific issue, but if you could, you’d be hard pressed to name anything other than immigration. It was on this issue that Trump recognized what his fellow Republicans – to a large extent – could not or would not: That the unrestrained acceptance of illegal immigrants and refugees from dangerous countries around the world would mean certain doom for our country. Maybe not tomorrow or the day after, but very soon. And for proof of that fact, one need only look across the sea to Germany, France, and other European nations who realized too late what Muslim immigration had done to their communities.\\nEven in an environment where terrorist attacks have become commonplace, of course, globalist leaders like Angela Merkel refuse to take concrete steps to protect their countries. That is why, despite Merkel’s re-election last week, Germany put AfD party representatives in parliament for the first time. The far right is gaining steam in Germany, and there can be no doubt as to why. Citizens, “liberal” as they may be in regards to many other issues, see all too clearly that the people they’re letting into their country do not share their values. Even those who would not dream of bombing a concert hall want to implement restrictions on speech, women, and other Western liberties.\\nLast week, in a move that invited predictable criticism from the United Nations and the liberal media – the very same critics who think everything is just peachy in Europe – President Trump signed two orders that will prevent the U.S. from repeating our allies’ mistakes. The first, an update of the travel ban that expired last month. The new ban drops Sudan from the list of banned countries and adds Chad, North Korea, and – to a limited extent – Venezuela. The second, a new limit on the number of annual refugees the U.S. will take in. The old limit, in excess of 100,000, has been dropped in favor of a 45,000 individual cap. The actual number, given the increased vetting promised by this administration, could turn out to be much lower.\\nIn his speech to the UN last month, President Trump outlined the reasons why limiting refugee acceptance was not only crucial, but sensible from a humanitarian standpoint.\\n“Over the long term, uncontrolled migration is deeply unfair to both the sending and the receiving countries,” he said. “For the sending countries, it reduces domestic pressure to pursue needed political and economic reform, and drains them of the human capital necessary to motivate and implement those reforms. For the receiving countries, the substantial costs of uncontrolled migration are borne overwhelmingly by low-income citizens whose concerns are often ignored by both media and government.\\n“For the cost of resettling one refugee in the United States, we can assist more than 10 in their home region,” Trump continued. “Out of the goodness of our hearts, we offer financial assistance to hosting countries in the region, and we support recent agreements of the G20 nations that will seek to host refugees as close to their home countries as possible.”\\nCritics of the Trump administration paint the new policies as coldhearted, racist, and antithetical to the spirit of America. They couldn’t be more wrong. The hard truth is that the U.S. is only a beacon of freedom, might, and wealth to the world as long as we maintain our strength. It does no one any good – except the Islamists and the socialists – for our country to go down with the ship. And as long as we have President Trump in the White House and a grassroots movement dead-set against turning this country into just another liberal nation of fools, the U.S. will stand strong and tall while the rest fall.\\nFor more great articles like this visit http://www.fixthisnation.com Source:\\nhttp://www.fixthisnation.com/conservative-breaking-news/trump-takes-bold-action-to-save-u-s-from-europes-tragic-fate/'\n",
            " 'Donn Marten -\\nVice President Mike Pence was to have attended today’s National Football League game between the Indianapolis Colts and San Francisco 49ers but chose to leave after several players chose to use his presence to make an anti-American political statement.\\nCDN – http://www.conservativedailynews.com\\nThe Colts were to have honored longtime player and future Hall of Fame quarterback Peyton Manning during a ceremony but while the home team respected the flag by standing, the actions of the opposing San Francisco 49ers were seen as sufficiently disrespectful to the Veep that he departed the venue before kickoff.\\n11:43 AM – Oct 8, 2017\\nAs reported by Indianapolis Fox affiliate Fox 59\\xa0\\n“VP Mike Pence leaves Colts game because 49ers players knelt during anthem” :\\nVice President Mike Pence decided to leave the Indianapolis Colts game Sunday because some 49ers players knelt during the national anthem.\\nIn a tweet, the former Indiana governor said “I left today’s Colts game because @POTUS and I will not dignify any event that disrespects our soldiers, our Flag, or our National Anthem.” Minutes after that tweet, his office released a full statement.\\n“I left today’s Colts game because President Trump and I will not dignify any event that disrespects our soldiers, our Flag, or our National Anthem. At a time when so many Americans are inspiring our nation with their courage, resolve, and resilience, now, more than ever, we should rally around our Flag and everything that unites us. While everyone is entitled to their own opinions, I don’t think it’s too much to ask NFL players to respect the Flag and our National Anthem. I stand with President Trump, I stand with our soldiers, and I will always stand for our Flag and our National Anthem.”\\nIt was announced Friday that Pence would attend the game with the second lady. The game is special, because Peyton Manning’s jersey will be retired at halftime and he will be inducted into the Ring of Honor.\\nBefore the game, he tweeted that he was looking forward to honor “the great career of #18 Peyton Manning.”\\nPence’s actions will no doubt be seized on by those who have polluted the NFL with their racial grievances and hatred of President Trump as “proof” that he stands for white supremacy and Nazism but he was dead right to leave and many of the other fans in attendance should have done so as well instead of being subjected to the politics of radical leftist racial grievance mongers that have driven the league’s popularity to historic lows.\\nThe Vice President expressed the following via Twitter:\\n@Colts \\xa0- for our soldiers, our flag, and our National Anthem\\xa0\\nReplying to @VP\\nWhile everyone is entitled to their own opinions, I don’t think it’s too much to ask NFL players to respect the Flag and our National Anthem\\nI stand with\\xa0\\n@POTUS \\xa0Trump, I stand with our soldiers, and I will always stand for our Flag and our National Anthem.\\xa0\\npic.twitter.com/B0zP5M41MQ\\nI left today’s Colts game because\\xa0\\n@POTUS \\xa0and I will not dignify any event that disrespects our soldiers, our Flag, or our National Anthem.\\n11:08 AM – Oct 8, 2017\\nPence was formerly the Governor of Indiana.\\nIt’s just what the NFL needed too, even\\xa0 more \\xa0negative publicity before the early games even kicked off.\\nVice President Mike Pence Leaves NFL Game Because of Anti-American Protests is original content from\\nConservative Daily News –\\nConservative Daily News – Where Americans go for news, current events and commentary they can trust.\\nCDN – http://www.conservativedailynews.com\\nhttps://www.conservativedailynews.com/2017/10/vice-president-mike-pence-leaves-nfl-game-anti-american-protests/'] \n",
            "____________________________________________________\n",
            "\n"
          ]
        }
      ]
    },
    {
      "cell_type": "markdown",
      "metadata": {
        "id": "HmJj-F78biVq"
      },
      "source": [
        "Дальше объединяем датафрейм со строками и найденные признаки и получаем итоговый датафрейм с необработанными данными"
      ]
    },
    {
      "cell_type": "code",
      "metadata": {
        "id": "n86vfRJRciR4"
      },
      "source": [
        "# spis=[]\n",
        "# for i in range(len(df)):\n",
        "#   sss=urlpars(df['URLs'][i])\n",
        "#   spis.append(sss)"
      ],
      "execution_count": null,
      "outputs": []
    },
    {
      "cell_type": "code",
      "metadata": {
        "id": "toeFEBubqw_J"
      },
      "source": [
        "# results = Extractor().extract(raw_html)\n",
        "# results['rawDate']"
      ],
      "execution_count": null,
      "outputs": []
    },
    {
      "cell_type": "code",
      "metadata": {
        "id": "nm0Pk795quGl"
      },
      "source": [
        "# raw_html = requests.get('http://www.bbc.com/news/world-us-canada-41419190').text"
      ],
      "execution_count": 26,
      "outputs": []
    },
    {
      "cell_type": "code",
      "metadata": {
        "id": "v2jwxWjqgMkt"
      },
      "source": [
        "# raw_html = requests.get('https://www.bbc.com/russian/features-59514414').text\n",
        "# results = Extractor().extract(raw_html)\n",
        "# print(results.items())\n",
        "# # for key, value in results.items():\n",
        "# #   print(key)\n",
        "# #   print(value)\n",
        "# #   print('---------------------')\n",
        "      \n"
      ],
      "execution_count": null,
      "outputs": []
    },
    {
      "cell_type": "code",
      "metadata": {
        "id": "0odwouAv4NYo"
      },
      "source": [
        "# df1 = df.drop(24, axis = 0).reset_index().drop(columns = ['index'], axis = 1)"
      ],
      "execution_count": 80,
      "outputs": []
    },
    {
      "cell_type": "code",
      "metadata": {
        "id": "j9MN1nJfzd7c"
      },
      "source": [
        "# parsed_features = []\n",
        "# features_names = ['hostname', 'sitename', 'rawDate', 'title', 'content']\n",
        "\n",
        "# url = requests.get(df1['URLs'][493]).text\n",
        "\n",
        "# # print(i, '\\t', df['URLs'][i])\n",
        "# features = []\n",
        "# ft = Extractor().extract(url)\n",
        "\n",
        "# features.append(ft['hostname']) if 'hostname' in list(ft.keys()) else features.append('')\n",
        "# features.append(ft['sitename']) if 'sitename' in list(ft.keys()) else features.append('')\n",
        "# features.append(ft['rawDate']) if 'rawDate' in list(ft.keys()) else features.append('')\n",
        "# features.append(ft['title']) if 'title' in list(ft.keys()) else features.append('')\n",
        "# features.append(ft['content']) if 'content' in list(ft.keys()) else features.append('')\n",
        "# # ft\n",
        "# # print(list(ft.keys()))\n",
        "\n",
        "# parsed_features.append(features)\n",
        "# df_parsed_features = pd.DataFrame(parsed_features, columns= features_names)"
      ],
      "execution_count": null,
      "outputs": []
    }
  ]
}