{
  "nbformat": 4,
  "nbformat_minor": 0,
  "metadata": {
    "colab": {
      "name": "анализ_текста_новости.ipynb",
      "provenance": [],
      "collapsed_sections": []
    },
    "kernelspec": {
      "name": "python3",
      "display_name": "Python 3"
    },
    "language_info": {
      "name": "python"
    }
  },
  "cells": [
    {
      "cell_type": "code",
      "metadata": {
        "id": "BIOYObdwtC9Z"
      },
      "source": [
        "import pandas as pd"
      ],
      "execution_count": 4,
      "outputs": []
    },
    {
      "cell_type": "code",
      "metadata": {
        "colab": {
          "resources": {
            "http://localhost:8080/nbextensions/google.colab/files.js": {
              "data": "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",
              "ok": true,
              "headers": [
                [
                  "content-type",
                  "application/javascript"
                ]
              ],
              "status": 200,
              "status_text": ""
            }
          },
          "base_uri": "https://localhost:8080/",
          "height": 74
        },
        "id": "JUT7hOtbv2rG",
        "outputId": "3dc4a236-4f49-4b92-ce38-5c60af56b9da"
      },
      "source": [
        "from google.colab import files\n",
        "uploaded = files.upload()"
      ],
      "execution_count": 5,
      "outputs": [
        {
          "output_type": "display_data",
          "data": {
            "text/html": [
              "\n",
              "     <input type=\"file\" id=\"files-60ecffb3-fd9d-4d39-913e-b657e16b1ca8\" name=\"files[]\" multiple disabled\n",
              "        style=\"border:none\" />\n",
              "     <output id=\"result-60ecffb3-fd9d-4d39-913e-b657e16b1ca8\">\n",
              "      Upload widget is only available when the cell has been executed in the\n",
              "      current browser session. Please rerun this cell to enable.\n",
              "      </output>\n",
              "      <script src=\"/nbextensions/google.colab/files.js\"></script> "
            ],
            "text/plain": [
              "<IPython.core.display.HTML object>"
            ]
          },
          "metadata": {}
        },
        {
          "output_type": "stream",
          "name": "stdout",
          "text": [
            "Saving data.csv to data (1).csv\n"
          ]
        }
      ]
    },
    {
      "cell_type": "code",
      "metadata": {
        "colab": {
          "base_uri": "https://localhost:8080/",
          "height": 423
        },
        "id": "APqJdU3_wIxY",
        "outputId": "d979880b-b45c-4938-ff9c-662d151b223a"
      },
      "source": [
        "df = pd.read_csv(\"data.csv\")\n",
        "df"
      ],
      "execution_count": 6,
      "outputs": [
        {
          "output_type": "execute_result",
          "data": {
            "text/html": [
              "<div>\n",
              "<style scoped>\n",
              "    .dataframe tbody tr th:only-of-type {\n",
              "        vertical-align: middle;\n",
              "    }\n",
              "\n",
              "    .dataframe tbody tr th {\n",
              "        vertical-align: top;\n",
              "    }\n",
              "\n",
              "    .dataframe thead th {\n",
              "        text-align: right;\n",
              "    }\n",
              "</style>\n",
              "<table border=\"1\" class=\"dataframe\">\n",
              "  <thead>\n",
              "    <tr style=\"text-align: right;\">\n",
              "      <th></th>\n",
              "      <th>URLs</th>\n",
              "      <th>Headline</th>\n",
              "      <th>Body</th>\n",
              "      <th>Label</th>\n",
              "    </tr>\n",
              "  </thead>\n",
              "  <tbody>\n",
              "    <tr>\n",
              "      <th>0</th>\n",
              "      <td>http://www.bbc.com/news/world-us-canada-414191...</td>\n",
              "      <td>Four ways Bob Corker skewered Donald Trump</td>\n",
              "      <td>Image copyright Getty Images\\nOn Sunday mornin...</td>\n",
              "      <td>1</td>\n",
              "    </tr>\n",
              "    <tr>\n",
              "      <th>1</th>\n",
              "      <td>https://www.reuters.com/article/us-filmfestiva...</td>\n",
              "      <td>Linklater's war veteran comedy speaks to moder...</td>\n",
              "      <td>LONDON (Reuters) - “Last Flag Flying”, a comed...</td>\n",
              "      <td>1</td>\n",
              "    </tr>\n",
              "    <tr>\n",
              "      <th>2</th>\n",
              "      <td>https://www.nytimes.com/2017/10/09/us/politics...</td>\n",
              "      <td>Trump’s Fight With Corker Jeopardizes His Legi...</td>\n",
              "      <td>The feud broke into public view last week when...</td>\n",
              "      <td>1</td>\n",
              "    </tr>\n",
              "    <tr>\n",
              "      <th>3</th>\n",
              "      <td>https://www.reuters.com/article/us-mexico-oil-...</td>\n",
              "      <td>Egypt's Cheiron wins tie-up with Pemex for Mex...</td>\n",
              "      <td>MEXICO CITY (Reuters) - Egypt’s Cheiron Holdin...</td>\n",
              "      <td>1</td>\n",
              "    </tr>\n",
              "    <tr>\n",
              "      <th>4</th>\n",
              "      <td>http://www.cnn.com/videos/cnnmoney/2017/10/08/...</td>\n",
              "      <td>Jason Aldean opens 'SNL' with Vegas tribute</td>\n",
              "      <td>Country singer Jason Aldean, who was performin...</td>\n",
              "      <td>1</td>\n",
              "    </tr>\n",
              "    <tr>\n",
              "      <th>...</th>\n",
              "      <td>...</td>\n",
              "      <td>...</td>\n",
              "      <td>...</td>\n",
              "      <td>...</td>\n",
              "    </tr>\n",
              "    <tr>\n",
              "      <th>4004</th>\n",
              "      <td>http://beforeitsnews.com/sports/2017/09/trends...</td>\n",
              "      <td>Trends to Watch</td>\n",
              "      <td>Trends to Watch\\n% of readers think this story...</td>\n",
              "      <td>0</td>\n",
              "    </tr>\n",
              "    <tr>\n",
              "      <th>4005</th>\n",
              "      <td>http://beforeitsnews.com/u-s-politics/2017/10/...</td>\n",
              "      <td>Trump Jr. Is Soon To Give A 30-Minute Speech F...</td>\n",
              "      <td>Trump Jr. Is Soon To Give A 30-Minute Speech F...</td>\n",
              "      <td>0</td>\n",
              "    </tr>\n",
              "    <tr>\n",
              "      <th>4006</th>\n",
              "      <td>https://www.activistpost.com/2017/09/ron-paul-...</td>\n",
              "      <td>Ron Paul on Trump, Anarchism &amp; the AltRight</td>\n",
              "      <td>NaN</td>\n",
              "      <td>0</td>\n",
              "    </tr>\n",
              "    <tr>\n",
              "      <th>4007</th>\n",
              "      <td>https://www.reuters.com/article/us-china-pharm...</td>\n",
              "      <td>China to accept overseas trial data in bid to ...</td>\n",
              "      <td>SHANGHAI (Reuters) - China said it plans to ac...</td>\n",
              "      <td>1</td>\n",
              "    </tr>\n",
              "    <tr>\n",
              "      <th>4008</th>\n",
              "      <td>http://beforeitsnews.com/u-s-politics/2017/10/...</td>\n",
              "      <td>Vice President Mike Pence Leaves NFL Game Beca...</td>\n",
              "      <td>Vice President Mike Pence Leaves NFL Game Beca...</td>\n",
              "      <td>0</td>\n",
              "    </tr>\n",
              "  </tbody>\n",
              "</table>\n",
              "<p>4009 rows × 4 columns</p>\n",
              "</div>"
            ],
            "text/plain": [
              "                                                   URLs  ... Label\n",
              "0     http://www.bbc.com/news/world-us-canada-414191...  ...     1\n",
              "1     https://www.reuters.com/article/us-filmfestiva...  ...     1\n",
              "2     https://www.nytimes.com/2017/10/09/us/politics...  ...     1\n",
              "3     https://www.reuters.com/article/us-mexico-oil-...  ...     1\n",
              "4     http://www.cnn.com/videos/cnnmoney/2017/10/08/...  ...     1\n",
              "...                                                 ...  ...   ...\n",
              "4004  http://beforeitsnews.com/sports/2017/09/trends...  ...     0\n",
              "4005  http://beforeitsnews.com/u-s-politics/2017/10/...  ...     0\n",
              "4006  https://www.activistpost.com/2017/09/ron-paul-...  ...     0\n",
              "4007  https://www.reuters.com/article/us-china-pharm...  ...     1\n",
              "4008  http://beforeitsnews.com/u-s-politics/2017/10/...  ...     0\n",
              "\n",
              "[4009 rows x 4 columns]"
            ]
          },
          "metadata": {},
          "execution_count": 6
        }
      ]
    },
    {
      "cell_type": "code",
      "metadata": {
        "colab": {
          "base_uri": "https://localhost:8080/"
        },
        "id": "9bR-RyKwB1u-",
        "outputId": "5fb9b388-e05a-4ff7-b766-b3a209aa69df"
      },
      "source": [
        "print(df.info())\n",
        "print('-------------------------------------------------------')\n",
        "print(df.isna().sum())\n",
        "print('-------------------------------------------------------')\n",
        "print(df['Label'].value_counts())"
      ],
      "execution_count": 7,
      "outputs": [
        {
          "output_type": "stream",
          "name": "stdout",
          "text": [
            "<class 'pandas.core.frame.DataFrame'>\n",
            "RangeIndex: 4009 entries, 0 to 4008\n",
            "Data columns (total 4 columns):\n",
            " #   Column    Non-Null Count  Dtype \n",
            "---  ------    --------------  ----- \n",
            " 0   URLs      4009 non-null   object\n",
            " 1   Headline  4009 non-null   object\n",
            " 2   Body      3988 non-null   object\n",
            " 3   Label     4009 non-null   int64 \n",
            "dtypes: int64(1), object(3)\n",
            "memory usage: 125.4+ KB\n",
            "None\n",
            "-------------------------------------------------------\n",
            "URLs         0\n",
            "Headline     0\n",
            "Body        21\n",
            "Label        0\n",
            "dtype: int64\n",
            "-------------------------------------------------------\n",
            "0    2137\n",
            "1    1872\n",
            "Name: Label, dtype: int64\n"
          ]
        }
      ]
    },
    {
      "cell_type": "markdown",
      "metadata": {
        "id": "5yt70SNfpMR0"
      },
      "source": [
        "# Обработка текста\n",
        "\n"
      ]
    },
    {
      "cell_type": "code",
      "metadata": {
        "colab": {
          "base_uri": "https://localhost:8080/"
        },
        "id": "tS4l3GHKCCAm",
        "outputId": "c295f5e3-df4b-4209-bddc-1772861a710e"
      },
      "source": [
        "df = df.dropna().reset_index(drop = True)\n",
        "print(df.isna().sum())"
      ],
      "execution_count": 8,
      "outputs": [
        {
          "output_type": "stream",
          "name": "stdout",
          "text": [
            "URLs        0\n",
            "Headline    0\n",
            "Body        0\n",
            "Label       0\n",
            "dtype: int64\n"
          ]
        }
      ]
    },
    {
      "cell_type": "code",
      "metadata": {
        "id": "_zFqqTlDsLeA"
      },
      "source": [
        "from string import punctuation\n",
        "import re\n",
        "\n",
        "def remove_punct(text):\n",
        "    # удаление пунктуации в тексте\n",
        "    table = {33: ' ', 34: ' ', 35: ' ', 36: ' ', 37: ' ', 38: ' ', 39: ' ', 40: ' ', 41: ' ', 42: ' ',\n",
        "             43: ' ', 44: ' ', 45: ' ', 46: ' ', 47: ' ', 58: ' ', 59: ' ', 60: ' ', 61: ' ', 62: ' ',\n",
        "             63: ' ', 64: ' ', 91: ' ', 92: ' ', 93: ' ', 94: ' ', 95: ' ', 96: ' ', 123: ' ', 124: ' ', 125: ' ', 126: ' '}\n",
        "    return text.translate(table)\n",
        "\n",
        "def txt_prep(df):\n",
        "    # функция приводит весь текст к нижнему регистру\n",
        "    # удаляет пунктуацию\n",
        "    df['Body_01'] = df['Body']\n",
        "    df['Body_01'] = df['Body_01'].str.lower()\n",
        "    # остаётся вопрос - нужно ли убирать 's или 'll - эти сокращения явно признак фейковости,\n",
        "    # после чистки пунктуации там останется s - скорее всего проверка пунктуации определит это как ошибку\n",
        "    df['Body_01'] = df['Body_01'].map(lambda x: remove_punct(x))\n",
        "\n",
        "    signs = ['?', ',', ':', '!', '.', ';', '«', '»', '(', ')', '*', '+', '-', '^', '|', '=', \"’\", \"‘\",  '”', '—', '@', '>', '<', '–', '&', '%', '•', '/', '“']\n",
        "    for punct_sign in signs:\n",
        "        df['Body_01'] = df['Body_01'].str.replace(punct_sign, ' ')\n",
        "\n",
        "    df['Body_01'] = df['Body_01'].str.replace('\\n', '')\n",
        "    df['Body_01'] = df['Body_01'].str.replace(r\"\\d+\", \"\", flags=re.UNICODE)\n",
        "    df['Body_01'] = df['Body_01'].str.replace(\"  \" , \" \")\n",
        "    df['Body_01'] = df['Body_01'].str.replace(\"  \" , \" \")\n",
        "\n",
        "    return df\n",
        "\n",
        "df = txt_prep(df)"
      ],
      "execution_count": 9,
      "outputs": []
    },
    {
      "cell_type": "code",
      "metadata": {
        "colab": {
          "base_uri": "https://localhost:8080/",
          "height": 206
        },
        "id": "q5NHIrRitAas",
        "outputId": "cb7d4bec-8a41-4941-a1db-b788c9c53021"
      },
      "source": [
        "df.head()"
      ],
      "execution_count": 10,
      "outputs": [
        {
          "output_type": "execute_result",
          "data": {
            "text/html": [
              "<div>\n",
              "<style scoped>\n",
              "    .dataframe tbody tr th:only-of-type {\n",
              "        vertical-align: middle;\n",
              "    }\n",
              "\n",
              "    .dataframe tbody tr th {\n",
              "        vertical-align: top;\n",
              "    }\n",
              "\n",
              "    .dataframe thead th {\n",
              "        text-align: right;\n",
              "    }\n",
              "</style>\n",
              "<table border=\"1\" class=\"dataframe\">\n",
              "  <thead>\n",
              "    <tr style=\"text-align: right;\">\n",
              "      <th></th>\n",
              "      <th>URLs</th>\n",
              "      <th>Headline</th>\n",
              "      <th>Body</th>\n",
              "      <th>Label</th>\n",
              "      <th>Body_01</th>\n",
              "    </tr>\n",
              "  </thead>\n",
              "  <tbody>\n",
              "    <tr>\n",
              "      <th>0</th>\n",
              "      <td>http://www.bbc.com/news/world-us-canada-414191...</td>\n",
              "      <td>Four ways Bob Corker skewered Donald Trump</td>\n",
              "      <td>Image copyright Getty Images\\nOn Sunday mornin...</td>\n",
              "      <td>1</td>\n",
              "      <td>image copyright getty imageson sunday morning ...</td>\n",
              "    </tr>\n",
              "    <tr>\n",
              "      <th>1</th>\n",
              "      <td>https://www.reuters.com/article/us-filmfestiva...</td>\n",
              "      <td>Linklater's war veteran comedy speaks to moder...</td>\n",
              "      <td>LONDON (Reuters) - “Last Flag Flying”, a comed...</td>\n",
              "      <td>1</td>\n",
              "      <td>london reuters  last flag flying a comedy dram...</td>\n",
              "    </tr>\n",
              "    <tr>\n",
              "      <th>2</th>\n",
              "      <td>https://www.nytimes.com/2017/10/09/us/politics...</td>\n",
              "      <td>Trump’s Fight With Corker Jeopardizes His Legi...</td>\n",
              "      <td>The feud broke into public view last week when...</td>\n",
              "      <td>1</td>\n",
              "      <td>the feud broke into public view last week when...</td>\n",
              "    </tr>\n",
              "    <tr>\n",
              "      <th>3</th>\n",
              "      <td>https://www.reuters.com/article/us-mexico-oil-...</td>\n",
              "      <td>Egypt's Cheiron wins tie-up with Pemex for Mex...</td>\n",
              "      <td>MEXICO CITY (Reuters) - Egypt’s Cheiron Holdin...</td>\n",
              "      <td>1</td>\n",
              "      <td>mexico city reuters egypt s cheiron holdings l...</td>\n",
              "    </tr>\n",
              "    <tr>\n",
              "      <th>4</th>\n",
              "      <td>http://www.cnn.com/videos/cnnmoney/2017/10/08/...</td>\n",
              "      <td>Jason Aldean opens 'SNL' with Vegas tribute</td>\n",
              "      <td>Country singer Jason Aldean, who was performin...</td>\n",
              "      <td>1</td>\n",
              "      <td>country singer jason aldean who was performing...</td>\n",
              "    </tr>\n",
              "  </tbody>\n",
              "</table>\n",
              "</div>"
            ],
            "text/plain": [
              "                                                URLs  ...                                            Body_01\n",
              "0  http://www.bbc.com/news/world-us-canada-414191...  ...  image copyright getty imageson sunday morning ...\n",
              "1  https://www.reuters.com/article/us-filmfestiva...  ...  london reuters  last flag flying a comedy dram...\n",
              "2  https://www.nytimes.com/2017/10/09/us/politics...  ...  the feud broke into public view last week when...\n",
              "3  https://www.reuters.com/article/us-mexico-oil-...  ...  mexico city reuters egypt s cheiron holdings l...\n",
              "4  http://www.cnn.com/videos/cnnmoney/2017/10/08/...  ...  country singer jason aldean who was performing...\n",
              "\n",
              "[5 rows x 5 columns]"
            ]
          },
          "metadata": {},
          "execution_count": 10
        }
      ]
    },
    {
      "cell_type": "markdown",
      "metadata": {
        "id": "DdDoJYWppZId"
      },
      "source": [
        "## Проверка и исправление на ошибки"
      ]
    },
    {
      "cell_type": "code",
      "metadata": {
        "colab": {
          "base_uri": "https://localhost:8080/"
        },
        "id": "T16ZSVp_cmA6",
        "outputId": "63899266-6791-4ed9-d7b2-11b8fc58cd2c"
      },
      "source": [
        "!sudo apt-get install swig"
      ],
      "execution_count": 11,
      "outputs": [
        {
          "output_type": "stream",
          "name": "stdout",
          "text": [
            "Reading package lists... Done\n",
            "Building dependency tree       \n",
            "Reading state information... Done\n",
            "swig is already the newest version (3.0.12-1).\n",
            "0 upgraded, 0 newly installed, 0 to remove and 37 not upgraded.\n"
          ]
        }
      ]
    },
    {
      "cell_type": "code",
      "metadata": {
        "colab": {
          "base_uri": "https://localhost:8080/"
        },
        "id": "bYh5C4mAcqpe",
        "outputId": "1f9e39cc-70e0-43e0-d9b5-c4b3ae211e7d"
      },
      "source": [
        "!sudo pip install jamspell"
      ],
      "execution_count": 12,
      "outputs": [
        {
          "output_type": "stream",
          "name": "stdout",
          "text": [
            "Requirement already satisfied: jamspell in /usr/local/lib/python3.7/dist-packages (0.0.12)\n"
          ]
        }
      ]
    },
    {
      "cell_type": "code",
      "metadata": {
        "colab": {
          "base_uri": "https://localhost:8080/"
        },
        "id": "6UEaC5_9pJ-q",
        "outputId": "80f9b987-9db5-48fb-f407-3c6c88494af8"
      },
      "source": [
        "!wget https://github.com/bakwc/JamSpell-models/raw/master/en.tar.gz"
      ],
      "execution_count": 13,
      "outputs": [
        {
          "output_type": "stream",
          "name": "stdout",
          "text": [
            "--2021-12-02 22:15:25--  https://github.com/bakwc/JamSpell-models/raw/master/en.tar.gz\n",
            "Resolving github.com (github.com)... 140.82.112.3\n",
            "Connecting to github.com (github.com)|140.82.112.3|:443... connected.\n",
            "HTTP request sent, awaiting response... 302 Found\n",
            "Location: https://raw.githubusercontent.com/bakwc/JamSpell-models/master/en.tar.gz [following]\n",
            "--2021-12-02 22:15:25--  https://raw.githubusercontent.com/bakwc/JamSpell-models/master/en.tar.gz\n",
            "Resolving raw.githubusercontent.com (raw.githubusercontent.com)... 185.199.108.133, 185.199.109.133, 185.199.110.133, ...\n",
            "Connecting to raw.githubusercontent.com (raw.githubusercontent.com)|185.199.108.133|:443... connected.\n",
            "HTTP request sent, awaiting response... 200 OK\n",
            "Length: 36611828 (35M) [application/octet-stream]\n",
            "Saving to: ‘en.tar.gz.1’\n",
            "\n",
            "en.tar.gz.1         100%[===================>]  34.92M  91.0MB/s    in 0.4s    \n",
            "\n",
            "2021-12-02 22:15:26 (91.0 MB/s) - ‘en.tar.gz.1’ saved [36611828/36611828]\n",
            "\n"
          ]
        }
      ]
    },
    {
      "cell_type": "code",
      "metadata": {
        "colab": {
          "base_uri": "https://localhost:8080/"
        },
        "id": "NR0-Gm2rpe-i",
        "outputId": "54ae53a8-5144-4173-e16e-11ae2fd9994c"
      },
      "source": [
        "!tar -xvf en.tar.gz"
      ],
      "execution_count": 14,
      "outputs": [
        {
          "output_type": "stream",
          "name": "stdout",
          "text": [
            "en.bin\n"
          ]
        }
      ]
    },
    {
      "cell_type": "code",
      "metadata": {
        "id": "M1aN3GyAkfc7"
      },
      "source": [
        "from jamspell import TSpellCorrector"
      ],
      "execution_count": 15,
      "outputs": []
    },
    {
      "cell_type": "code",
      "metadata": {
        "id": "hTj4VbZ2xMCq"
      },
      "source": [
        "# print(df.loc[5, 'Body_01'])\n",
        "# print('-------------------------------------------------------')\n",
        "# print(corrector.FixFragment(df.loc[5, 'Body_01']))"
      ],
      "execution_count": 16,
      "outputs": []
    },
    {
      "cell_type": "code",
      "metadata": {
        "id": "Fvn8T6aX1mZP"
      },
      "source": [
        "def spellCorrectionofText(df):\n",
        "    corrector = TSpellCorrector()\n",
        "    assert corrector.LoadLangModel('en.bin')\n",
        "\n",
        "    correctedTexts = []\n",
        "    numberOfSpellMistakes = []\n",
        "\n",
        "    for index in range(len(df['Body_01'])):\n",
        "\n",
        "        # text = df['Body_01'][index]\n",
        "        split_text = df['Body_01'][index].split(' ')\n",
        "\n",
        "        new_text = \"\"\n",
        "        numberMistakes = 0\n",
        "\n",
        "        for word in split_text:\n",
        "            corrected_word = corrector.FixFragment(word)\n",
        "            if word != corrected_word:\n",
        "                numberMistakes += 1\n",
        "            new_text += corrected_word + \" \"\n",
        "            \n",
        "        numberOfSpellMistakes.append(numberMistakes)\n",
        "        correctedTexts.append(new_text)\n",
        "\n",
        "    df['Body_02'] = correctedTexts\n",
        "    df['Number of spell mistakes'] = numberOfSpellMistakes\n",
        "\n",
        "spellCorrectionofText(df)\n"
      ],
      "execution_count": 17,
      "outputs": []
    },
    {
      "cell_type": "code",
      "metadata": {
        "colab": {
          "base_uri": "https://localhost:8080/",
          "height": 614
        },
        "id": "0Z7ITrwtIIyc",
        "outputId": "8dc6bd4c-8c86-4c05-ed16-cf571ff3d3e1"
      },
      "source": [
        "df"
      ],
      "execution_count": 18,
      "outputs": [
        {
          "output_type": "execute_result",
          "data": {
            "text/html": [
              "<div>\n",
              "<style scoped>\n",
              "    .dataframe tbody tr th:only-of-type {\n",
              "        vertical-align: middle;\n",
              "    }\n",
              "\n",
              "    .dataframe tbody tr th {\n",
              "        vertical-align: top;\n",
              "    }\n",
              "\n",
              "    .dataframe thead th {\n",
              "        text-align: right;\n",
              "    }\n",
              "</style>\n",
              "<table border=\"1\" class=\"dataframe\">\n",
              "  <thead>\n",
              "    <tr style=\"text-align: right;\">\n",
              "      <th></th>\n",
              "      <th>URLs</th>\n",
              "      <th>Headline</th>\n",
              "      <th>Body</th>\n",
              "      <th>Label</th>\n",
              "      <th>Body_01</th>\n",
              "      <th>Body_02</th>\n",
              "      <th>Number of spell mistakes</th>\n",
              "    </tr>\n",
              "  </thead>\n",
              "  <tbody>\n",
              "    <tr>\n",
              "      <th>0</th>\n",
              "      <td>http://www.bbc.com/news/world-us-canada-414191...</td>\n",
              "      <td>Four ways Bob Corker skewered Donald Trump</td>\n",
              "      <td>Image copyright Getty Images\\nOn Sunday mornin...</td>\n",
              "      <td>1</td>\n",
              "      <td>image copyright getty imageson sunday morning ...</td>\n",
              "      <td>image copyright getty images sunday morning do...</td>\n",
              "      <td>4</td>\n",
              "    </tr>\n",
              "    <tr>\n",
              "      <th>1</th>\n",
              "      <td>https://www.reuters.com/article/us-filmfestiva...</td>\n",
              "      <td>Linklater's war veteran comedy speaks to moder...</td>\n",
              "      <td>LONDON (Reuters) - “Last Flag Flying”, a comed...</td>\n",
              "      <td>1</td>\n",
              "      <td>london reuters  last flag flying a comedy dram...</td>\n",
              "      <td>london reuters  last flag flying a comedy dram...</td>\n",
              "      <td>0</td>\n",
              "    </tr>\n",
              "    <tr>\n",
              "      <th>2</th>\n",
              "      <td>https://www.nytimes.com/2017/10/09/us/politics...</td>\n",
              "      <td>Trump’s Fight With Corker Jeopardizes His Legi...</td>\n",
              "      <td>The feud broke into public view last week when...</td>\n",
              "      <td>1</td>\n",
              "      <td>the feud broke into public view last week when...</td>\n",
              "      <td>the feud broke into public view last week when...</td>\n",
              "      <td>3</td>\n",
              "    </tr>\n",
              "    <tr>\n",
              "      <th>3</th>\n",
              "      <td>https://www.reuters.com/article/us-mexico-oil-...</td>\n",
              "      <td>Egypt's Cheiron wins tie-up with Pemex for Mex...</td>\n",
              "      <td>MEXICO CITY (Reuters) - Egypt’s Cheiron Holdin...</td>\n",
              "      <td>1</td>\n",
              "      <td>mexico city reuters egypt s cheiron holdings l...</td>\n",
              "      <td>mexico city reuters egypt s chevron holdings l...</td>\n",
              "      <td>1</td>\n",
              "    </tr>\n",
              "    <tr>\n",
              "      <th>4</th>\n",
              "      <td>http://www.cnn.com/videos/cnnmoney/2017/10/08/...</td>\n",
              "      <td>Jason Aldean opens 'SNL' with Vegas tribute</td>\n",
              "      <td>Country singer Jason Aldean, who was performin...</td>\n",
              "      <td>1</td>\n",
              "      <td>country singer jason aldean who was performing...</td>\n",
              "      <td>country singer jason aldean who was performing...</td>\n",
              "      <td>0</td>\n",
              "    </tr>\n",
              "    <tr>\n",
              "      <th>...</th>\n",
              "      <td>...</td>\n",
              "      <td>...</td>\n",
              "      <td>...</td>\n",
              "      <td>...</td>\n",
              "      <td>...</td>\n",
              "      <td>...</td>\n",
              "      <td>...</td>\n",
              "    </tr>\n",
              "    <tr>\n",
              "      <th>3983</th>\n",
              "      <td>http://beforeitsnews.com/u-s-politics/2017/10/...</td>\n",
              "      <td>CNN and Globalist Exposed - Steve Quayle and A...</td>\n",
              "      <td>Vietnam Is in Great Danger, You Must Publish a...</td>\n",
              "      <td>0</td>\n",
              "      <td>vietnam is in great danger you must publish an...</td>\n",
              "      <td>vietnam is in great danger you must publish an...</td>\n",
              "      <td>0</td>\n",
              "    </tr>\n",
              "    <tr>\n",
              "      <th>3984</th>\n",
              "      <td>http://beforeitsnews.com/sports/2017/09/trends...</td>\n",
              "      <td>Trends to Watch</td>\n",
              "      <td>Trends to Watch\\n% of readers think this story...</td>\n",
              "      <td>0</td>\n",
              "      <td>trends to watch of readers think this story is...</td>\n",
              "      <td>trends to watch of readers think this story is...</td>\n",
              "      <td>8</td>\n",
              "    </tr>\n",
              "    <tr>\n",
              "      <th>3985</th>\n",
              "      <td>http://beforeitsnews.com/u-s-politics/2017/10/...</td>\n",
              "      <td>Trump Jr. Is Soon To Give A 30-Minute Speech F...</td>\n",
              "      <td>Trump Jr. Is Soon To Give A 30-Minute Speech F...</td>\n",
              "      <td>0</td>\n",
              "      <td>trump jr is soon to give a minute speech for  ...</td>\n",
              "      <td>trump jr is soon to give a minute speech for  ...</td>\n",
              "      <td>0</td>\n",
              "    </tr>\n",
              "    <tr>\n",
              "      <th>3986</th>\n",
              "      <td>https://www.reuters.com/article/us-china-pharm...</td>\n",
              "      <td>China to accept overseas trial data in bid to ...</td>\n",
              "      <td>SHANGHAI (Reuters) - China said it plans to ac...</td>\n",
              "      <td>1</td>\n",
              "      <td>shanghai reuters china said it plans to accept...</td>\n",
              "      <td>shanghai reuters china said it plans to accept...</td>\n",
              "      <td>1</td>\n",
              "    </tr>\n",
              "    <tr>\n",
              "      <th>3987</th>\n",
              "      <td>http://beforeitsnews.com/u-s-politics/2017/10/...</td>\n",
              "      <td>Vice President Mike Pence Leaves NFL Game Beca...</td>\n",
              "      <td>Vice President Mike Pence Leaves NFL Game Beca...</td>\n",
              "      <td>0</td>\n",
              "      <td>vice president mike pence leaves nfl game beca...</td>\n",
              "      <td>vice president mike pence leaves nfl game beca...</td>\n",
              "      <td>3</td>\n",
              "    </tr>\n",
              "  </tbody>\n",
              "</table>\n",
              "<p>3988 rows × 7 columns</p>\n",
              "</div>"
            ],
            "text/plain": [
              "                                                   URLs  ... Number of spell mistakes\n",
              "0     http://www.bbc.com/news/world-us-canada-414191...  ...                        4\n",
              "1     https://www.reuters.com/article/us-filmfestiva...  ...                        0\n",
              "2     https://www.nytimes.com/2017/10/09/us/politics...  ...                        3\n",
              "3     https://www.reuters.com/article/us-mexico-oil-...  ...                        1\n",
              "4     http://www.cnn.com/videos/cnnmoney/2017/10/08/...  ...                        0\n",
              "...                                                 ...  ...                      ...\n",
              "3983  http://beforeitsnews.com/u-s-politics/2017/10/...  ...                        0\n",
              "3984  http://beforeitsnews.com/sports/2017/09/trends...  ...                        8\n",
              "3985  http://beforeitsnews.com/u-s-politics/2017/10/...  ...                        0\n",
              "3986  https://www.reuters.com/article/us-china-pharm...  ...                        1\n",
              "3987  http://beforeitsnews.com/u-s-politics/2017/10/...  ...                        3\n",
              "\n",
              "[3988 rows x 7 columns]"
            ]
          },
          "metadata": {},
          "execution_count": 18
        }
      ]
    },
    {
      "cell_type": "markdown",
      "metadata": {
        "id": "6bIWXCCZpika"
      },
      "source": [
        "# Лемматизация"
      ]
    },
    {
      "cell_type": "code",
      "metadata": {
        "colab": {
          "base_uri": "https://localhost:8080/"
        },
        "id": "0oDaI_kp9noe",
        "outputId": "9b919644-557c-47bc-fb99-9e7f83bef66c"
      },
      "source": [
        "import sys\n",
        "!{sys.executable} -m pip install spacy\n",
        "\n",
        "!{sys.executable} -m spacy download en"
      ],
      "execution_count": 19,
      "outputs": [
        {
          "output_type": "stream",
          "name": "stdout",
          "text": [
            "Requirement already satisfied: spacy in /usr/local/lib/python3.7/dist-packages (2.2.4)\n",
            "Requirement already satisfied: catalogue<1.1.0,>=0.0.7 in /usr/local/lib/python3.7/dist-packages (from spacy) (1.0.0)\n",
            "Requirement already satisfied: preshed<3.1.0,>=3.0.2 in /usr/local/lib/python3.7/dist-packages (from spacy) (3.0.6)\n",
            "Requirement already satisfied: setuptools in /usr/local/lib/python3.7/dist-packages (from spacy) (57.4.0)\n",
            "Requirement already satisfied: blis<0.5.0,>=0.4.0 in /usr/local/lib/python3.7/dist-packages (from spacy) (0.4.1)\n",
            "Requirement already satisfied: requests<3.0.0,>=2.13.0 in /usr/local/lib/python3.7/dist-packages (from spacy) (2.23.0)\n",
            "Requirement already satisfied: murmurhash<1.1.0,>=0.28.0 in /usr/local/lib/python3.7/dist-packages (from spacy) (1.0.6)\n",
            "Requirement already satisfied: thinc==7.4.0 in /usr/local/lib/python3.7/dist-packages (from spacy) (7.4.0)\n",
            "Requirement already satisfied: plac<1.2.0,>=0.9.6 in /usr/local/lib/python3.7/dist-packages (from spacy) (1.1.3)\n",
            "Requirement already satisfied: cymem<2.1.0,>=2.0.2 in /usr/local/lib/python3.7/dist-packages (from spacy) (2.0.6)\n",
            "Requirement already satisfied: numpy>=1.15.0 in /usr/local/lib/python3.7/dist-packages (from spacy) (1.19.5)\n",
            "Requirement already satisfied: srsly<1.1.0,>=1.0.2 in /usr/local/lib/python3.7/dist-packages (from spacy) (1.0.5)\n",
            "Requirement already satisfied: wasabi<1.1.0,>=0.4.0 in /usr/local/lib/python3.7/dist-packages (from spacy) (0.8.2)\n",
            "Requirement already satisfied: tqdm<5.0.0,>=4.38.0 in /usr/local/lib/python3.7/dist-packages (from spacy) (4.62.3)\n",
            "Requirement already satisfied: importlib-metadata>=0.20 in /usr/local/lib/python3.7/dist-packages (from catalogue<1.1.0,>=0.0.7->spacy) (4.8.2)\n",
            "Requirement already satisfied: typing-extensions>=3.6.4 in /usr/local/lib/python3.7/dist-packages (from importlib-metadata>=0.20->catalogue<1.1.0,>=0.0.7->spacy) (3.10.0.2)\n",
            "Requirement already satisfied: zipp>=0.5 in /usr/local/lib/python3.7/dist-packages (from importlib-metadata>=0.20->catalogue<1.1.0,>=0.0.7->spacy) (3.6.0)\n",
            "Requirement already satisfied: chardet<4,>=3.0.2 in /usr/local/lib/python3.7/dist-packages (from requests<3.0.0,>=2.13.0->spacy) (3.0.4)\n",
            "Requirement already satisfied: certifi>=2017.4.17 in /usr/local/lib/python3.7/dist-packages (from requests<3.0.0,>=2.13.0->spacy) (2021.10.8)\n",
            "Requirement already satisfied: urllib3!=1.25.0,!=1.25.1,<1.26,>=1.21.1 in /usr/local/lib/python3.7/dist-packages (from requests<3.0.0,>=2.13.0->spacy) (1.24.3)\n",
            "Requirement already satisfied: idna<3,>=2.5 in /usr/local/lib/python3.7/dist-packages (from requests<3.0.0,>=2.13.0->spacy) (2.10)\n",
            "Collecting en_core_web_sm==2.2.5\n",
            "  Downloading https://github.com/explosion/spacy-models/releases/download/en_core_web_sm-2.2.5/en_core_web_sm-2.2.5.tar.gz (12.0 MB)\n",
            "\u001b[K     |████████████████████████████████| 12.0 MB 4.8 MB/s \n",
            "\u001b[?25hRequirement already satisfied: spacy>=2.2.2 in /usr/local/lib/python3.7/dist-packages (from en_core_web_sm==2.2.5) (2.2.4)\n",
            "Requirement already satisfied: murmurhash<1.1.0,>=0.28.0 in /usr/local/lib/python3.7/dist-packages (from spacy>=2.2.2->en_core_web_sm==2.2.5) (1.0.6)\n",
            "Requirement already satisfied: catalogue<1.1.0,>=0.0.7 in /usr/local/lib/python3.7/dist-packages (from spacy>=2.2.2->en_core_web_sm==2.2.5) (1.0.0)\n",
            "Requirement already satisfied: plac<1.2.0,>=0.9.6 in /usr/local/lib/python3.7/dist-packages (from spacy>=2.2.2->en_core_web_sm==2.2.5) (1.1.3)\n",
            "Requirement already satisfied: cymem<2.1.0,>=2.0.2 in /usr/local/lib/python3.7/dist-packages (from spacy>=2.2.2->en_core_web_sm==2.2.5) (2.0.6)\n",
            "Requirement already satisfied: wasabi<1.1.0,>=0.4.0 in /usr/local/lib/python3.7/dist-packages (from spacy>=2.2.2->en_core_web_sm==2.2.5) (0.8.2)\n",
            "Requirement already satisfied: srsly<1.1.0,>=1.0.2 in /usr/local/lib/python3.7/dist-packages (from spacy>=2.2.2->en_core_web_sm==2.2.5) (1.0.5)\n",
            "Requirement already satisfied: setuptools in /usr/local/lib/python3.7/dist-packages (from spacy>=2.2.2->en_core_web_sm==2.2.5) (57.4.0)\n",
            "Requirement already satisfied: numpy>=1.15.0 in /usr/local/lib/python3.7/dist-packages (from spacy>=2.2.2->en_core_web_sm==2.2.5) (1.19.5)\n",
            "Requirement already satisfied: tqdm<5.0.0,>=4.38.0 in /usr/local/lib/python3.7/dist-packages (from spacy>=2.2.2->en_core_web_sm==2.2.5) (4.62.3)\n",
            "Requirement already satisfied: blis<0.5.0,>=0.4.0 in /usr/local/lib/python3.7/dist-packages (from spacy>=2.2.2->en_core_web_sm==2.2.5) (0.4.1)\n",
            "Requirement already satisfied: thinc==7.4.0 in /usr/local/lib/python3.7/dist-packages (from spacy>=2.2.2->en_core_web_sm==2.2.5) (7.4.0)\n",
            "Requirement already satisfied: requests<3.0.0,>=2.13.0 in /usr/local/lib/python3.7/dist-packages (from spacy>=2.2.2->en_core_web_sm==2.2.5) (2.23.0)\n",
            "Requirement already satisfied: preshed<3.1.0,>=3.0.2 in /usr/local/lib/python3.7/dist-packages (from spacy>=2.2.2->en_core_web_sm==2.2.5) (3.0.6)\n",
            "Requirement already satisfied: importlib-metadata>=0.20 in /usr/local/lib/python3.7/dist-packages (from catalogue<1.1.0,>=0.0.7->spacy>=2.2.2->en_core_web_sm==2.2.5) (4.8.2)\n",
            "Requirement already satisfied: zipp>=0.5 in /usr/local/lib/python3.7/dist-packages (from importlib-metadata>=0.20->catalogue<1.1.0,>=0.0.7->spacy>=2.2.2->en_core_web_sm==2.2.5) (3.6.0)\n",
            "Requirement already satisfied: typing-extensions>=3.6.4 in /usr/local/lib/python3.7/dist-packages (from importlib-metadata>=0.20->catalogue<1.1.0,>=0.0.7->spacy>=2.2.2->en_core_web_sm==2.2.5) (3.10.0.2)\n",
            "Requirement already satisfied: idna<3,>=2.5 in /usr/local/lib/python3.7/dist-packages (from requests<3.0.0,>=2.13.0->spacy>=2.2.2->en_core_web_sm==2.2.5) (2.10)\n",
            "Requirement already satisfied: certifi>=2017.4.17 in /usr/local/lib/python3.7/dist-packages (from requests<3.0.0,>=2.13.0->spacy>=2.2.2->en_core_web_sm==2.2.5) (2021.10.8)\n",
            "Requirement already satisfied: chardet<4,>=3.0.2 in /usr/local/lib/python3.7/dist-packages (from requests<3.0.0,>=2.13.0->spacy>=2.2.2->en_core_web_sm==2.2.5) (3.0.4)\n",
            "Requirement already satisfied: urllib3!=1.25.0,!=1.25.1,<1.26,>=1.21.1 in /usr/local/lib/python3.7/dist-packages (from requests<3.0.0,>=2.13.0->spacy>=2.2.2->en_core_web_sm==2.2.5) (1.24.3)\n",
            "\u001b[38;5;2m✔ Download and installation successful\u001b[0m\n",
            "You can now load the model via spacy.load('en_core_web_sm')\n",
            "\u001b[38;5;2m✔ Linking successful\u001b[0m\n",
            "/usr/local/lib/python3.7/dist-packages/en_core_web_sm -->\n",
            "/usr/local/lib/python3.7/dist-packages/spacy/data/en\n",
            "You can now load the model via spacy.load('en')\n"
          ]
        }
      ]
    },
    {
      "cell_type": "code",
      "metadata": {
        "id": "rth__92MYPa0"
      },
      "source": [
        "import spacy"
      ],
      "execution_count": 20,
      "outputs": []
    },
    {
      "cell_type": "code",
      "metadata": {
        "colab": {
          "base_uri": "https://localhost:8080/"
        },
        "id": "kGZ9WodG9qjX",
        "outputId": "f3eec4e3-6a77-42d6-b5f4-c3fe312085ae"
      },
      "source": [
        "def lemmatizeText(df):\n",
        "\n",
        "    lemmatizer = spacy.load('en')\n",
        "\n",
        "    df['Body_03'] = df['Body_02']\n",
        "\n",
        "    for index in range(len(df['Body_02'])):\n",
        "        doc = lemmatizer(df['Body_03'][index])\n",
        "        sentence = \" \".join([token.lemma_ for token in doc])\n",
        "\n",
        "        df['Body_03'][index] = sentence\n",
        "\n",
        "    df['Body_03'] = df['Body_03'].str.replace(\"-PRON-\", '')\n",
        "    df['Body_03'] = df['Body_03'].str.replace(\"s\", '')\n",
        "    df['Body_03'] = df['Body_03'].str.replace(\"  \", '')\n",
        "\n",
        "lemmatizeText(df)"
      ],
      "execution_count": 21,
      "outputs": [
        {
          "output_type": "stream",
          "name": "stderr",
          "text": [
            "/usr/local/lib/python3.7/dist-packages/ipykernel_launcher.py:11: SettingWithCopyWarning: \n",
            "A value is trying to be set on a copy of a slice from a DataFrame\n",
            "\n",
            "See the caveats in the documentation: https://pandas.pydata.org/pandas-docs/stable/user_guide/indexing.html#returning-a-view-versus-a-copy\n",
            "  # This is added back by InteractiveShellApp.init_path()\n"
          ]
        }
      ]
    },
    {
      "cell_type": "code",
      "metadata": {
        "colab": {
          "base_uri": "https://localhost:8080/"
        },
        "id": "Iu2t2BM65HtT",
        "outputId": "db0cbe7c-b81a-49a4-8263-e7a9c041fd26"
      },
      "source": [
        "print(df['Body_03'][0])\n",
        "print('-----------------------------------------')\n",
        "print(df['Body_02'][0])"
      ],
      "execution_count": 22,
      "outputs": [
        {
          "output_type": "stream",
          "name": "stdout",
          "text": [
            "image copyright getty image unday morning donald trump go off on a twitt tirade againt a member ofown party thi inin t exactly huge new far from the firt time the preident have turnrhetorical cannon onown rank thi time howeverattack be particularly biting and peronaleentially call tenneee enator bob corker the chair of the powerful enate foreign relation committee a coward for not run for re electionay mr corker beg for the preidentendorement whichrefue to givewrongly claim that mr corkerupport of the iranian nuclear agreement beonly political accomplihment unlike ome ofcolleague mr corker free from have to worry aboutimmediate political future didn t holdtongue kip twitter pot by enbobcorker a hame the white houe have become an adult day care center omeone obviouly mihift thi morning enator bob corker enbobcorker october reportthat wan t the end ofthoughthen peak with the new york time and really let the preident havehere be four choice quote from the tenneee enatorinterview with the time and whybe particularly damn i don t know why the preident tweet out thing that be not trueknowdoeveryone knowdobutdocan t really ugarcoat thi one mr corker be flat out ay the preident be a liar and everyone knowthe enator in particular be challenge mr trumpinitence thatunuccefully plead forendorement but the accuation be much broad mr corker and the preident ue to be omething akin to ally the tenneean be on mr trumphort lit for vice preident and ecretary of tate image copyright getty image image caption bob corker at trump campaign rally in july thoe day be eemingly very much over now and not like mr corker be go anywhere anytime oon although not run for re electionwill be in the enate chair a powerful committee until january the preidentmargin for ucce in that chamber be razor thin if democrat can continue to tand together in oppoitioncan afford to loe only two vote out of republican enator thatwhy healthcare reform collape in july andcould be bad new for tax effort from here on out mr corker in t go to do the preident any favour look except for a few people the vat majority ofcaucu undertand whatre deal with here frutration in congre have be grow over what republican feel have be the preidentinability to focu on advanceagenda get a harply divide party to come together on plan to repeal obamacare reform taxi or boot infratructure pending be challenge enough do o when the preident tir up unrelated controvery on a eemingly daily bai make thing all the hard one of the preidentgift have beability to hake off negative tory by quickly move on to a different ubject that work brilliantly duringpreidential campaign but le effective during the legilative low grind image copyright getty image image caption corker at the confirmation hearing for ecretary of tate rex tilleronfor month republican in congre have be grumble about thi in the background and amongoccaionally omeone like mr mcconnell will lament that the preident doen t undertand how the enate work mr corker have now tateloud and clear and whatmoreay almot everyone agree with ve keep ilent until now becauetill hope to pa conervative legilation that the preident can ign or fear mr trumplegion will back a primary challenge next year or tay home during the general election if that calculu ever change ifbecome riky to tay ilent than peak out mr trump will be in real trouble a lot of people think that there be ome kind of good cop bad cop act underway but thatjut not true time and again mr trump have appear to undercut ecretary of tate rex tilleron and other inadminitration who be attempt to ue oft diplomacy to deal with a range of international crii the war againt the taliban in afghanitan irancompliance with the multinational nuclear agreement the ongoing dipute between qatar andperian gulf neighbour the unret in venezuela and mot recently north koreacontinue ballitic miile tet have all be the target of the preidenthoffman remark and twitter invective ome adminitration defender have ay thi be all a part of mr trumptrategy an update verion of the nixon era madman theory in which the preident force adverary to give way becauefear an unpredictable u leaderaction mr corker in t buyingthereno trategyay jut the poibility of chao whichhope mr trumpenior advier will be able to avoid i know for a fact that every ingle day at the white houe a ituation of try to containtherenow a grow collection of john kelly face palm photo that erve a a tetament to the chief of taffreport frutration at deal with the preident mr trump go off cript to praie torch bear white nationalit at a rally in charlotteville and mr kelly be capture cloeeye and rub the arch ofnoe a if attempt to tave off a migraine image copyright reuter image caption white houe chief of taff john kelly look on a u preident donald trump peak at a campaign raytheon preident call north korean leader criminal in a peech to the united nation and mr kelly traight up burieface inhand the white houe communication team be often leave cramble to try to explain or reframe an indicate preidential joke or remark that directly contradict what be until then the official adminitration line even though mr kelly have bring ome dicipline to the wet wing taff the preident till march to the beat ofown drum and continue to have unfettered acce tophonetwitt app bob corker be only the late peron politician journalit port tar or celebrity to feel the mercurial preidentuncontainable ire\n",
            "-----------------------------------------\n",
            "image copyright getty images sunday morning donald trump went off on a twitter tirade against a member of his own party this in itself isn t exactly huge news it s far from the first time the president has turned his rhetorical cannons on his own ranks this time however his attacks were particularly biting and personal he essentially called tennessee senator bob corker the chair of the powerful senate foreign relations committee a coward for not running for re election he said mr corker begged for the president s endorsement which he refused to give he wrongly claimed that mr corker s support of the iranian nuclear agreement was his only political accomplishment unlike some of his colleagues mr corker free from having to worry about his immediate political future didn t hold his tongue skip twitter post by senbobcorker it s a shame the white house has become an adult day care center someone obviously missed their shift this morning senator bob corker senbobcorker october reportthat wasn t the end of it though he then spoke with the new york times and really let the president have it here are four choice quotes from the tennessee senator s interview with the times and why they are particularly damning i don t know why the president tweets out things that are not true you know he does it everyone knows he does it but he does you can t really sugarcoat this one mr corker is flat out saying the president is a liar and everyone knows it the senator in particular is challenging mr trump s insistence that he unsuccessfully pleaded for his endorsement but the accusation is much broader mr corker and the president used to be something akin to allies the tennessean was on mr trump s short list for vice president and secretary of state image copyright getty images image caption bob corker at trump campaign rally in july those days are seemingly very much over now and it s not like mr corker is going anywhere anytime soon although he s not running for re election he ll be in the senate chairing a powerful committee until january the president s margin for success in that chamber is razor thin if democrats can continue to stand together in opposition he can afford to lose only two votes out of republican senators that s why healthcare reform collapsed in july and it could be bad news for tax efforts from here on out mr corker isn t going to do the president any favours look except for a few people the vast majority of our caucus understands what we re dealing with here frustration in congress has been growing over what republicans feel has been the president s inability to focus on advancing their agenda getting a sharply divided party to come together on plans to repeal obamacare reform taxes or boost infrastructure spending is challenging enough doing so when the president stirs up unrelated controversies on a seemingly daily basis makes things all the harder one of the president s gifts has been his ability to shake off negative stories by quickly moving on to a different subject that worked brilliantly during his presidential campaign but it s less effective during the legislative slow grind image copyright getty images image caption corker at the confirmation hearing for secretary of state rex tillersonfor months republicans in congress have been grumbling about this in the background and among themselves occasionally someone like mr mcconnell will lament that the president doesn t understand how the senate works mr corker has now stated it loud and clear and what s more he says almost everyone agrees with him they ve kept silent until now because they still hope to pass conservative legislation that the president can sign or fear mr trump s legions will back a primary challenge next year or stay home during the general election if that calculus ever changes if it becomes riskier to stay silent than speak out mr trump will be in real trouble a lot of people think that there is some kind of good cop bad cop act underway but that s just not true time and again mr trump has appeared to undercut secretary of state rex tillerson and others in his administration who are attempting to use soft diplomacy to deal with a range of international crises the war against the taliban in afghanistan iran s compliance with the multinational nuclear agreement the ongoing dispute between qatar and its persian gulf neighbours the unrest in venezuela and most recently north korea s continued ballistic missile tests have all been the target of the president s hoffman remarks and twitter invective some administration defenders have said this is all a part of mr trump s strategy an updated version of the nixon era madman theory in which the president forces adversaries to give way because they fear an unpredictable us leader s actions mr corker isn t buying it there s no strategy he says just the possibility of chaos which he hopes mr trump s senior advisers will be able to avoid i know for a fact that every single day at the white house it s a situation of trying to contain him there s now a growing collection of john kelly face palm photos that serve as a testament to the chief of staff s reported frustration at dealing with the president mr trump goes off script to praise torch bearing white nationalists at a rally in charlottesville and mr kelly is captured closing his eyes and rubbing the arch of his nose as if attempting to stave off a migraine image copyright reuters image caption white house chief of staff john kelly looks on as us president donald trump speaks at a campaign raytheon president calls north korean leaders criminals in a speech to the united nations and mr kelly straight up buries his face in his hands the white house communications team is often left scrambling to try to explain or reframe an indicate presidential joke or remark that directly contradicts what was until then the official administration line even though mr kelly has brought some discipline to the west wing staff the president still marches to the beat of his own drum and continues to have unfettered access to his phone s twitter app bob corker is only the latest person politician journalist sports star or celebrity to feel the mercurial president s uncontainable ire  \n"
          ]
        }
      ]
    },
    {
      "cell_type": "markdown",
      "metadata": {
        "id": "Vv96jFyHzSw9"
      },
      "source": [
        "# Удаление стоп-слов"
      ]
    },
    {
      "cell_type": "code",
      "metadata": {
        "colab": {
          "base_uri": "https://localhost:8080/"
        },
        "id": "L-SOuvTw_9SU",
        "outputId": "e9d2f7e5-46b6-4ff7-bf0b-69c6e53a3441"
      },
      "source": [
        "import nltk\n",
        "from nltk.corpus import stopwords\n",
        "\n",
        "nltk.download(\"stopwords\")\n",
        "english_stopwords = stopwords.words(\"english\")"
      ],
      "execution_count": 23,
      "outputs": [
        {
          "output_type": "stream",
          "name": "stdout",
          "text": [
            "[nltk_data] Downloading package stopwords to /root/nltk_data...\n",
            "[nltk_data]   Package stopwords is already up-to-date!\n"
          ]
        }
      ]
    },
    {
      "cell_type": "code",
      "metadata": {
        "id": "nAALFspKyu1x"
      },
      "source": [
        "def removeStopWords(df):\n",
        "    df['Body_04'] = df['Body_03']\n",
        "\n",
        "    for stop_word in english_stopwords:\n",
        "        stopword = r\"\\b\" + stop_word + r\"\\b\"\n",
        "        df['Body_04'] = df['Body_04'].str.replace(stopword, '')\n",
        "\n",
        "    df['Body_04'] = df['Body_04'].str.replace('  ', ' ')\n",
        "    df['Body_04'] = df['Body_04'].str.replace('  ', ' ')\n",
        "\n",
        "removeStopWords(df)"
      ],
      "execution_count": 24,
      "outputs": []
    },
    {
      "cell_type": "code",
      "metadata": {
        "colab": {
          "base_uri": "https://localhost:8080/"
        },
        "id": "_-8yxtlr615h",
        "outputId": "982bd632-9245-4947-f419-337db6fe3803"
      },
      "source": [
        "print(df['Body_03'][0])\n",
        "print('-----------------------------------------')\n",
        "print(df['Body_04'][0])"
      ],
      "execution_count": 25,
      "outputs": [
        {
          "output_type": "stream",
          "name": "stdout",
          "text": [
            "image copyright getty image unday morning donald trump go off on a twitt tirade againt a member ofown party thi inin t exactly huge new far from the firt time the preident have turnrhetorical cannon onown rank thi time howeverattack be particularly biting and peronaleentially call tenneee enator bob corker the chair of the powerful enate foreign relation committee a coward for not run for re electionay mr corker beg for the preidentendorement whichrefue to givewrongly claim that mr corkerupport of the iranian nuclear agreement beonly political accomplihment unlike ome ofcolleague mr corker free from have to worry aboutimmediate political future didn t holdtongue kip twitter pot by enbobcorker a hame the white houe have become an adult day care center omeone obviouly mihift thi morning enator bob corker enbobcorker october reportthat wan t the end ofthoughthen peak with the new york time and really let the preident havehere be four choice quote from the tenneee enatorinterview with the time and whybe particularly damn i don t know why the preident tweet out thing that be not trueknowdoeveryone knowdobutdocan t really ugarcoat thi one mr corker be flat out ay the preident be a liar and everyone knowthe enator in particular be challenge mr trumpinitence thatunuccefully plead forendorement but the accuation be much broad mr corker and the preident ue to be omething akin to ally the tenneean be on mr trumphort lit for vice preident and ecretary of tate image copyright getty image image caption bob corker at trump campaign rally in july thoe day be eemingly very much over now and not like mr corker be go anywhere anytime oon although not run for re electionwill be in the enate chair a powerful committee until january the preidentmargin for ucce in that chamber be razor thin if democrat can continue to tand together in oppoitioncan afford to loe only two vote out of republican enator thatwhy healthcare reform collape in july andcould be bad new for tax effort from here on out mr corker in t go to do the preident any favour look except for a few people the vat majority ofcaucu undertand whatre deal with here frutration in congre have be grow over what republican feel have be the preidentinability to focu on advanceagenda get a harply divide party to come together on plan to repeal obamacare reform taxi or boot infratructure pending be challenge enough do o when the preident tir up unrelated controvery on a eemingly daily bai make thing all the hard one of the preidentgift have beability to hake off negative tory by quickly move on to a different ubject that work brilliantly duringpreidential campaign but le effective during the legilative low grind image copyright getty image image caption corker at the confirmation hearing for ecretary of tate rex tilleronfor month republican in congre have be grumble about thi in the background and amongoccaionally omeone like mr mcconnell will lament that the preident doen t undertand how the enate work mr corker have now tateloud and clear and whatmoreay almot everyone agree with ve keep ilent until now becauetill hope to pa conervative legilation that the preident can ign or fear mr trumplegion will back a primary challenge next year or tay home during the general election if that calculu ever change ifbecome riky to tay ilent than peak out mr trump will be in real trouble a lot of people think that there be ome kind of good cop bad cop act underway but thatjut not true time and again mr trump have appear to undercut ecretary of tate rex tilleron and other inadminitration who be attempt to ue oft diplomacy to deal with a range of international crii the war againt the taliban in afghanitan irancompliance with the multinational nuclear agreement the ongoing dipute between qatar andperian gulf neighbour the unret in venezuela and mot recently north koreacontinue ballitic miile tet have all be the target of the preidenthoffman remark and twitter invective ome adminitration defender have ay thi be all a part of mr trumptrategy an update verion of the nixon era madman theory in which the preident force adverary to give way becauefear an unpredictable u leaderaction mr corker in t buyingthereno trategyay jut the poibility of chao whichhope mr trumpenior advier will be able to avoid i know for a fact that every ingle day at the white houe a ituation of try to containtherenow a grow collection of john kelly face palm photo that erve a a tetament to the chief of taffreport frutration at deal with the preident mr trump go off cript to praie torch bear white nationalit at a rally in charlotteville and mr kelly be capture cloeeye and rub the arch ofnoe a if attempt to tave off a migraine image copyright reuter image caption white houe chief of taff john kelly look on a u preident donald trump peak at a campaign raytheon preident call north korean leader criminal in a peech to the united nation and mr kelly traight up burieface inhand the white houe communication team be often leave cramble to try to explain or reframe an indicate preidential joke or remark that directly contradict what be until then the official adminitration line even though mr kelly have bring ome dicipline to the wet wing taff the preident till march to the beat ofown drum and continue to have unfettered acce tophonetwitt app bob corker be only the late peron politician journalit port tar or celebrity to feel the mercurial preidentuncontainable ire\n",
            "-----------------------------------------\n",
            "image copyright getty image unday morning donald trump go twitt tirade againt member ofown party thi inin exactly huge new far firt time preident turnrhetorical cannon onown rank thi time howeverattack particularly biting peronaleentially call tenneee enator bob corker chair powerful enate foreign relation committee coward run electionay mr corker beg preidentendorement whichrefue givewrongly claim mr corkerupport iranian nuclear agreement beonly political accomplihment unlike ome ofcolleague mr corker free worry aboutimmediate political future holdtongue kip twitter pot enbobcorker hame white houe become adult day care center omeone obviouly mihift thi morning enator bob corker enbobcorker october reportthat wan end ofthoughthen peak new york time really let preident havehere four choice quote tenneee enatorinterview time whybe particularly damn know preident tweet thing trueknowdoeveryone knowdobutdocan really ugarcoat thi one mr corker flat ay preident liar everyone knowthe enator particular challenge mr trumpinitence thatunuccefully plead forendorement accuation much broad mr corker preident ue omething akin ally tenneean mr trumphort lit vice preident ecretary tate image copyright getty image image caption bob corker trump campaign rally july thoe day eemingly much  like mr corker go anywhere anytime oon although run electionwill enate chair powerful committee january preidentmargin ucce chamber razor thin democrat continue tand together oppoitioncan afford loe two vote republican enator thatwhy healthcare reform collape july andcould bad new tax effort  mr corker go preident favour look except people vat majority ofcaucu undertand whatre deal frutration congre grow republican feel preidentinability focu advanceagenda get harply divide party come together plan repeal obamacare reform taxi boot infratructure pending challenge enough  preident tir unrelated controvery eemingly daily bai make thing hard one preidentgift beability hake negative tory quickly move different ubject work brilliantly duringpreidential campaign le effective legilative low grind image copyright getty image image caption corker confirmation hearing ecretary tate rex tilleronfor month republican congre grumble thi background amongoccaionally omeone like mr mcconnell lament preident doen undertand enate work mr corker tateloud clear whatmoreay almot everyone agree keep ilent becauetill hope pa conervative legilation preident ign fear mr trumplegion back primary challenge next year tay home general election calculu ever change ifbecome riky tay ilent peak mr trump real trouble lot people think ome kind good cop bad cop act underway thatjut true time mr trump appear undercut ecretary tate rex tilleron inadminitration attempt ue oft diplomacy deal range international crii war againt taliban afghanitan irancompliance multinational nuclear agreement ongoing dipute qatar andperian gulf neighbour unret venezuela mot recently north koreacontinue ballitic miile tet  target preidenthoffman remark twitter invective ome adminitration defender ay thi part mr trumptrategy update verion nixon era madman theory preident force adverary give way becauefear unpredictable u leaderaction mr corker buyingthereno trategyay jut poibility chao whichhope mr trumpenior advier able avoid know fact every ingle day white houe ituation try containtherenow grow collection john kelly face palm photo erve tetament chief taffreport frutration deal preident mr trump go cript praie torch bear white nationalit rally charlotteville mr kelly capture cloeeye rub arch ofnoe attempt tave migraine image copyright reuter image caption white houe chief taff john kelly look u preident donald trump peak campaign raytheon preident call north korean leader criminal peech united nation mr kelly traight burieface inhand white houe communication team often leave cramble try explain reframe indicate preidential joke remark directly contradict  official adminitration line even though mr kelly bring ome dicipline wet wing taff preident till march beat ofown drum continue unfettered acce tophonetwitt app bob corker late peron politician journalit port tar celebrity feel mercurial preidentuncontainable ire\n"
          ]
        }
      ]
    },
    {
      "cell_type": "code",
      "metadata": {
        "colab": {
          "base_uri": "https://localhost:8080/",
          "height": 806
        },
        "id": "OA7t1aPPGCuH",
        "outputId": "1f3df5e4-75fa-4f9b-aa84-548da75df86a"
      },
      "source": [
        "df"
      ],
      "execution_count": 26,
      "outputs": [
        {
          "output_type": "execute_result",
          "data": {
            "text/html": [
              "<div>\n",
              "<style scoped>\n",
              "    .dataframe tbody tr th:only-of-type {\n",
              "        vertical-align: middle;\n",
              "    }\n",
              "\n",
              "    .dataframe tbody tr th {\n",
              "        vertical-align: top;\n",
              "    }\n",
              "\n",
              "    .dataframe thead th {\n",
              "        text-align: right;\n",
              "    }\n",
              "</style>\n",
              "<table border=\"1\" class=\"dataframe\">\n",
              "  <thead>\n",
              "    <tr style=\"text-align: right;\">\n",
              "      <th></th>\n",
              "      <th>URLs</th>\n",
              "      <th>Headline</th>\n",
              "      <th>Body</th>\n",
              "      <th>Label</th>\n",
              "      <th>Body_01</th>\n",
              "      <th>Body_02</th>\n",
              "      <th>Number of spell mistakes</th>\n",
              "      <th>Body_03</th>\n",
              "      <th>Body_04</th>\n",
              "    </tr>\n",
              "  </thead>\n",
              "  <tbody>\n",
              "    <tr>\n",
              "      <th>0</th>\n",
              "      <td>http://www.bbc.com/news/world-us-canada-414191...</td>\n",
              "      <td>Four ways Bob Corker skewered Donald Trump</td>\n",
              "      <td>Image copyright Getty Images\\nOn Sunday mornin...</td>\n",
              "      <td>1</td>\n",
              "      <td>image copyright getty imageson sunday morning ...</td>\n",
              "      <td>image copyright getty images sunday morning do...</td>\n",
              "      <td>4</td>\n",
              "      <td>image copyright getty image unday morning dona...</td>\n",
              "      <td>image copyright getty image unday morning dona...</td>\n",
              "    </tr>\n",
              "    <tr>\n",
              "      <th>1</th>\n",
              "      <td>https://www.reuters.com/article/us-filmfestiva...</td>\n",
              "      <td>Linklater's war veteran comedy speaks to moder...</td>\n",
              "      <td>LONDON (Reuters) - “Last Flag Flying”, a comed...</td>\n",
              "      <td>1</td>\n",
              "      <td>london reuters  last flag flying a comedy dram...</td>\n",
              "      <td>london reuters  last flag flying a comedy dram...</td>\n",
              "      <td>0</td>\n",
              "      <td>london reuter lat flag fly a comedy drama abou...</td>\n",
              "      <td>london reuter lat flag fly comedy drama vietna...</td>\n",
              "    </tr>\n",
              "    <tr>\n",
              "      <th>2</th>\n",
              "      <td>https://www.nytimes.com/2017/10/09/us/politics...</td>\n",
              "      <td>Trump’s Fight With Corker Jeopardizes His Legi...</td>\n",
              "      <td>The feud broke into public view last week when...</td>\n",
              "      <td>1</td>\n",
              "      <td>the feud broke into public view last week when...</td>\n",
              "      <td>the feud broke into public view last week when...</td>\n",
              "      <td>3</td>\n",
              "      <td>the feud break into public view lat week when ...</td>\n",
              "      <td>feud break public view lat week mr corker ay ...</td>\n",
              "    </tr>\n",
              "    <tr>\n",
              "      <th>3</th>\n",
              "      <td>https://www.reuters.com/article/us-mexico-oil-...</td>\n",
              "      <td>Egypt's Cheiron wins tie-up with Pemex for Mex...</td>\n",
              "      <td>MEXICO CITY (Reuters) - Egypt’s Cheiron Holdin...</td>\n",
              "      <td>1</td>\n",
              "      <td>mexico city reuters egypt s cheiron holdings l...</td>\n",
              "      <td>mexico city reuters egypt s chevron holdings l...</td>\n",
              "      <td>1</td>\n",
              "      <td>mexico city reuter egyptchevron holding limite...</td>\n",
              "      <td>mexico city reuter egyptchevron holding limite...</td>\n",
              "    </tr>\n",
              "    <tr>\n",
              "      <th>4</th>\n",
              "      <td>http://www.cnn.com/videos/cnnmoney/2017/10/08/...</td>\n",
              "      <td>Jason Aldean opens 'SNL' with Vegas tribute</td>\n",
              "      <td>Country singer Jason Aldean, who was performin...</td>\n",
              "      <td>1</td>\n",
              "      <td>country singer jason aldean who was performing...</td>\n",
              "      <td>country singer jason aldean who was performing...</td>\n",
              "      <td>0</td>\n",
              "      <td>country inger jaon aldean who be perform a the...</td>\n",
              "      <td>country inger jaon aldean perform la vega hoot...</td>\n",
              "    </tr>\n",
              "    <tr>\n",
              "      <th>...</th>\n",
              "      <td>...</td>\n",
              "      <td>...</td>\n",
              "      <td>...</td>\n",
              "      <td>...</td>\n",
              "      <td>...</td>\n",
              "      <td>...</td>\n",
              "      <td>...</td>\n",
              "      <td>...</td>\n",
              "      <td>...</td>\n",
              "    </tr>\n",
              "    <tr>\n",
              "      <th>3983</th>\n",
              "      <td>http://beforeitsnews.com/u-s-politics/2017/10/...</td>\n",
              "      <td>CNN and Globalist Exposed - Steve Quayle and A...</td>\n",
              "      <td>Vietnam Is in Great Danger, You Must Publish a...</td>\n",
              "      <td>0</td>\n",
              "      <td>vietnam is in great danger you must publish an...</td>\n",
              "      <td>vietnam is in great danger you must publish an...</td>\n",
              "      <td>0</td>\n",
              "      <td>vietnam be in great dangermut publih and tella...</td>\n",
              "      <td>vietnam great dangermut publih tellarmy govern...</td>\n",
              "    </tr>\n",
              "    <tr>\n",
              "      <th>3984</th>\n",
              "      <td>http://beforeitsnews.com/sports/2017/09/trends...</td>\n",
              "      <td>Trends to Watch</td>\n",
              "      <td>Trends to Watch\\n% of readers think this story...</td>\n",
              "      <td>0</td>\n",
              "      <td>trends to watch of readers think this story is...</td>\n",
              "      <td>trends to watch of readers think this story is...</td>\n",
              "      <td>8</td>\n",
              "      <td>trend to watch of reader think thi tory be fac...</td>\n",
              "      <td>trend watch reader think thi tory fact addtwo ...</td>\n",
              "    </tr>\n",
              "    <tr>\n",
              "      <th>3985</th>\n",
              "      <td>http://beforeitsnews.com/u-s-politics/2017/10/...</td>\n",
              "      <td>Trump Jr. Is Soon To Give A 30-Minute Speech F...</td>\n",
              "      <td>Trump Jr. Is Soon To Give A 30-Minute Speech F...</td>\n",
              "      <td>0</td>\n",
              "      <td>trump jr is soon to give a minute speech for  ...</td>\n",
              "      <td>trump jr is soon to give a minute speech for  ...</td>\n",
              "      <td>0</td>\n",
              "      <td>trump jr be oon to give a minute peech for of ...</td>\n",
              "      <td>trump jr oon give minute peech reader think th...</td>\n",
              "    </tr>\n",
              "    <tr>\n",
              "      <th>3986</th>\n",
              "      <td>https://www.reuters.com/article/us-china-pharm...</td>\n",
              "      <td>China to accept overseas trial data in bid to ...</td>\n",
              "      <td>SHANGHAI (Reuters) - China said it plans to ac...</td>\n",
              "      <td>1</td>\n",
              "      <td>shanghai reuters china said it plans to accept...</td>\n",
              "      <td>shanghai reuters china said it plans to accept...</td>\n",
              "      <td>1</td>\n",
              "      <td>hanghai reuter china ayplan to accept datum fr...</td>\n",
              "      <td>hanghai reuter china ayplan accept datum overe...</td>\n",
              "    </tr>\n",
              "    <tr>\n",
              "      <th>3987</th>\n",
              "      <td>http://beforeitsnews.com/u-s-politics/2017/10/...</td>\n",
              "      <td>Vice President Mike Pence Leaves NFL Game Beca...</td>\n",
              "      <td>Vice President Mike Pence Leaves NFL Game Beca...</td>\n",
              "      <td>0</td>\n",
              "      <td>vice president mike pence leaves nfl game beca...</td>\n",
              "      <td>vice president mike pence leaves nfl game beca...</td>\n",
              "      <td>3</td>\n",
              "      <td>vice preident mike pence leave nfl game becaue...</td>\n",
              "      <td>vice preident mike pence leave nfl game becaue...</td>\n",
              "    </tr>\n",
              "  </tbody>\n",
              "</table>\n",
              "<p>3988 rows × 9 columns</p>\n",
              "</div>"
            ],
            "text/plain": [
              "                                                   URLs  ...                                            Body_04\n",
              "0     http://www.bbc.com/news/world-us-canada-414191...  ...  image copyright getty image unday morning dona...\n",
              "1     https://www.reuters.com/article/us-filmfestiva...  ...  london reuter lat flag fly comedy drama vietna...\n",
              "2     https://www.nytimes.com/2017/10/09/us/politics...  ...   feud break public view lat week mr corker ay ...\n",
              "3     https://www.reuters.com/article/us-mexico-oil-...  ...  mexico city reuter egyptchevron holding limite...\n",
              "4     http://www.cnn.com/videos/cnnmoney/2017/10/08/...  ...  country inger jaon aldean perform la vega hoot...\n",
              "...                                                 ...  ...                                                ...\n",
              "3983  http://beforeitsnews.com/u-s-politics/2017/10/...  ...  vietnam great dangermut publih tellarmy govern...\n",
              "3984  http://beforeitsnews.com/sports/2017/09/trends...  ...  trend watch reader think thi tory fact addtwo ...\n",
              "3985  http://beforeitsnews.com/u-s-politics/2017/10/...  ...  trump jr oon give minute peech reader think th...\n",
              "3986  https://www.reuters.com/article/us-china-pharm...  ...  hanghai reuter china ayplan accept datum overe...\n",
              "3987  http://beforeitsnews.com/u-s-politics/2017/10/...  ...  vice preident mike pence leave nfl game becaue...\n",
              "\n",
              "[3988 rows x 9 columns]"
            ]
          },
          "metadata": {},
          "execution_count": 26
        }
      ]
    },
    {
      "cell_type": "markdown",
      "metadata": {
        "id": "s6OKwCa9RafN"
      },
      "source": [
        "# Тональность и субъективность"
      ]
    },
    {
      "cell_type": "code",
      "metadata": {
        "id": "MjcXkRdCRfR5"
      },
      "source": [
        "from textblob import TextBlob"
      ],
      "execution_count": 30,
      "outputs": []
    },
    {
      "cell_type": "code",
      "metadata": {
        "id": "pkTOkZmSUmJw"
      },
      "source": [
        "def polarityOfText(df):\n",
        "\n",
        "    polarity_text = []\n",
        "\n",
        "    for text in df['Body_04']:\n",
        "        analysisPol = TextBlob(text).polarity\n",
        "        polarity_text.append(analysisPol)\n",
        "\n",
        "    df['Polarity'] = polarity_text\n",
        "\n",
        "def subjectivityOfText(df):\n",
        "    subjectivity_text = []\n",
        "\n",
        "    for text in df['Body_04']:\n",
        "        analysisSub = TextBlob(text).subjectivity\n",
        "        subjectivity_text.append(analysisSub)\n",
        "\n",
        "    df['Subjectivity'] = subjectivity_text\n",
        "\n",
        "\n",
        "polarityOfText(df)\n",
        "subjectivityOfText(df)"
      ],
      "execution_count": 33,
      "outputs": []
    },
    {
      "cell_type": "code",
      "metadata": {
        "colab": {
          "base_uri": "https://localhost:8080/",
          "height": 1000
        },
        "id": "IIYknL5vV6Yu",
        "outputId": "69338aa7-129b-4c37-b4cb-64cfb0110cfb"
      },
      "source": [
        "df"
      ],
      "execution_count": 34,
      "outputs": [
        {
          "output_type": "execute_result",
          "data": {
            "text/html": [
              "<div>\n",
              "<style scoped>\n",
              "    .dataframe tbody tr th:only-of-type {\n",
              "        vertical-align: middle;\n",
              "    }\n",
              "\n",
              "    .dataframe tbody tr th {\n",
              "        vertical-align: top;\n",
              "    }\n",
              "\n",
              "    .dataframe thead th {\n",
              "        text-align: right;\n",
              "    }\n",
              "</style>\n",
              "<table border=\"1\" class=\"dataframe\">\n",
              "  <thead>\n",
              "    <tr style=\"text-align: right;\">\n",
              "      <th></th>\n",
              "      <th>URLs</th>\n",
              "      <th>Headline</th>\n",
              "      <th>Body</th>\n",
              "      <th>Label</th>\n",
              "      <th>Body_01</th>\n",
              "      <th>Body_02</th>\n",
              "      <th>Number of spell mistakes</th>\n",
              "      <th>Body_03</th>\n",
              "      <th>Body_04</th>\n",
              "      <th>Polarity</th>\n",
              "      <th>Subjectivity</th>\n",
              "    </tr>\n",
              "  </thead>\n",
              "  <tbody>\n",
              "    <tr>\n",
              "      <th>0</th>\n",
              "      <td>http://www.bbc.com/news/world-us-canada-414191...</td>\n",
              "      <td>Four ways Bob Corker skewered Donald Trump</td>\n",
              "      <td>Image copyright Getty Images\\nOn Sunday mornin...</td>\n",
              "      <td>1</td>\n",
              "      <td>image copyright getty imageson sunday morning ...</td>\n",
              "      <td>image copyright getty images sunday morning do...</td>\n",
              "      <td>4</td>\n",
              "      <td>image copyright getty image unday morning dona...</td>\n",
              "      <td>image copyright getty image unday morning dona...</td>\n",
              "      <td>0.049941</td>\n",
              "      <td>0.422146</td>\n",
              "    </tr>\n",
              "    <tr>\n",
              "      <th>1</th>\n",
              "      <td>https://www.reuters.com/article/us-filmfestiva...</td>\n",
              "      <td>Linklater's war veteran comedy speaks to moder...</td>\n",
              "      <td>LONDON (Reuters) - “Last Flag Flying”, a comed...</td>\n",
              "      <td>1</td>\n",
              "      <td>london reuters  last flag flying a comedy dram...</td>\n",
              "      <td>london reuters  last flag flying a comedy dram...</td>\n",
              "      <td>0</td>\n",
              "      <td>london reuter lat flag fly a comedy drama abou...</td>\n",
              "      <td>london reuter lat flag fly comedy drama vietna...</td>\n",
              "      <td>0.076455</td>\n",
              "      <td>0.460599</td>\n",
              "    </tr>\n",
              "    <tr>\n",
              "      <th>2</th>\n",
              "      <td>https://www.nytimes.com/2017/10/09/us/politics...</td>\n",
              "      <td>Trump’s Fight With Corker Jeopardizes His Legi...</td>\n",
              "      <td>The feud broke into public view last week when...</td>\n",
              "      <td>1</td>\n",
              "      <td>the feud broke into public view last week when...</td>\n",
              "      <td>the feud broke into public view last week when...</td>\n",
              "      <td>3</td>\n",
              "      <td>the feud break into public view lat week when ...</td>\n",
              "      <td>feud break public view lat week mr corker ay ...</td>\n",
              "      <td>0.135501</td>\n",
              "      <td>0.408650</td>\n",
              "    </tr>\n",
              "    <tr>\n",
              "      <th>3</th>\n",
              "      <td>https://www.reuters.com/article/us-mexico-oil-...</td>\n",
              "      <td>Egypt's Cheiron wins tie-up with Pemex for Mex...</td>\n",
              "      <td>MEXICO CITY (Reuters) - Egypt’s Cheiron Holdin...</td>\n",
              "      <td>1</td>\n",
              "      <td>mexico city reuters egypt s cheiron holdings l...</td>\n",
              "      <td>mexico city reuters egypt s chevron holdings l...</td>\n",
              "      <td>1</td>\n",
              "      <td>mexico city reuter egyptchevron holding limite...</td>\n",
              "      <td>mexico city reuter egyptchevron holding limite...</td>\n",
              "      <td>0.119898</td>\n",
              "      <td>0.282653</td>\n",
              "    </tr>\n",
              "    <tr>\n",
              "      <th>4</th>\n",
              "      <td>http://www.cnn.com/videos/cnnmoney/2017/10/08/...</td>\n",
              "      <td>Jason Aldean opens 'SNL' with Vegas tribute</td>\n",
              "      <td>Country singer Jason Aldean, who was performin...</td>\n",
              "      <td>1</td>\n",
              "      <td>country singer jason aldean who was performing...</td>\n",
              "      <td>country singer jason aldean who was performing...</td>\n",
              "      <td>0</td>\n",
              "      <td>country inger jaon aldean who be perform a the...</td>\n",
              "      <td>country inger jaon aldean perform la vega hoot...</td>\n",
              "      <td>0.043561</td>\n",
              "      <td>0.408333</td>\n",
              "    </tr>\n",
              "    <tr>\n",
              "      <th>...</th>\n",
              "      <td>...</td>\n",
              "      <td>...</td>\n",
              "      <td>...</td>\n",
              "      <td>...</td>\n",
              "      <td>...</td>\n",
              "      <td>...</td>\n",
              "      <td>...</td>\n",
              "      <td>...</td>\n",
              "      <td>...</td>\n",
              "      <td>...</td>\n",
              "      <td>...</td>\n",
              "    </tr>\n",
              "    <tr>\n",
              "      <th>3983</th>\n",
              "      <td>http://beforeitsnews.com/u-s-politics/2017/10/...</td>\n",
              "      <td>CNN and Globalist Exposed - Steve Quayle and A...</td>\n",
              "      <td>Vietnam Is in Great Danger, You Must Publish a...</td>\n",
              "      <td>0</td>\n",
              "      <td>vietnam is in great danger you must publish an...</td>\n",
              "      <td>vietnam is in great danger you must publish an...</td>\n",
              "      <td>0</td>\n",
              "      <td>vietnam be in great dangermut publih and tella...</td>\n",
              "      <td>vietnam great dangermut publih tellarmy govern...</td>\n",
              "      <td>0.800000</td>\n",
              "      <td>0.750000</td>\n",
              "    </tr>\n",
              "    <tr>\n",
              "      <th>3984</th>\n",
              "      <td>http://beforeitsnews.com/sports/2017/09/trends...</td>\n",
              "      <td>Trends to Watch</td>\n",
              "      <td>Trends to Watch\\n% of readers think this story...</td>\n",
              "      <td>0</td>\n",
              "      <td>trends to watch of readers think this story is...</td>\n",
              "      <td>trends to watch of readers think this story is...</td>\n",
              "      <td>8</td>\n",
              "      <td>trend to watch of reader think thi tory be fac...</td>\n",
              "      <td>trend watch reader think thi tory fact addtwo ...</td>\n",
              "      <td>0.321465</td>\n",
              "      <td>0.516919</td>\n",
              "    </tr>\n",
              "    <tr>\n",
              "      <th>3985</th>\n",
              "      <td>http://beforeitsnews.com/u-s-politics/2017/10/...</td>\n",
              "      <td>Trump Jr. Is Soon To Give A 30-Minute Speech F...</td>\n",
              "      <td>Trump Jr. Is Soon To Give A 30-Minute Speech F...</td>\n",
              "      <td>0</td>\n",
              "      <td>trump jr is soon to give a minute speech for  ...</td>\n",
              "      <td>trump jr is soon to give a minute speech for  ...</td>\n",
              "      <td>0</td>\n",
              "      <td>trump jr be oon to give a minute peech for of ...</td>\n",
              "      <td>trump jr oon give minute peech reader think th...</td>\n",
              "      <td>0.090909</td>\n",
              "      <td>0.303030</td>\n",
              "    </tr>\n",
              "    <tr>\n",
              "      <th>3986</th>\n",
              "      <td>https://www.reuters.com/article/us-china-pharm...</td>\n",
              "      <td>China to accept overseas trial data in bid to ...</td>\n",
              "      <td>SHANGHAI (Reuters) - China said it plans to ac...</td>\n",
              "      <td>1</td>\n",
              "      <td>shanghai reuters china said it plans to accept...</td>\n",
              "      <td>shanghai reuters china said it plans to accept...</td>\n",
              "      <td>1</td>\n",
              "      <td>hanghai reuter china ayplan to accept datum fr...</td>\n",
              "      <td>hanghai reuter china ayplan accept datum overe...</td>\n",
              "      <td>0.095141</td>\n",
              "      <td>0.309675</td>\n",
              "    </tr>\n",
              "    <tr>\n",
              "      <th>3987</th>\n",
              "      <td>http://beforeitsnews.com/u-s-politics/2017/10/...</td>\n",
              "      <td>Vice President Mike Pence Leaves NFL Game Beca...</td>\n",
              "      <td>Vice President Mike Pence Leaves NFL Game Beca...</td>\n",
              "      <td>0</td>\n",
              "      <td>vice president mike pence leaves nfl game beca...</td>\n",
              "      <td>vice president mike pence leaves nfl game beca...</td>\n",
              "      <td>3</td>\n",
              "      <td>vice preident mike pence leave nfl game becaue...</td>\n",
              "      <td>vice preident mike pence leave nfl game becaue...</td>\n",
              "      <td>-0.031252</td>\n",
              "      <td>0.296021</td>\n",
              "    </tr>\n",
              "  </tbody>\n",
              "</table>\n",
              "<p>3988 rows × 11 columns</p>\n",
              "</div>"
            ],
            "text/plain": [
              "                                                   URLs  ... Subjectivity\n",
              "0     http://www.bbc.com/news/world-us-canada-414191...  ...     0.422146\n",
              "1     https://www.reuters.com/article/us-filmfestiva...  ...     0.460599\n",
              "2     https://www.nytimes.com/2017/10/09/us/politics...  ...     0.408650\n",
              "3     https://www.reuters.com/article/us-mexico-oil-...  ...     0.282653\n",
              "4     http://www.cnn.com/videos/cnnmoney/2017/10/08/...  ...     0.408333\n",
              "...                                                 ...  ...          ...\n",
              "3983  http://beforeitsnews.com/u-s-politics/2017/10/...  ...     0.750000\n",
              "3984  http://beforeitsnews.com/sports/2017/09/trends...  ...     0.516919\n",
              "3985  http://beforeitsnews.com/u-s-politics/2017/10/...  ...     0.303030\n",
              "3986  https://www.reuters.com/article/us-china-pharm...  ...     0.309675\n",
              "3987  http://beforeitsnews.com/u-s-politics/2017/10/...  ...     0.296021\n",
              "\n",
              "[3988 rows x 11 columns]"
            ]
          },
          "metadata": {},
          "execution_count": 34
        }
      ]
    },
    {
      "cell_type": "markdown",
      "metadata": {
        "id": "_oYKEQ2f7imF"
      },
      "source": [
        "# Векторизация"
      ]
    },
    {
      "cell_type": "code",
      "metadata": {
        "id": "QbbcmjwmD2kN"
      },
      "source": [
        "from sklearn.feature_extraction.text import TfidfVectorizer"
      ],
      "execution_count": 27,
      "outputs": []
    },
    {
      "cell_type": "code",
      "metadata": {
        "id": "rePCPtfzDu5F"
      },
      "source": [
        "# tfidf = TfidfVectorizer(encoding='utf-8',\n",
        "#                         ngram_range=(1,3),\n",
        "#                         stop_words=None,\n",
        "#                         lowercase=False,\n",
        "#                         norm='l2',\n",
        "#                         sublinear_tf=True)\n",
        "                        \n",
        "# features = tfidf.fit_transform(df['Body_04']).toarray() # fit()-обучение transfrom()-применение\n",
        "# feature_names = tfidf.get_feature_names()\n",
        "\n",
        "# df_features = pd.DataFrame(features, columns=feature_names)\n",
        "\n",
        "# # features_test = tfidf.transform(X_test).toarray()\n",
        "# # labels_test = y_test\n",
        "# # print(features_test.shape)"
      ],
      "execution_count": 28,
      "outputs": []
    },
    {
      "cell_type": "code",
      "metadata": {
        "id": "Alqd-pZzAMn2"
      },
      "source": [
        "# from sklearn.feature_extraction.text import CountVectorizer\n",
        "# cv = CountVectorizer()\n",
        "\n",
        "# # text_parsed = cv.fit_transform(text_parsed)"
      ],
      "execution_count": 29,
      "outputs": []
    }
  ]
}