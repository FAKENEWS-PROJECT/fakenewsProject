{
  "nbformat": 4,
  "nbformat_minor": 0,
  "metadata": {
    "colab": {
      "name": "telebot.ipynb",
      "provenance": []
    },
    "kernelspec": {
      "name": "python3",
      "display_name": "Python 3"
    },
    "language_info": {
      "name": "python"
    }
  },
  "cells": [
    {
      "cell_type": "code",
      "execution_count": 1,
      "metadata": {
        "colab": {
          "base_uri": "https://localhost:8080/"
        },
        "id": "Lc9mUc_D-61Z",
        "outputId": "6c811e12-3969-4c76-fd66-f4ffb9c92d99"
      },
      "outputs": [
        {
          "output_type": "stream",
          "name": "stdout",
          "text": [
            "Collecting pyTelegramBotAPI\n",
            "  Downloading pyTelegramBotAPI-4.4.0.tar.gz (147 kB)\n",
            "\u001b[?25l\r\u001b[K     |██▎                             | 10 kB 18.2 MB/s eta 0:00:01\r\u001b[K     |████▌                           | 20 kB 23.7 MB/s eta 0:00:01\r\u001b[K     |██████▊                         | 30 kB 26.8 MB/s eta 0:00:01\r\u001b[K     |█████████                       | 40 kB 28.6 MB/s eta 0:00:01\r\u001b[K     |███████████▏                    | 51 kB 19.3 MB/s eta 0:00:01\r\u001b[K     |█████████████▍                  | 61 kB 20.9 MB/s eta 0:00:01\r\u001b[K     |███████████████▋                | 71 kB 22.2 MB/s eta 0:00:01\r\u001b[K     |█████████████████▉              | 81 kB 23.3 MB/s eta 0:00:01\r\u001b[K     |████████████████████            | 92 kB 25.1 MB/s eta 0:00:01\r\u001b[K     |██████████████████████▎         | 102 kB 24.9 MB/s eta 0:00:01\r\u001b[K     |████████████████████████▌       | 112 kB 24.9 MB/s eta 0:00:01\r\u001b[K     |██████████████████████████▊     | 122 kB 24.9 MB/s eta 0:00:01\r\u001b[K     |█████████████████████████████   | 133 kB 24.9 MB/s eta 0:00:01\r\u001b[K     |███████████████████████████████▏| 143 kB 24.9 MB/s eta 0:00:01\r\u001b[K     |████████████████████████████████| 147 kB 24.9 MB/s \n",
            "\u001b[?25hRequirement already satisfied: requests in /usr/local/lib/python3.7/dist-packages (from pyTelegramBotAPI) (2.23.0)\n",
            "Requirement already satisfied: urllib3!=1.25.0,!=1.25.1,<1.26,>=1.21.1 in /usr/local/lib/python3.7/dist-packages (from requests->pyTelegramBotAPI) (1.24.3)\n",
            "Requirement already satisfied: chardet<4,>=3.0.2 in /usr/local/lib/python3.7/dist-packages (from requests->pyTelegramBotAPI) (3.0.4)\n",
            "Requirement already satisfied: certifi>=2017.4.17 in /usr/local/lib/python3.7/dist-packages (from requests->pyTelegramBotAPI) (2021.10.8)\n",
            "Requirement already satisfied: idna<3,>=2.5 in /usr/local/lib/python3.7/dist-packages (from requests->pyTelegramBotAPI) (2.10)\n",
            "Building wheels for collected packages: pyTelegramBotAPI\n",
            "  Building wheel for pyTelegramBotAPI (setup.py) ... \u001b[?25l\u001b[?25hdone\n",
            "  Created wheel for pyTelegramBotAPI: filename=pyTelegramBotAPI-4.4.0-py3-none-any.whl size=128152 sha256=a6abab22a371fe7aa68f78f2bfc6f0d7cffc16d54c90584787becb7d6279d9fb\n",
            "  Stored in directory: /root/.cache/pip/wheels/1e/6d/ff/435b12799b8212017f08dbbfdb7a1e5174d72d20fb7c0f4703\n",
            "Successfully built pyTelegramBotAPI\n",
            "Installing collected packages: pyTelegramBotAPI\n",
            "Successfully installed pyTelegramBotAPI-4.4.0\n"
          ]
        }
      ],
      "source": [
        "pip install pyTelegramBotAPI"
      ]
    },
    {
      "cell_type": "code",
      "source": [
        "from bs4 import BeautifulSoup\n",
        "import requests\n",
        "import json\n",
        "from urllib.parse import urlparse\n",
        "import telebot;\n",
        "from telebot import types\n",
        "bot = telebot.TeleBot('5260450850:AAGkp80bHug3CzO0AVj41IEoVNDocOJLfGk');"
      ],
      "metadata": {
        "id": "4kRo42h5B18k"
      },
      "execution_count": null,
      "outputs": []
    },
    {
      "cell_type": "code",
      "source": [
        "@bot.message_handler(commands=[\"start\"])\n",
        "def start(m, res=False):\n",
        "        bot.send_message(m.chat.id,'Z')\n",
        "        markup=types.ReplyKeyboardMarkup(resize_keyboard=True)\n",
        "        item1=types.KeyboardButton(\"Начать\")\n",
        "        item2=types.KeyboardButton(\"Информация\")\n",
        "        item3=types.KeyboardButton(\"Помощь\")\n",
        "        markup.add(item1)\n",
        "        markup.add(item2)\n",
        "        markup.add(item3)\n",
        "        bot.send_message(m.chat.id, 'Нажми: \\nНачать(чтобы воспользоваться программой)\\nИнформация(чтобы узанть о нас)\\nПомощь(чтобы узнать о боте)\\nХуй(если тебе есть, чем поделиться)',  reply_markup=markup)"
      ],
      "metadata": {
        "id": "c9CeBpsyC8_L"
      },
      "execution_count": null,
      "outputs": []
    },
    {
      "cell_type": "code",
      "source": [
        "@bot.message_handler(content_types=['text'])\n",
        "def get_text_messages(message):\n",
        "  if message.text == \"Начать\":\n",
        "    bot.send_message(message.from_user.id, \"Введите команду /go\")\n",
        "  if message.text == \"Помощь\":\n",
        "      bot.send_message(message.from_user.id, \"Если у вас есть вопросы по боту или работе программы, то задать их можно здесь @miCherex\")\n",
        "  if message.text == \"Информация\":\n",
        "      bot.send_message(message.from_user.id, \"Это проект учащихся IT-класса лицея №1511 при МИФИ, созданный для защиты от фейковых новостей в сети.\")\n",
        " "
      ],
      "metadata": {
        "id": "OqBOetzpBl2R"
      },
      "execution_count": null,
      "outputs": []
    },
    {
      "cell_type": "code",
      "source": [
        "@bot.message_handler(commands=[\"go\"], content_types=['text'])\n",
        "def go(message):\n",
        "    global link;\n",
        "    bot.send_message(message.from_user.id,'Введите ссылку на новость')\n",
        "    link=message.text\n",
        "    req = requests.get(link).text\n",
        "    soup = BeautifulSoup(req, \"lxml\")\n",
        "    head = soup.find('head')\n",
        "    zagolovok = head.find('title').text\n",
        "    textp = soup.find_all('div', attrs={'class': \"article__text\"})\n",
        "    if (len(textp)) == 0:\n",
        "        textp = soup.find_all('span', attrs={'class': 'intro'})\n",
        "    if (len(textp)) == 0:\n",
        "        text = soup.find_all('span', attrs={'class': 'intro'})\n",
        "    if (len(textp)) == 0:\n",
        "        textp = soup.find_all('p')\n",
        "    data = soup.find_all('time')\n",
        "    domain = urlparse(link).netloc\n",
        "    if (int(domain.find(\"www.\")) != -1):\n",
        "      domain = domain[4:]\n",
        "    if ((domain =='cnn.com' or domain =='money.cnn.com') and (len(data)==0)):\n",
        "      \n",
        "\n",
        "      data = soup.find_all('p', attrs={'class': 'update-time'})\n",
        "\n",
        "\n",
        "    if len(data) == 0:\n",
        "        data = soup.find_all('span', attrs={'class': 'article__info-date-modified'})\n",
        "    if len(data) == 0:\n",
        "        data = soup.find_all('div', attrs={'class': 'article__info-date-modified'})\n",
        "\n",
        "    if len(data) == 0:\n",
        "      data = soup.find_all('span', attrs={'class': 'DateLine__date___12trWy'})\n",
        "    if len(data) == 0:\n",
        "      data = soup.find_all('font', attrs={'style': 'vertical-align: inherit;'})\n",
        "    if len(data) == 0:\n",
        "      data = soup.find_all('div', attrs={'class': 'css-19m31ns'})\n",
        "    if len(data) == 0:\n",
        "      data = soup.find_all('p', attrs={'class': 'update-time'}) \n",
        "    if len(data) == 0:\n",
        "      data = soup.find_all('span', attrs={'class': 'update-time'})\n",
        "    if len(data) == 0:\n",
        "      data = soup.find_all('div', attrs={'class': 'update-time'})#http://www.cnn.com/2017/10/09/politics/melania-trump-ivana-trump-first-lady/index.html\n",
        "    if len(data)==0:\n",
        "      data = soup.find_all('p', attrs={'class': 'update-time'})\n",
        "      print(len(data))\n",
        "    if (len(data) ==0 and domain==\"activistpost.com\"):\n",
        "      data = soup.find_all('span', attrs={'class': 'entry-meta-date updated'}) # https://www.activistpost.com/2017/09/september-11-2001-questions-believe-official-story.html\n",
        "    if len(data) == 0:\n",
        "      data = soup.find_all('p', attrs={'class': 'entry-meta'})\n",
        "    if len(data) == 0:\n",
        "      data = soup.find_all('div', attrs={'class': \"post_date\"}) \n",
        "   \n",
        "    data1=data[0].text\n",
        "    # print(zagolovok)\n",
        "\n",
        "  \n",
        "\n",
        "    # for i in range(len(textp)):\n",
        "    #     print(textp[i].text)\n",
        "\n",
        "    # if len(data) != 0:\n",
        "    #     for i in range(len(data)):\n",
        "    #         print(data[i].text)\n",
        "    # else:\n",
        "    #     print(\"дата публикации на новстоном ресусре не указана\")\n",
        "\n",
        "    # print(data.text)\n",
        "\n",
        "  \n",
        "\n",
        "    url = link.split(\"//\")[-1].split(\"/\")[0].split('?')[0]\n",
        "    show = \"https://input.payapi.io/v1/api/fraud/domain/age/\" + domain\n",
        "\n",
        "    r = requests.get(show, verify = False)\n",
        "    soupp = BeautifulSoup(r.text, \"lxml\")\n",
        "\n",
        "    if r.status_code == 200:\n",
        "\n",
        "        age = soupp.find('body').text\n",
        "        str = int(age.find(\"Reg\"))\n",
        "        end = int(age.find(\"}\"))\n",
        "        # print(age[str:(end - 1)])\n",
        "\n",
        "        data = r.text\n",
        "        jsonToPython = json.loads(data)\n",
        "        list = [zagolovok, data1, age[str:(end - 1)], domain]\n",
        "        bot.send_message(message.from_user.id, text=list)\n",
        "bot.polling()\n",
        "  "
      ],
      "metadata": {
        "id": "Tdl-D87tDzTg"
      },
      "execution_count": null,
      "outputs": []
    },
    {
      "cell_type": "code",
      "source": [
        ""
      ],
      "metadata": {
        "id": "NIvzGj5YFBsf"
      },
      "execution_count": null,
      "outputs": []
    }
  ]
}