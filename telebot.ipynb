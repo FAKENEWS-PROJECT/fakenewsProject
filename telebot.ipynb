{
  "nbformat": 4,
  "nbformat_minor": 0,
  "metadata": {
    "colab": {
      "name": "telebot.ipynb",
      "provenance": []
    },
    "kernelspec": {
      "name": "python3",
      "display_name": "Python 3"
    },
    "language_info": {
      "name": "python"
    }
  },
  "cells": [
    {
      "cell_type": "code",
      "execution_count": 1,
      "metadata": {
        "colab": {
          "base_uri": "https://localhost:8080/"
        },
        "id": "Lc9mUc_D-61Z",
        "outputId": "fcb766f5-e037-442c-d414-41bd35c61c53"
      },
      "outputs": [
        {
          "output_type": "stream",
          "name": "stdout",
          "text": [
            "Collecting pyTelegramBotAPI\n",
            "  Downloading pyTelegramBotAPI-4.4.0.tar.gz (147 kB)\n",
            "\u001b[?25l\r\u001b[K     |██▎                             | 10 kB 20.1 MB/s eta 0:00:01\r\u001b[K     |████▌                           | 20 kB 12.5 MB/s eta 0:00:01\r\u001b[K     |██████▊                         | 30 kB 8.8 MB/s eta 0:00:01\r\u001b[K     |█████████                       | 40 kB 8.1 MB/s eta 0:00:01\r\u001b[K     |███████████▏                    | 51 kB 4.6 MB/s eta 0:00:01\r\u001b[K     |█████████████▍                  | 61 kB 5.3 MB/s eta 0:00:01\r\u001b[K     |███████████████▋                | 71 kB 5.4 MB/s eta 0:00:01\r\u001b[K     |█████████████████▉              | 81 kB 5.2 MB/s eta 0:00:01\r\u001b[K     |████████████████████            | 92 kB 5.7 MB/s eta 0:00:01\r\u001b[K     |██████████████████████▎         | 102 kB 5.2 MB/s eta 0:00:01\r\u001b[K     |████████████████████████▌       | 112 kB 5.2 MB/s eta 0:00:01\r\u001b[K     |██████████████████████████▊     | 122 kB 5.2 MB/s eta 0:00:01\r\u001b[K     |█████████████████████████████   | 133 kB 5.2 MB/s eta 0:00:01\r\u001b[K     |███████████████████████████████▏| 143 kB 5.2 MB/s eta 0:00:01\r\u001b[K     |████████████████████████████████| 147 kB 5.2 MB/s \n",
            "\u001b[?25hRequirement already satisfied: requests in /usr/local/lib/python3.7/dist-packages (from pyTelegramBotAPI) (2.23.0)\n",
            "Requirement already satisfied: chardet<4,>=3.0.2 in /usr/local/lib/python3.7/dist-packages (from requests->pyTelegramBotAPI) (3.0.4)\n",
            "Requirement already satisfied: urllib3!=1.25.0,!=1.25.1,<1.26,>=1.21.1 in /usr/local/lib/python3.7/dist-packages (from requests->pyTelegramBotAPI) (1.24.3)\n",
            "Requirement already satisfied: certifi>=2017.4.17 in /usr/local/lib/python3.7/dist-packages (from requests->pyTelegramBotAPI) (2021.10.8)\n",
            "Requirement already satisfied: idna<3,>=2.5 in /usr/local/lib/python3.7/dist-packages (from requests->pyTelegramBotAPI) (2.10)\n",
            "Building wheels for collected packages: pyTelegramBotAPI\n",
            "  Building wheel for pyTelegramBotAPI (setup.py) ... \u001b[?25l\u001b[?25hdone\n",
            "  Created wheel for pyTelegramBotAPI: filename=pyTelegramBotAPI-4.4.0-py3-none-any.whl size=128152 sha256=82c0a3477d0746b784a83ed7e552e2975804d41b4b93939bd5865ce94056f89f\n",
            "  Stored in directory: /root/.cache/pip/wheels/1e/6d/ff/435b12799b8212017f08dbbfdb7a1e5174d72d20fb7c0f4703\n",
            "Successfully built pyTelegramBotAPI\n",
            "Installing collected packages: pyTelegramBotAPI\n",
            "Successfully installed pyTelegramBotAPI-4.4.0\n"
          ]
        }
      ],
      "source": [
        "pip install pyTelegramBotAPI"
      ]
    },
    {
      "cell_type": "code",
      "source": [
        "from bs4 import BeautifulSoup\n",
        "import requests\n",
        "import json\n",
        "from urllib.parse import urlparse\n",
        "import telebot;\n",
        "from telebot import types\n",
        "global link;\n",
        "bot = telebot.TeleBot('5260450850:AAGkp80bHug3CzO0AVj41IEoVNDocOJLfGk');"
      ],
      "metadata": {
        "id": "4kRo42h5B18k"
      },
      "execution_count": 71,
      "outputs": []
    },
    {
      "cell_type": "code",
      "source": [
        "@bot.message_handler(commands=[\"start\"])\n",
        "def start(m, res=False):\n",
        "        markup=types.ReplyKeyboardMarkup(resize_keyboard=True)\n",
        "        item1=types.KeyboardButton(\"Начать\")\n",
        "        item2=types.KeyboardButton(\"Информация\")\n",
        "        item3=types.KeyboardButton(\"Помощь\")\n",
        "        markup.add(item1)\n",
        "        markup.add(item2)\n",
        "        markup.add(item3)\n",
        "        bot.send_message(m.chat.id, 'Нажми: \\nНачать(чтобы воспользоваться программой)\\nИнформация(чтобы узанть о нас)\\nПомощь(чтобы узнать о боте)',  reply_markup=markup)"
      ],
      "metadata": {
        "id": "c9CeBpsyC8_L"
      },
      "execution_count": 72,
      "outputs": []
    },
    {
      "cell_type": "code",
      "source": [
        "\n",
        "@bot.message_handler(func=lambda message: message.text=='Начать')\n",
        "def rabota(message):\n",
        "  bot.send_message(message.from_user.id, 'Введите ссылку на новость +_')\n",
        "  bot.register_next_step_handler(message, test);\n",
        "def test(message):\n",
        "    bot.send_message(message.chat.id, text=message.text)\n",
        "    link=message.text\n",
        "    req = requests.get(link).text\n",
        "    soup = BeautifulSoup(req, \"lxml\")\n",
        "    head = soup.find('head')\n",
        "    zagolovok = head.find('title').text\n",
        "    textp = soup.find_all('div', attrs={'class': \"article__text\"})\n",
        "    if (len(textp)) == 0:\n",
        "        textp = soup.find_all('span', attrs={'class': 'intro'})\n",
        "    if (len(textp)) == 0:\n",
        "        text = soup.find_all('span', attrs={'class': 'intro'})\n",
        "    if (len(textp)) == 0:\n",
        "        textp = soup.find_all('p')\n",
        "    \n",
        "    domain = urlparse(link).netloc\n",
        "    if (int(domain.find(\"www.\")) != -1):\n",
        "      domain = domain[4:]\n",
        "   \n",
        "    url = link.split(\"//\")[-1].split(\"/\")[0].split('?')[0]\n",
        "    show = \"https://input.payapi.io/v1/api/fraud/domain/age/\" + domain\n",
        "\n",
        "    r = requests.get(show, verify = False)\n",
        "    soupp = BeautifulSoup(r.text, \"lxml\")\n",
        "\n",
        "    if requests.get(link).status_code ==200:\n",
        "\n",
        "        age = soupp.find('body').text\n",
        "        str = int(age.find(\"Reg\"))\n",
        "        end = int(age.find(\"}\"))\n",
        "        # print(age[str:(end - 1)])\n",
        "        age=age[str:(end - 1)]\n",
        "        data = r.text\n",
        "        jsonToPython = json.loads(data)\n",
        "    else:\n",
        "      age=np.nan\n",
        "    for j in range(len(textp)):\n",
        "      textp[j]=textp[j].text\n",
        "    list = [zagolovok, textp, age, domain,requests.get(link).status_code]\n",
        "    bot.send_message(message.chat.id,text=list)\n",
        "def proga(m):\n",
        "  bot.send_message(m.from_user.id, 'ссылка обрабатывается')\n",
        "@bot.message_handler(func=lambda message: message.text=='Информация')\n",
        "def info(message):\n",
        "  bot.send_message(message.from_user.id, \"Это проект учащихся IT-класса лицея №1511 при МИФИ, созданный для защиты от фейковых новостей в сети.\")\n",
        "@bot.message_handler(func=lambda message: message.text=='Помощь')\n",
        "def help(message):\n",
        "  bot.send_message(message.from_user.id, \"Если у вас есть вопросы по боту или работе программы, то задать их можно здесь @miCherex\")\n",
        "\n",
        "bot.polling() "
      ],
      "metadata": {
        "id": "OqBOetzpBl2R",
        "colab": {
          "base_uri": "https://localhost:8080/"
        },
        "outputId": "8c719935-4132-4d5a-8cc3-b6e9da328ba7"
      },
      "execution_count": null,
      "outputs": [
        {
          "output_type": "stream",
          "name": "stderr",
          "text": [
            "/usr/local/lib/python3.7/dist-packages/urllib3/connectionpool.py:847: InsecureRequestWarning: Unverified HTTPS request is being made. Adding certificate verification is strongly advised. See: https://urllib3.readthedocs.io/en/latest/advanced-usage.html#ssl-warnings\n",
            "  InsecureRequestWarning)\n",
            "/usr/local/lib/python3.7/dist-packages/urllib3/connectionpool.py:847: InsecureRequestWarning: Unverified HTTPS request is being made. Adding certificate verification is strongly advised. See: https://urllib3.readthedocs.io/en/latest/advanced-usage.html#ssl-warnings\n",
            "  InsecureRequestWarning)\n"
          ]
        }
      ]
    }
  ]
}