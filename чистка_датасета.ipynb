{
  "nbformat": 4,
  "nbformat_minor": 0,
  "metadata": {
    "colab": {
      "name": "Untitled5.ipynb",
      "provenance": [],
      "collapsed_sections": []
    },
    "kernelspec": {
      "name": "python3",
      "display_name": "Python 3"
    },
    "language_info": {
      "name": "python"
    }
  },
  "cells": [
    {
      "cell_type": "code",
      "metadata": {
        "id": "FwLarYFjZxIC"
      },
      "source": [
        "import pandas as pd\n"
      ],
      "execution_count": null,
      "outputs": []
    },
    {
      "cell_type": "code",
      "metadata": {
        "colab": {
          "resources": {
            "http://localhost:8080/nbextensions/google.colab/files.js": {
              "data": "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",
              "ok": true,
              "headers": [
                [
                  "content-type",
                  "application/javascript"
                ]
              ],
              "status": 200,
              "status_text": ""
            }
          },
          "base_uri": "https://localhost:8080/",
          "height": 72
        },
        "id": "Ka3rt4USZznt",
        "outputId": "21a814d3-a8cf-491c-e5fd-d8e9793951f1"
      },
      "source": [
        "from google.colab import files\n",
        "uploaded = files.upload()"
      ],
      "execution_count": null,
      "outputs": [
        {
          "output_type": "display_data",
          "data": {
            "text/html": [
              "\n",
              "     <input type=\"file\" id=\"files-ae23ffa7-f8ff-4be6-b2d9-d05ee38630d7\" name=\"files[]\" multiple disabled\n",
              "        style=\"border:none\" />\n",
              "     <output id=\"result-ae23ffa7-f8ff-4be6-b2d9-d05ee38630d7\">\n",
              "      Upload widget is only available when the cell has been executed in the\n",
              "      current browser session. Please rerun this cell to enable.\n",
              "      </output>\n",
              "      <script src=\"/nbextensions/google.colab/files.js\"></script> "
            ],
            "text/plain": [
              "<IPython.core.display.HTML object>"
            ]
          },
          "metadata": {}
        },
        {
          "output_type": "stream",
          "name": "stdout",
          "text": [
            "Saving data.csv to data (3).csv\n"
          ]
        }
      ]
    },
    {
      "cell_type": "code",
      "metadata": {
        "colab": {
          "base_uri": "https://localhost:8080/",
          "height": 419
        },
        "id": "D3AJBP8oZ1c7",
        "outputId": "0aa50b93-f393-4bca-9727-13231396451e"
      },
      "source": [
        "df = pd.read_csv(\"data (3).csv\")\n",
        "df"
      ],
      "execution_count": null,
      "outputs": [
        {
          "output_type": "execute_result",
          "data": {
            "text/html": [
              "<div>\n",
              "<style scoped>\n",
              "    .dataframe tbody tr th:only-of-type {\n",
              "        vertical-align: middle;\n",
              "    }\n",
              "\n",
              "    .dataframe tbody tr th {\n",
              "        vertical-align: top;\n",
              "    }\n",
              "\n",
              "    .dataframe thead th {\n",
              "        text-align: right;\n",
              "    }\n",
              "</style>\n",
              "<table border=\"1\" class=\"dataframe\">\n",
              "  <thead>\n",
              "    <tr style=\"text-align: right;\">\n",
              "      <th></th>\n",
              "      <th>URLs</th>\n",
              "      <th>Headline</th>\n",
              "      <th>Body</th>\n",
              "      <th>Label</th>\n",
              "    </tr>\n",
              "  </thead>\n",
              "  <tbody>\n",
              "    <tr>\n",
              "      <th>0</th>\n",
              "      <td>http://www.bbc.com/news/world-us-canada-414191...</td>\n",
              "      <td>Four ways Bob Corker skewered Donald Trump</td>\n",
              "      <td>Image copyright Getty Images\\nOn Sunday mornin...</td>\n",
              "      <td>1</td>\n",
              "    </tr>\n",
              "    <tr>\n",
              "      <th>1</th>\n",
              "      <td>https://www.reuters.com/article/us-filmfestiva...</td>\n",
              "      <td>Linklater's war veteran comedy speaks to moder...</td>\n",
              "      <td>LONDON (Reuters) - “Last Flag Flying”, a comed...</td>\n",
              "      <td>1</td>\n",
              "    </tr>\n",
              "    <tr>\n",
              "      <th>2</th>\n",
              "      <td>https://www.nytimes.com/2017/10/09/us/politics...</td>\n",
              "      <td>Trump’s Fight With Corker Jeopardizes His Legi...</td>\n",
              "      <td>The feud broke into public view last week when...</td>\n",
              "      <td>1</td>\n",
              "    </tr>\n",
              "    <tr>\n",
              "      <th>3</th>\n",
              "      <td>https://www.reuters.com/article/us-mexico-oil-...</td>\n",
              "      <td>Egypt's Cheiron wins tie-up with Pemex for Mex...</td>\n",
              "      <td>MEXICO CITY (Reuters) - Egypt’s Cheiron Holdin...</td>\n",
              "      <td>1</td>\n",
              "    </tr>\n",
              "    <tr>\n",
              "      <th>4</th>\n",
              "      <td>http://www.cnn.com/videos/cnnmoney/2017/10/08/...</td>\n",
              "      <td>Jason Aldean opens 'SNL' with Vegas tribute</td>\n",
              "      <td>Country singer Jason Aldean, who was performin...</td>\n",
              "      <td>1</td>\n",
              "    </tr>\n",
              "    <tr>\n",
              "      <th>...</th>\n",
              "      <td>...</td>\n",
              "      <td>...</td>\n",
              "      <td>...</td>\n",
              "      <td>...</td>\n",
              "    </tr>\n",
              "    <tr>\n",
              "      <th>4004</th>\n",
              "      <td>http://beforeitsnews.com/sports/2017/09/trends...</td>\n",
              "      <td>Trends to Watch</td>\n",
              "      <td>Trends to Watch\\n% of readers think this story...</td>\n",
              "      <td>0</td>\n",
              "    </tr>\n",
              "    <tr>\n",
              "      <th>4005</th>\n",
              "      <td>http://beforeitsnews.com/u-s-politics/2017/10/...</td>\n",
              "      <td>Trump Jr. Is Soon To Give A 30-Minute Speech F...</td>\n",
              "      <td>Trump Jr. Is Soon To Give A 30-Minute Speech F...</td>\n",
              "      <td>0</td>\n",
              "    </tr>\n",
              "    <tr>\n",
              "      <th>4006</th>\n",
              "      <td>https://www.activistpost.com/2017/09/ron-paul-...</td>\n",
              "      <td>Ron Paul on Trump, Anarchism &amp; the AltRight</td>\n",
              "      <td>NaN</td>\n",
              "      <td>0</td>\n",
              "    </tr>\n",
              "    <tr>\n",
              "      <th>4007</th>\n",
              "      <td>https://www.reuters.com/article/us-china-pharm...</td>\n",
              "      <td>China to accept overseas trial data in bid to ...</td>\n",
              "      <td>SHANGHAI (Reuters) - China said it plans to ac...</td>\n",
              "      <td>1</td>\n",
              "    </tr>\n",
              "    <tr>\n",
              "      <th>4008</th>\n",
              "      <td>http://beforeitsnews.com/u-s-politics/2017/10/...</td>\n",
              "      <td>Vice President Mike Pence Leaves NFL Game Beca...</td>\n",
              "      <td>Vice President Mike Pence Leaves NFL Game Beca...</td>\n",
              "      <td>0</td>\n",
              "    </tr>\n",
              "  </tbody>\n",
              "</table>\n",
              "<p>4009 rows × 4 columns</p>\n",
              "</div>"
            ],
            "text/plain": [
              "                                                   URLs  ... Label\n",
              "0     http://www.bbc.com/news/world-us-canada-414191...  ...     1\n",
              "1     https://www.reuters.com/article/us-filmfestiva...  ...     1\n",
              "2     https://www.nytimes.com/2017/10/09/us/politics...  ...     1\n",
              "3     https://www.reuters.com/article/us-mexico-oil-...  ...     1\n",
              "4     http://www.cnn.com/videos/cnnmoney/2017/10/08/...  ...     1\n",
              "...                                                 ...  ...   ...\n",
              "4004  http://beforeitsnews.com/sports/2017/09/trends...  ...     0\n",
              "4005  http://beforeitsnews.com/u-s-politics/2017/10/...  ...     0\n",
              "4006  https://www.activistpost.com/2017/09/ron-paul-...  ...     0\n",
              "4007  https://www.reuters.com/article/us-china-pharm...  ...     1\n",
              "4008  http://beforeitsnews.com/u-s-politics/2017/10/...  ...     0\n",
              "\n",
              "[4009 rows x 4 columns]"
            ]
          },
          "metadata": {},
          "execution_count": 37
        }
      ]
    },
    {
      "cell_type": "code",
      "metadata": {
        "colab": {
          "base_uri": "https://localhost:8080/"
        },
        "id": "P2NJs5YIZ-ez",
        "outputId": "e5c69cc9-a471-4aeb-9925-52023e4b10b3"
      },
      "source": [
        "for i in range(len(df)):\n",
        "    if('\\n\\n' in df['URLs'][i]):\n",
        "        df['URLs'][i] = df['URLs'][i][0:-2]\n",
        "    if('\\r\\n' in df['URLs'][i]):\n",
        "        df['URLs'][i] = df['URLs'][i][0:-2]"
      ],
      "execution_count": null,
      "outputs": [
        {
          "output_type": "stream",
          "name": "stderr",
          "text": [
            "/usr/local/lib/python3.7/dist-packages/ipykernel_launcher.py:5: SettingWithCopyWarning: \n",
            "A value is trying to be set on a copy of a slice from a DataFrame\n",
            "\n",
            "See the caveats in the documentation: https://pandas.pydata.org/pandas-docs/stable/user_guide/indexing.html#returning-a-view-versus-a-copy\n",
            "  \"\"\"\n",
            "/usr/local/lib/python3.7/dist-packages/ipykernel_launcher.py:3: SettingWithCopyWarning: \n",
            "A value is trying to be set on a copy of a slice from a DataFrame\n",
            "\n",
            "See the caveats in the documentation: https://pandas.pydata.org/pandas-docs/stable/user_guide/indexing.html#returning-a-view-versus-a-copy\n",
            "  This is separate from the ipykernel package so we can avoid doing imports until\n"
          ]
        }
      ]
    },
    {
      "cell_type": "code",
      "metadata": {
        "id": "z6CIwpoNZ_SA"
      },
      "source": [
        "from bs4 import BeautifulSoup\n",
        "import requests\n",
        "import json\n",
        "from urllib.parse import urlparse"
      ],
      "execution_count": null,
      "outputs": []
    },
    {
      "cell_type": "code",
      "metadata": {
        "id": "_rXuMHxYaDKR"
      },
      "source": [
        ""
      ],
      "execution_count": null,
      "outputs": []
    },
    {
      "cell_type": "code",
      "metadata": {
        "id": "5yxWmNcgaDxg"
      },
      "source": [
        "\n",
        "def action_parser(link):\n",
        "    req = requests.get(link).text\n",
        "    soup = BeautifulSoup(req, \"lxml\")\n",
        "    head = soup.find('head')\n",
        "    zagolovok = head.find('title').text\n",
        "    textp = soup.find_all('div', attrs={'class': \"article__text\"})\n",
        "    if (len(textp)) == 0:\n",
        "        textp = soup.find_all('span', attrs={'class': 'intro'})\n",
        "    if (len(textp)) == 0:\n",
        "        text = soup.find_all('span', attrs={'class': 'intro'})\n",
        "    if (len(textp)) == 0:\n",
        "        textp = soup.find_all('p')\n",
        "\n",
        "    data = soup.find_all('time')\n",
        "\n",
        "    if len(data) == 0:\n",
        "        data = soup.find_all('span', attrs={'class': 'article__info-date-modified'})\n",
        "    if len(data) == 0:\n",
        "        data = soup.find_all('div', attrs={'class': 'article__info-date-modified'})\n",
        "\n",
        "    if len(data) == 0:\n",
        "      data = soup.find_all('span', attrs={'class': 'DateLine__date___12trWy'})\n",
        "    if len(data) == 0:\n",
        "      data = soup.find_all('font', attrs={'style': 'vertical-align: inherit;'})\n",
        "    if len(data) == 0:\n",
        "      data = soup.find_all('div', attrs={'class': 'css-19m31ns'})\n",
        "    if len(data) == 0:\n",
        "      data = soup.find_all('p', attrs={'class': 'update-time'}) \n",
        "    if len(data) == 0:\n",
        "      data = soup.find_all('span', attrs={'class': 'update-time'})\n",
        "    if len(data) == 0:\n",
        "      data = soup.find_all('div', attrs={'class': 'update-time'})#http://www.cnn.com/2017/10/09/politics/melania-trump-ivana-trump-first-lady/index.html\n",
        "\n",
        "    if len(data) == 0:\n",
        "      data = soup.find_all('span', attrs={'class': 'entry-meta-date updated'}) # https://www.activistpost.com/2017/09/september-11-2001-questions-believe-official-story.html\n",
        "    if len(data) == 0:\n",
        "      data = soup.find_all('p', attrs={'class': 'entry-meta'})\n",
        "    if len(data) == 0:\n",
        "      data = soup.find_all('div', attrs={'class': \"post_date\"}) \n",
        "           \n",
        "    if(len(data) == 0):\n",
        "        return 'non'\n",
        "\n",
        "    # print(zagolovok)\n",
        "\n",
        "    data1 = data[0].text\n",
        "\n",
        "    # for i in range(len(textp)):\n",
        "    #     print(textp[i].text)\n",
        "\n",
        "    # if len(data) != 0:\n",
        "    #     for i in range(len(data)):\n",
        "    #         print(data[i].text)\n",
        "    # else:\n",
        "    #     print(\"дата публикации на новстоном ресусре не указана\")\n",
        "\n",
        "    # print(data.text)\n",
        "\n",
        "    domain = urlparse(link).netloc\n",
        "    if (int(domain.find(\"www.\")) != -1):\n",
        "        domain = domain[4:]\n",
        "\n",
        "    url = link.split(\"//\")[-1].split(\"/\")[0].split('?')[0]\n",
        "    show = \"https://input.payapi.io/v1/api/fraud/domain/age/\" + domain\n",
        "\n",
        "    r = requests.get(show)\n",
        "    soupp = BeautifulSoup(r.text, \"lxml\")\n",
        "\n",
        "    if r.status_code == 200:\n",
        "\n",
        "        age = soupp.find('body').text\n",
        "        str = int(age.find(\"Reg\"))\n",
        "        end = int(age.find(\"}\"))\n",
        "        # print(age[str:(end - 1)])\n",
        "\n",
        "        data = r.text\n",
        "        jsonToPython = json.loads(data)\n",
        "\n",
        "        list = [zagolovok, data1, age[str:(end - 1)]]\n",
        "        return list\n",
        "\n"
      ],
      "execution_count": null,
      "outputs": []
    },
    {
      "cell_type": "code",
      "metadata": {
        "id": "5aNOKVGtBQEk"
      },
      "source": [
        "df = df.reset_index()"
      ],
      "execution_count": null,
      "outputs": []
    },
    {
      "cell_type": "code",
      "metadata": {
        "id": "rebau-8d_lB1"
      },
      "source": [
        "df.to_csv(\"output.csv\")"
      ],
      "execution_count": null,
      "outputs": []
    },
    {
      "cell_type": "code",
      "metadata": {
        "colab": {
          "base_uri": "https://localhost:8080/",
          "height": 408
        },
        "id": "236GZ53uF0Wd",
        "outputId": "299c3dcd-51b1-4fc5-e06a-197646478b86"
      },
      "source": [
        "df"
      ],
      "execution_count": null,
      "outputs": [
        {
          "output_type": "execute_result",
          "data": {
            "text/html": [
              "<div>\n",
              "<style scoped>\n",
              "    .dataframe tbody tr th:only-of-type {\n",
              "        vertical-align: middle;\n",
              "    }\n",
              "\n",
              "    .dataframe tbody tr th {\n",
              "        vertical-align: top;\n",
              "    }\n",
              "\n",
              "    .dataframe thead th {\n",
              "        text-align: right;\n",
              "    }\n",
              "</style>\n",
              "<table border=\"1\" class=\"dataframe\">\n",
              "  <thead>\n",
              "    <tr style=\"text-align: right;\">\n",
              "      <th></th>\n",
              "      <th>URLs</th>\n",
              "      <th>Headline</th>\n",
              "      <th>Body</th>\n",
              "      <th>Label</th>\n",
              "    </tr>\n",
              "  </thead>\n",
              "  <tbody>\n",
              "    <tr>\n",
              "      <th>0</th>\n",
              "      <td>http://www.bbc.com/news/world-us-canada-41419190</td>\n",
              "      <td>Four ways Bob Corker skewered Donald Trump</td>\n",
              "      <td>Image copyright Getty Images\\nOn Sunday mornin...</td>\n",
              "      <td>1</td>\n",
              "    </tr>\n",
              "    <tr>\n",
              "      <th>1</th>\n",
              "      <td>https://www.reuters.com/article/us-filmfestiva...</td>\n",
              "      <td>Linklater's war veteran comedy speaks to moder...</td>\n",
              "      <td>LONDON (Reuters) - “Last Flag Flying”, a comed...</td>\n",
              "      <td>1</td>\n",
              "    </tr>\n",
              "    <tr>\n",
              "      <th>2</th>\n",
              "      <td>https://www.nytimes.com/2017/10/09/us/politics...</td>\n",
              "      <td>Trump’s Fight With Corker Jeopardizes His Legi...</td>\n",
              "      <td>The feud broke into public view last week when...</td>\n",
              "      <td>1</td>\n",
              "    </tr>\n",
              "    <tr>\n",
              "      <th>3</th>\n",
              "      <td>https://www.reuters.com/article/us-mexico-oil-...</td>\n",
              "      <td>Egypt's Cheiron wins tie-up with Pemex for Mex...</td>\n",
              "      <td>MEXICO CITY (Reuters) - Egypt’s Cheiron Holdin...</td>\n",
              "      <td>1</td>\n",
              "    </tr>\n",
              "    <tr>\n",
              "      <th>5</th>\n",
              "      <td>http://beforeitsnews.com/sports/2017/09/jetnat...</td>\n",
              "      <td>JetNation FanDuel League; Week 4</td>\n",
              "      <td>JetNation FanDuel League; Week 4\\n% of readers...</td>\n",
              "      <td>0</td>\n",
              "    </tr>\n",
              "    <tr>\n",
              "      <th>...</th>\n",
              "      <td>...</td>\n",
              "      <td>...</td>\n",
              "      <td>...</td>\n",
              "      <td>...</td>\n",
              "    </tr>\n",
              "    <tr>\n",
              "      <th>4004</th>\n",
              "      <td>http://beforeitsnews.com/sports/2017/09/trends...</td>\n",
              "      <td>Trends to Watch</td>\n",
              "      <td>Trends to Watch\\n% of readers think this story...</td>\n",
              "      <td>0</td>\n",
              "    </tr>\n",
              "    <tr>\n",
              "      <th>4005</th>\n",
              "      <td>http://beforeitsnews.com/u-s-politics/2017/10/...</td>\n",
              "      <td>Trump Jr. Is Soon To Give A 30-Minute Speech F...</td>\n",
              "      <td>Trump Jr. Is Soon To Give A 30-Minute Speech F...</td>\n",
              "      <td>0</td>\n",
              "    </tr>\n",
              "    <tr>\n",
              "      <th>4006</th>\n",
              "      <td>https://www.activistpost.com/2017/09/ron-paul-...</td>\n",
              "      <td>Ron Paul on Trump, Anarchism &amp; the AltRight</td>\n",
              "      <td>NaN</td>\n",
              "      <td>0</td>\n",
              "    </tr>\n",
              "    <tr>\n",
              "      <th>4007</th>\n",
              "      <td>https://www.reuters.com/article/us-china-pharm...</td>\n",
              "      <td>China to accept overseas trial data in bid to ...</td>\n",
              "      <td>SHANGHAI (Reuters) - China said it plans to ac...</td>\n",
              "      <td>1</td>\n",
              "    </tr>\n",
              "    <tr>\n",
              "      <th>4008</th>\n",
              "      <td>http://beforeitsnews.com/u-s-politics/2017/10/...</td>\n",
              "      <td>Vice President Mike Pence Leaves NFL Game Beca...</td>\n",
              "      <td>Vice President Mike Pence Leaves NFL Game Beca...</td>\n",
              "      <td>0</td>\n",
              "    </tr>\n",
              "  </tbody>\n",
              "</table>\n",
              "<p>3983 rows × 4 columns</p>\n",
              "</div>"
            ],
            "text/plain": [
              "                                                   URLs  ... Label\n",
              "0      http://www.bbc.com/news/world-us-canada-41419190  ...     1\n",
              "1     https://www.reuters.com/article/us-filmfestiva...  ...     1\n",
              "2     https://www.nytimes.com/2017/10/09/us/politics...  ...     1\n",
              "3     https://www.reuters.com/article/us-mexico-oil-...  ...     1\n",
              "5     http://beforeitsnews.com/sports/2017/09/jetnat...  ...     0\n",
              "...                                                 ...  ...   ...\n",
              "4004  http://beforeitsnews.com/sports/2017/09/trends...  ...     0\n",
              "4005  http://beforeitsnews.com/u-s-politics/2017/10/...  ...     0\n",
              "4006  https://www.activistpost.com/2017/09/ron-paul-...  ...     0\n",
              "4007  https://www.reuters.com/article/us-china-pharm...  ...     1\n",
              "4008  http://beforeitsnews.com/u-s-politics/2017/10/...  ...     0\n",
              "\n",
              "[3983 rows x 4 columns]"
            ]
          },
          "metadata": {},
          "execution_count": 15
        }
      ]
    },
    {
      "cell_type": "code",
      "metadata": {
        "id": "dOzcm8V3_nQE"
      },
      "source": [
        "unin=[]\n",
        "for i in range(len(df)):\n",
        "    req = requests.get(df['URLs'][i])\n",
        "    if (req.status_code==404):\n",
        "      unin.append(i)\n",
        "    \n",
        "        \n",
        "        \n",
        "    \n",
        "    "
      ],
      "execution_count": null,
      "outputs": []
    },
    {
      "cell_type": "code",
      "metadata": {
        "colab": {
          "base_uri": "https://localhost:8080/"
        },
        "id": "jtky2q5qCMDk",
        "outputId": "91c2af4f-3628-40c0-a96c-e29e66feb082"
      },
      "source": [
        "print(unin)"
      ],
      "execution_count": null,
      "outputs": [
        {
          "output_type": "stream",
          "name": "stdout",
          "text": [
            "[4, 18, 19, 20, 21, 24, 26, 27, 28, 30, 31, 35, 42, 43, 45, 51, 61, 66, 68, 70, 78, 79, 80, 82, 85, 96, 101, 102, 103, 104, 108, 113, 115, 118, 122, 123, 124, 128, 129, 131, 132, 133, 135, 136, 137, 140, 143, 145, 146, 153, 156, 160, 164, 165, 170, 171, 176, 179, 180, 182, 183, 189, 191, 192, 193, 195, 201, 202, 203, 204, 208, 209, 210, 212, 213, 215, 216, 218, 219, 220, 221, 222, 223, 226, 227, 230, 232, 235, 237, 239, 240, 243, 245, 251, 254, 255, 264, 265, 272, 274, 275, 277, 280, 281, 282, 283, 286, 287, 290, 292, 294, 295, 300, 301, 306, 308, 311, 315, 319, 320, 321, 323, 326, 327, 328, 331, 334, 335, 337, 338, 340, 342, 346, 347, 349, 352, 353, 354, 355, 361, 364, 365, 366, 367, 369, 370, 371, 373, 374, 376, 378, 380, 381, 382, 383, 384, 385, 387, 388, 389, 391, 392, 393, 394, 395, 396, 398, 399, 402, 403, 405, 406, 408, 409, 410, 415, 418, 420, 421, 422, 432, 433, 436, 439, 444, 450, 455, 456, 457, 459, 461, 462, 466, 467, 468, 470, 471, 472, 473, 475, 477, 480, 481, 486, 489, 492, 494, 498, 499, 502, 504, 506, 508, 510, 513, 514, 516, 520, 522, 523, 524, 525, 527, 529, 530, 535, 538, 542, 554, 555, 556, 557, 558, 559, 561, 563, 564, 565, 566, 567, 569, 572, 577, 581, 584, 586, 588, 590, 596, 598, 603, 604, 607, 608, 609, 611, 614, 617, 620, 622, 623, 626, 627, 631, 635, 636, 637, 638, 642, 644, 646, 649, 650, 651, 653, 654, 655, 657, 658, 661, 662, 667, 668, 672, 674, 676, 677, 680, 681, 685, 687, 694, 697, 698, 700, 701, 710, 712, 714, 716, 717, 720, 721, 723, 731, 733, 734, 735, 737, 739, 742, 745, 746, 747, 750, 753, 754, 756, 761, 763, 773, 774, 783, 784, 786, 787, 791, 792, 795, 796, 802, 807, 810, 812, 817, 818, 823, 824, 828, 835, 842, 843, 844, 846, 851, 852, 854, 857, 859, 863, 864, 869, 875, 876, 877, 879, 881, 882, 883, 884, 885, 888, 891, 892, 893, 895, 896, 902, 903, 905, 909, 918, 922, 923, 924, 926, 927, 929, 932, 934, 935, 936, 937, 939, 940, 941, 942, 943, 946, 948, 950, 951, 952, 954, 956, 957, 960, 963, 965, 966, 967, 968, 973, 974, 981, 983, 984, 986, 988, 989, 990, 991, 993, 994, 995, 998, 1001, 1003, 1009, 1010, 1014, 1015, 1016, 1021, 1023, 1025, 1027, 1030, 1034, 1039, 1040, 1043, 1045, 1048, 1051, 1052, 1054, 1056, 1057, 1062, 1070, 1071, 1072, 1074, 1076, 1077, 1078, 1079, 1080, 1081, 1083, 1085, 1086, 1087, 1089, 1092, 1093, 1094, 1095, 1096, 1103, 1104, 1105, 1107, 1112, 1114, 1116, 1117, 1120, 1123, 1124, 1126, 1127, 1130, 1133, 1134, 1135, 1138, 1140, 1141, 1142, 1143, 1144, 1145, 1149, 1158, 1159, 1161, 1162, 1168, 1169, 1170, 1174, 1178, 1184, 1185, 1186, 1187, 1188, 1190, 1192, 1198, 1202, 1203, 1210, 1211, 1213, 1214, 1215, 1217, 1219, 1222, 1224, 1225, 1228, 1229, 1231, 1235, 1236, 1239, 1240, 1242, 1247, 1248, 1249, 1250, 1251, 1252, 1257, 1268, 1269, 1270, 1271, 1275, 1280, 1283, 1291, 1293, 1297, 1300, 1302, 1305, 1307, 1308, 1309, 1310, 1312, 1313, 1317, 1318, 1321, 1322, 1327, 1329, 1331, 1333, 1340, 1344, 1347, 1348, 1353, 1354, 1356, 1357, 1360, 1362, 1374, 1376, 1377, 1378, 1379, 1382, 1388, 1389, 1393, 1396, 1399, 1401, 1402, 1404, 1409, 1411, 1412, 1413, 1418, 1419, 1423, 1427, 1428, 1432, 1433, 1434, 1438, 1440, 1441, 1442, 1444, 1445, 1446, 1448, 1449, 1451, 1452, 1455, 1458, 1459, 1464, 1465, 1466, 1467, 1469, 1471, 1473, 1477, 1479, 1482, 1484, 1486, 1487, 1489, 1490, 1491, 1492, 1501, 1502, 1504, 1508, 1511, 1513, 1514, 1515, 1516, 1517, 1519, 1520, 1523, 1524, 1527, 1528, 1529, 1531, 1532, 1534, 1535, 1538, 1540, 1541, 1543, 1545, 1546, 1550, 1551, 1553, 1556, 1560, 1563, 1565, 1568, 1569, 1574, 1575, 1579, 1582, 1585, 1586, 1592, 1593, 1598, 1600, 1603, 1606, 1607, 1609, 1611, 1613, 1617, 1618, 1622, 1625, 1628, 1629, 1632, 1633, 1641, 1642, 1648, 1649, 1650, 1652, 1653, 1654, 1656, 1658, 1659, 1662, 1663, 1668, 1671, 1674, 1677, 1680, 1683, 1684, 1685, 1686, 1687, 1688, 1689, 1696, 1697, 1699, 1701, 1703, 1704, 1705, 1706, 1709, 1710, 1720, 1721, 1722, 1725, 1730, 1733, 1743, 1747, 1751, 1753, 1754, 1755, 1756, 1762, 1763, 1765, 1767, 1769, 1770, 1771, 1777, 1778, 1780, 1782, 1785, 1786, 1787, 1790, 1791, 1793, 1798, 1800, 1802, 1805, 1806, 1808, 1810, 1812, 1814, 1815, 1818, 1819, 1821, 1825, 1828, 1829, 1831, 1834, 1836, 1838, 1841, 1842, 1843, 1844, 1845, 1847, 1849, 1850, 1851, 1853, 1854, 1855, 1856, 1857, 1858, 1860, 1866, 1867, 1868, 1874, 1875, 1878, 1879, 1882, 1884, 1885, 1888, 1896, 1897, 1903, 1904, 1912, 1913, 1915, 1918, 1920, 1923, 1924, 1925, 1926, 1928, 1931, 1932, 1935, 1937, 1938, 1939, 1942, 1946, 1949, 1950, 1956, 1960, 1962, 1965, 1966, 1967, 1970, 1974, 1975, 1982, 1983, 1987, 1989, 1990, 1996, 1997, 1998, 2001, 2002, 2010, 2014, 2015, 2016, 2022, 2025, 2026, 2028, 2032, 2033, 2034, 2041, 2045, 2046, 2048, 2052, 2055, 2056, 2061, 2062, 2063, 2064, 2066, 2067, 2070, 2073, 2075, 2076, 2077, 2078, 2079, 2084, 2087, 2089, 2091, 2093, 2094, 2096, 2097, 2102, 2109, 2111, 2115, 2119, 2120, 2121, 2122, 2124, 2127, 2130, 2131, 2133, 2134, 2136, 2138, 2139, 2142, 2144, 2151, 2152, 2153, 2155, 2160, 2163, 2170, 2173, 2174, 2175, 2178, 2182, 2186, 2187, 2189, 2193, 2194, 2196, 2199, 2200, 2201, 2202, 2204, 2210, 2213, 2214, 2216, 2220, 2227, 2228, 2229, 2231, 2233, 2238, 2240, 2243, 2245, 2249, 2251, 2253, 2255, 2256, 2257, 2258, 2260, 2267, 2268, 2273, 2277, 2280, 2281, 2282, 2285, 2286, 2287, 2288, 2290, 2291, 2294, 2300, 2301, 2303, 2304, 2312, 2316, 2317, 2321, 2322, 2323, 2327, 2330, 2331, 2333, 2337, 2339, 2349, 2351, 2355, 2357, 2361, 2366, 2367, 2368, 2370, 2374, 2375, 2376, 2379, 2380, 2383, 2384, 2389, 2390, 2393, 2395, 2396, 2397, 2398, 2402, 2406, 2408, 2413, 2414, 2419, 2421, 2423, 2424, 2428, 2429, 2430, 2432, 2434, 2436, 2438, 2444, 2447, 2451, 2456, 2469, 2480, 2484, 2486, 2487, 2489, 2490, 2491, 2497, 2502, 2509, 2510, 2511, 2513, 2516, 2525, 2526, 2531, 2538, 2540, 2541, 2546, 2548, 2550, 2552, 2553, 2554, 2559, 2561, 2563, 2564, 2565, 2569, 2572, 2574, 2575, 2577, 2579, 2580, 2586, 2588, 2589, 2591, 2595, 2599, 2600, 2602, 2603, 2604, 2605, 2606, 2608, 2609, 2610, 2614, 2618, 2619, 2620, 2622, 2623, 2626, 2627, 2628, 2630, 2637, 2639, 2647, 2651, 2652, 2659, 2660, 2661, 2665, 2666, 2667, 2670, 2671, 2677, 2678, 2681, 2682, 2683, 2686, 2689, 2690, 2691, 2694, 2695, 2697, 2699, 2701, 2703, 2704, 2705, 2707, 2709, 2710, 2712, 2714, 2716, 2718, 2721, 2723, 2725, 2734, 2738, 2742, 2749, 2752, 2754, 2757, 2759, 2760, 2761, 2762, 2766, 2767, 2772, 2779, 2781, 2782, 2784, 2785, 2787, 2794, 2796, 2797, 2801, 2803, 2804, 2805, 2806, 2808, 2820, 2822, 2824, 2827, 2829, 2830, 2835, 2840, 2841, 2842, 2843, 2844, 2849, 2854, 2857, 2859, 2862, 2863, 2865, 2867, 2868, 2870, 2871, 2874, 2875, 2876, 2880, 2881, 2886, 2891, 2894, 2899, 2900, 2902, 2904, 2906, 2907, 2909, 2919, 2921, 2922, 2925, 2928, 2929, 2930, 2933, 2934, 2937, 2938, 2940, 2941, 2943, 2944, 2953, 2954, 2957, 2959, 2968, 2974, 2976, 2980, 2981, 2983, 2984, 2985, 2986, 2987, 2988, 2989, 2995, 3001, 3010, 3015, 3016, 3017, 3021, 3022, 3023, 3025, 3026, 3032, 3038, 3042, 3048, 3052, 3055, 3057, 3058, 3059, 3061, 3063, 3066, 3069, 3070, 3071, 3075, 3076, 3077, 3078, 3080, 3082, 3086, 3087, 3090, 3091, 3092, 3094, 3096, 3104, 3106, 3107, 3109, 3111, 3112, 3114, 3115, 3117, 3119, 3121, 3124, 3127, 3128, 3130, 3132, 3134, 3141, 3149, 3151, 3156, 3157, 3161, 3168, 3170, 3171, 3173, 3176, 3179, 3181, 3183, 3186, 3188, 3189, 3197, 3198, 3200, 3201, 3202, 3207, 3211, 3214, 3215, 3216, 3217, 3220, 3224, 3226, 3232, 3234, 3238, 3243, 3246, 3248, 3250, 3252, 3253, 3261, 3264, 3273, 3276, 3277, 3278, 3283, 3284, 3286, 3288, 3290, 3296, 3297, 3300, 3301, 3304, 3305, 3307, 3314, 3316, 3321, 3326, 3327, 3329, 3330, 3332, 3335, 3336, 3340, 3341, 3342, 3344, 3349, 3351, 3352, 3353, 3355, 3357, 3358, 3360, 3363, 3364, 3365, 3366, 3367, 3370, 3373, 3374, 3376, 3377, 3378, 3379, 3380, 3381, 3382, 3383, 3388, 3390, 3393, 3397, 3398, 3399, 3410, 3412, 3414, 3416, 3417, 3418, 3420, 3423, 3424, 3425, 3427, 3428, 3434, 3436, 3437, 3439, 3441, 3444, 3448, 3449, 3452, 3453, 3462, 3466, 3467, 3468, 3470, 3471, 3472, 3473, 3478, 3480, 3483, 3485, 3486, 3487, 3489, 3490, 3491, 3498, 3499, 3501, 3505, 3506, 3513, 3514, 3516, 3517, 3518, 3522, 3528, 3529, 3530, 3535, 3539, 3542, 3544, 3547, 3549, 3550, 3552, 3554, 3555, 3556, 3557, 3562, 3563, 3566, 3569, 3574, 3575, 3579, 3581, 3582, 3584, 3585, 3587, 3588, 3590, 3592, 3595, 3596, 3597, 3598, 3600, 3601, 3603, 3606, 3610, 3611, 3612, 3613, 3614, 3618, 3620, 3622, 3629, 3630, 3631, 3636, 3639, 3642, 3651, 3661, 3663, 3664, 3668, 3670, 3672, 3673, 3675, 3676, 3680, 3682, 3683, 3684, 3685, 3688, 3692, 3699, 3701, 3710, 3713, 3716, 3717, 3721, 3722, 3723, 3730, 3731, 3735, 3736, 3737, 3738, 3739, 3743, 3745, 3746, 3749, 3751, 3752, 3755, 3757, 3758, 3760, 3761, 3762, 3765, 3771, 3775, 3776, 3779, 3785, 3786, 3788, 3789, 3791, 3793, 3794, 3795, 3797, 3798, 3799, 3803, 3810, 3817, 3818, 3820, 3822, 3823, 3825, 3826, 3828, 3830, 3832, 3833, 3834, 3835, 3836, 3837, 3838, 3841, 3844, 3846, 3847, 3848, 3849, 3851, 3852, 3853, 3856, 3857, 3859, 3860, 3869, 3872, 3873, 3876, 3877, 3884, 3888, 3889, 3893, 3899, 3901, 3902, 3904, 3905, 3906, 3907, 3911, 3912, 3915, 3916, 3920, 3921, 3922, 3926, 3931, 3933, 3942, 3943, 3944, 3946, 3948, 3949, 3950, 3951, 3962, 3966, 3967, 3972, 3973, 3975, 3979, 3981, 3982, 3986, 3988, 3990, 3991, 3993, 3996, 3998, 3999, 4003, 4004, 4005]\n"
          ]
        }
      ]
    },
    {
      "cell_type": "code",
      "metadata": {
        "colab": {
          "base_uri": "https://localhost:8080/",
          "height": 35
        },
        "id": "eqZjAUmsH8AX",
        "outputId": "5c1e7928-a799-4f25-db1b-db45bbe9d442"
      },
      "source": [
        "df['URLs'][3966]"
      ],
      "execution_count": null,
      "outputs": [
        {
          "output_type": "execute_result",
          "data": {
            "application/vnd.google.colaboratory.intrinsic+json": {
              "type": "string"
            },
            "text/plain": [
              "'http://beforeitsnews.com/sports/2017/10/ravens-bounce-raiders-30-17-2702287.html'"
            ]
          },
          "metadata": {},
          "execution_count": 82
        }
      ]
    },
    {
      "cell_type": "code",
      "metadata": {
        "id": "_AoQgsPuV43c"
      },
      "source": [
        "df=df.drop(unin)\n"
      ],
      "execution_count": null,
      "outputs": []
    },
    {
      "cell_type": "code",
      "metadata": {
        "colab": {
          "base_uri": "https://localhost:8080/",
          "height": 419
        },
        "id": "LnrFqaSQWNhM",
        "outputId": "b13400a8-133d-49f7-aa2d-b2c4fa7a53aa"
      },
      "source": [
        "df=df.reset_index()\n",
        "df"
      ],
      "execution_count": null,
      "outputs": [
        {
          "output_type": "execute_result",
          "data": {
            "text/html": [
              "<div>\n",
              "<style scoped>\n",
              "    .dataframe tbody tr th:only-of-type {\n",
              "        vertical-align: middle;\n",
              "    }\n",
              "\n",
              "    .dataframe tbody tr th {\n",
              "        vertical-align: top;\n",
              "    }\n",
              "\n",
              "    .dataframe thead th {\n",
              "        text-align: right;\n",
              "    }\n",
              "</style>\n",
              "<table border=\"1\" class=\"dataframe\">\n",
              "  <thead>\n",
              "    <tr style=\"text-align: right;\">\n",
              "      <th></th>\n",
              "      <th>index</th>\n",
              "      <th>URLs</th>\n",
              "      <th>Headline</th>\n",
              "      <th>Body</th>\n",
              "      <th>Label</th>\n",
              "    </tr>\n",
              "  </thead>\n",
              "  <tbody>\n",
              "    <tr>\n",
              "      <th>0</th>\n",
              "      <td>0</td>\n",
              "      <td>http://www.bbc.com/news/world-us-canada-41419190</td>\n",
              "      <td>Four ways Bob Corker skewered Donald Trump</td>\n",
              "      <td>Image copyright Getty Images\\nOn Sunday mornin...</td>\n",
              "      <td>1</td>\n",
              "    </tr>\n",
              "    <tr>\n",
              "      <th>1</th>\n",
              "      <td>1</td>\n",
              "      <td>https://www.reuters.com/article/us-filmfestiva...</td>\n",
              "      <td>Linklater's war veteran comedy speaks to moder...</td>\n",
              "      <td>LONDON (Reuters) - “Last Flag Flying”, a comed...</td>\n",
              "      <td>1</td>\n",
              "    </tr>\n",
              "    <tr>\n",
              "      <th>2</th>\n",
              "      <td>2</td>\n",
              "      <td>https://www.nytimes.com/2017/10/09/us/politics...</td>\n",
              "      <td>Trump’s Fight With Corker Jeopardizes His Legi...</td>\n",
              "      <td>The feud broke into public view last week when...</td>\n",
              "      <td>1</td>\n",
              "    </tr>\n",
              "    <tr>\n",
              "      <th>3</th>\n",
              "      <td>3</td>\n",
              "      <td>https://www.reuters.com/article/us-mexico-oil-...</td>\n",
              "      <td>Egypt's Cheiron wins tie-up with Pemex for Mex...</td>\n",
              "      <td>MEXICO CITY (Reuters) - Egypt’s Cheiron Holdin...</td>\n",
              "      <td>1</td>\n",
              "    </tr>\n",
              "    <tr>\n",
              "      <th>4</th>\n",
              "      <td>5</td>\n",
              "      <td>http://beforeitsnews.com/sports/2017/09/jetnat...</td>\n",
              "      <td>JetNation FanDuel League; Week 4</td>\n",
              "      <td>JetNation FanDuel League; Week 4\\n% of readers...</td>\n",
              "      <td>0</td>\n",
              "    </tr>\n",
              "    <tr>\n",
              "      <th>...</th>\n",
              "      <td>...</td>\n",
              "      <td>...</td>\n",
              "      <td>...</td>\n",
              "      <td>...</td>\n",
              "      <td>...</td>\n",
              "    </tr>\n",
              "    <tr>\n",
              "      <th>2382</th>\n",
              "      <td>4001</td>\n",
              "      <td>https://www.nytimes.com/2017/10/09/obituaries/...</td>\n",
              "      <td>Hervé Leroux, Creator of the Hervé Léger Banda...</td>\n",
              "      <td>Mr. Leroux was born Hervé Peugnet on May 30, 1...</td>\n",
              "      <td>1</td>\n",
              "    </tr>\n",
              "    <tr>\n",
              "      <th>2383</th>\n",
              "      <td>4002</td>\n",
              "      <td>http://www.cnn.com/videos/politics/2017/10/09/...</td>\n",
              "      <td>The price tag for Pence's trip to Indianapolis</td>\n",
              "      <td>Ethical questions loom after Vice President Mi...</td>\n",
              "      <td>1</td>\n",
              "    </tr>\n",
              "    <tr>\n",
              "      <th>2384</th>\n",
              "      <td>4006</td>\n",
              "      <td>https://www.activistpost.com/2017/09/ron-paul-...</td>\n",
              "      <td>Ron Paul on Trump, Anarchism &amp; the AltRight</td>\n",
              "      <td>NaN</td>\n",
              "      <td>0</td>\n",
              "    </tr>\n",
              "    <tr>\n",
              "      <th>2385</th>\n",
              "      <td>4007</td>\n",
              "      <td>https://www.reuters.com/article/us-china-pharm...</td>\n",
              "      <td>China to accept overseas trial data in bid to ...</td>\n",
              "      <td>SHANGHAI (Reuters) - China said it plans to ac...</td>\n",
              "      <td>1</td>\n",
              "    </tr>\n",
              "    <tr>\n",
              "      <th>2386</th>\n",
              "      <td>4008</td>\n",
              "      <td>http://beforeitsnews.com/u-s-politics/2017/10/...</td>\n",
              "      <td>Vice President Mike Pence Leaves NFL Game Beca...</td>\n",
              "      <td>Vice President Mike Pence Leaves NFL Game Beca...</td>\n",
              "      <td>0</td>\n",
              "    </tr>\n",
              "  </tbody>\n",
              "</table>\n",
              "<p>2387 rows × 5 columns</p>\n",
              "</div>"
            ],
            "text/plain": [
              "      index  ... Label\n",
              "0         0  ...     1\n",
              "1         1  ...     1\n",
              "2         2  ...     1\n",
              "3         3  ...     1\n",
              "4         5  ...     0\n",
              "...     ...  ...   ...\n",
              "2382   4001  ...     1\n",
              "2383   4002  ...     1\n",
              "2384   4006  ...     0\n",
              "2385   4007  ...     1\n",
              "2386   4008  ...     0\n",
              "\n",
              "[2387 rows x 5 columns]"
            ]
          },
          "metadata": {},
          "execution_count": 90
        }
      ]
    },
    {
      "cell_type": "code",
      "metadata": {
        "id": "xrDMOStAWsPD"
      },
      "source": [
        "df1 = df.copy()\n",
        "with pd.ExcelWriter('output.xlsx') as writer:  \n",
        "    df.to_excel(writer, sheet_name='Sheet_name_1')\n",
        "    df1.to_excel(writer, sheet_name='Sheet_name_2')"
      ],
      "execution_count": null,
      "outputs": []
    }
  ]
}