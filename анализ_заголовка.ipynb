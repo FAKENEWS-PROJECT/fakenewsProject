{
  "nbformat": 4,
  "nbformat_minor": 0,
  "metadata": {
    "colab": {
      "name": "анализ_заголовка.ipynb",
      "provenance": [],
      "collapsed_sections": []
    },
    "kernelspec": {
      "name": "python3",
      "display_name": "Python 3"
    },
    "language_info": {
      "name": "python"
    }
  },
  "cells": [
    {
      "cell_type": "code",
      "metadata": {
        "id": "QjlabXYyHatO"
      },
      "source": [
        "import numpy as np\n",
        "import pandas as pd\n",
        "\n",
        "import tensorflow as tf\n",
        "from tensorflow import keras\n",
        "from keras import layers\n",
        "\n",
        "from keras.models import Sequential\n",
        "from keras.layers import Dense, LSTM, Dropout\n",
        "\n",
        "from sklearn.preprocessing import MinMaxScaler\n",
        "from sklearn.model_selection import train_test_split\n",
        "from sklearn.metrics import accuracy_score\n",
        "\n",
        "from keras.preprocessing.sequence import pad_sequences\n",
        "from keras.preprocessing.text import one_hot"
      ],
      "execution_count": 56,
      "outputs": []
    },
    {
      "cell_type": "code",
      "metadata": {
        "colab": {
          "resources": {
            "http://localhost:8080/nbextensions/google.colab/files.js": {
              "data": "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",
              "ok": true,
              "headers": [
                [
                  "content-type",
                  "application/javascript"
                ]
              ],
              "status": 200,
              "status_text": ""
            }
          },
          "base_uri": "https://localhost:8080/",
          "height": 74
        },
        "id": "5X7ipi2wHgEX",
        "outputId": "aa78138e-a43e-4b6b-e783-895447961327"
      },
      "source": [
        "from google.colab import files\n",
        "upload = files.upload()"
      ],
      "execution_count": 7,
      "outputs": [
        {
          "output_type": "display_data",
          "data": {
            "text/plain": [
              "<IPython.core.display.HTML object>"
            ],
            "text/html": [
              "\n",
              "     <input type=\"file\" id=\"files-b47c72c0-8053-4aea-827b-114a9ff08c78\" name=\"files[]\" multiple disabled\n",
              "        style=\"border:none\" />\n",
              "     <output id=\"result-b47c72c0-8053-4aea-827b-114a9ff08c78\">\n",
              "      Upload widget is only available when the cell has been executed in the\n",
              "      current browser session. Please rerun this cell to enable.\n",
              "      </output>\n",
              "      <script src=\"/nbextensions/google.colab/files.js\"></script> "
            ]
          },
          "metadata": {}
        },
        {
          "output_type": "stream",
          "name": "stdout",
          "text": [
            "Saving датасет с заголовками.csv to датасет с заголовками.csv\n"
          ]
        }
      ]
    },
    {
      "cell_type": "code",
      "metadata": {
        "colab": {
          "base_uri": "https://localhost:8080/",
          "height": 423
        },
        "id": "NqX7pDBCELI6",
        "outputId": "b4044725-a2c5-4d40-ab89-52c13037c989"
      },
      "source": [
        "df = pd.read_csv('датасет с заголовками.csv')\n",
        "df"
      ],
      "execution_count": 8,
      "outputs": [
        {
          "output_type": "execute_result",
          "data": {
            "text/plain": [
              "                                                   title  Label\n",
              "0       Donald Trump Sends Out Embarrassing New Year’...      0\n",
              "1       Drunk Bragging Trump Staffer Started Russian ...      0\n",
              "2       Sheriff David Clarke Becomes An Internet Joke...      0\n",
              "3       Trump Is So Obsessed He Even Has Obama’s Name...      0\n",
              "4       Pope Francis Just Called Out Donald Trump Dur...      0\n",
              "...                                                  ...    ...\n",
              "44893  'Fully committed' NATO backs new U.S. approach...      1\n",
              "44894  LexisNexis withdrew two products from Chinese ...      1\n",
              "44895  Minsk cultural hub becomes haven from authorities      1\n",
              "44896  Vatican upbeat on possibility of Pope Francis ...      1\n",
              "44897  Indonesia to buy $1.14 billion worth of Russia...      1\n",
              "\n",
              "[44898 rows x 2 columns]"
            ],
            "text/html": [
              "\n",
              "  <div id=\"df-eacae9fc-e2c8-47c3-b6bd-3dc93fd17a4d\">\n",
              "    <div class=\"colab-df-container\">\n",
              "      <div>\n",
              "<style scoped>\n",
              "    .dataframe tbody tr th:only-of-type {\n",
              "        vertical-align: middle;\n",
              "    }\n",
              "\n",
              "    .dataframe tbody tr th {\n",
              "        vertical-align: top;\n",
              "    }\n",
              "\n",
              "    .dataframe thead th {\n",
              "        text-align: right;\n",
              "    }\n",
              "</style>\n",
              "<table border=\"1\" class=\"dataframe\">\n",
              "  <thead>\n",
              "    <tr style=\"text-align: right;\">\n",
              "      <th></th>\n",
              "      <th>title</th>\n",
              "      <th>Label</th>\n",
              "    </tr>\n",
              "  </thead>\n",
              "  <tbody>\n",
              "    <tr>\n",
              "      <th>0</th>\n",
              "      <td>Donald Trump Sends Out Embarrassing New Year’...</td>\n",
              "      <td>0</td>\n",
              "    </tr>\n",
              "    <tr>\n",
              "      <th>1</th>\n",
              "      <td>Drunk Bragging Trump Staffer Started Russian ...</td>\n",
              "      <td>0</td>\n",
              "    </tr>\n",
              "    <tr>\n",
              "      <th>2</th>\n",
              "      <td>Sheriff David Clarke Becomes An Internet Joke...</td>\n",
              "      <td>0</td>\n",
              "    </tr>\n",
              "    <tr>\n",
              "      <th>3</th>\n",
              "      <td>Trump Is So Obsessed He Even Has Obama’s Name...</td>\n",
              "      <td>0</td>\n",
              "    </tr>\n",
              "    <tr>\n",
              "      <th>4</th>\n",
              "      <td>Pope Francis Just Called Out Donald Trump Dur...</td>\n",
              "      <td>0</td>\n",
              "    </tr>\n",
              "    <tr>\n",
              "      <th>...</th>\n",
              "      <td>...</td>\n",
              "      <td>...</td>\n",
              "    </tr>\n",
              "    <tr>\n",
              "      <th>44893</th>\n",
              "      <td>'Fully committed' NATO backs new U.S. approach...</td>\n",
              "      <td>1</td>\n",
              "    </tr>\n",
              "    <tr>\n",
              "      <th>44894</th>\n",
              "      <td>LexisNexis withdrew two products from Chinese ...</td>\n",
              "      <td>1</td>\n",
              "    </tr>\n",
              "    <tr>\n",
              "      <th>44895</th>\n",
              "      <td>Minsk cultural hub becomes haven from authorities</td>\n",
              "      <td>1</td>\n",
              "    </tr>\n",
              "    <tr>\n",
              "      <th>44896</th>\n",
              "      <td>Vatican upbeat on possibility of Pope Francis ...</td>\n",
              "      <td>1</td>\n",
              "    </tr>\n",
              "    <tr>\n",
              "      <th>44897</th>\n",
              "      <td>Indonesia to buy $1.14 billion worth of Russia...</td>\n",
              "      <td>1</td>\n",
              "    </tr>\n",
              "  </tbody>\n",
              "</table>\n",
              "<p>44898 rows × 2 columns</p>\n",
              "</div>\n",
              "      <button class=\"colab-df-convert\" onclick=\"convertToInteractive('df-eacae9fc-e2c8-47c3-b6bd-3dc93fd17a4d')\"\n",
              "              title=\"Convert this dataframe to an interactive table.\"\n",
              "              style=\"display:none;\">\n",
              "        \n",
              "  <svg xmlns=\"http://www.w3.org/2000/svg\" height=\"24px\"viewBox=\"0 0 24 24\"\n",
              "       width=\"24px\">\n",
              "    <path d=\"M0 0h24v24H0V0z\" fill=\"none\"/>\n",
              "    <path d=\"M18.56 5.44l.94 2.06.94-2.06 2.06-.94-2.06-.94-.94-2.06-.94 2.06-2.06.94zm-11 1L8.5 8.5l.94-2.06 2.06-.94-2.06-.94L8.5 2.5l-.94 2.06-2.06.94zm10 10l.94 2.06.94-2.06 2.06-.94-2.06-.94-.94-2.06-.94 2.06-2.06.94z\"/><path d=\"M17.41 7.96l-1.37-1.37c-.4-.4-.92-.59-1.43-.59-.52 0-1.04.2-1.43.59L10.3 9.45l-7.72 7.72c-.78.78-.78 2.05 0 2.83L4 21.41c.39.39.9.59 1.41.59.51 0 1.02-.2 1.41-.59l7.78-7.78 2.81-2.81c.8-.78.8-2.07 0-2.86zM5.41 20L4 18.59l7.72-7.72 1.47 1.35L5.41 20z\"/>\n",
              "  </svg>\n",
              "      </button>\n",
              "      \n",
              "  <style>\n",
              "    .colab-df-container {\n",
              "      display:flex;\n",
              "      flex-wrap:wrap;\n",
              "      gap: 12px;\n",
              "    }\n",
              "\n",
              "    .colab-df-convert {\n",
              "      background-color: #E8F0FE;\n",
              "      border: none;\n",
              "      border-radius: 50%;\n",
              "      cursor: pointer;\n",
              "      display: none;\n",
              "      fill: #1967D2;\n",
              "      height: 32px;\n",
              "      padding: 0 0 0 0;\n",
              "      width: 32px;\n",
              "    }\n",
              "\n",
              "    .colab-df-convert:hover {\n",
              "      background-color: #E2EBFA;\n",
              "      box-shadow: 0px 1px 2px rgba(60, 64, 67, 0.3), 0px 1px 3px 1px rgba(60, 64, 67, 0.15);\n",
              "      fill: #174EA6;\n",
              "    }\n",
              "\n",
              "    [theme=dark] .colab-df-convert {\n",
              "      background-color: #3B4455;\n",
              "      fill: #D2E3FC;\n",
              "    }\n",
              "\n",
              "    [theme=dark] .colab-df-convert:hover {\n",
              "      background-color: #434B5C;\n",
              "      box-shadow: 0px 1px 3px 1px rgba(0, 0, 0, 0.15);\n",
              "      filter: drop-shadow(0px 1px 2px rgba(0, 0, 0, 0.3));\n",
              "      fill: #FFFFFF;\n",
              "    }\n",
              "  </style>\n",
              "\n",
              "      <script>\n",
              "        const buttonEl =\n",
              "          document.querySelector('#df-eacae9fc-e2c8-47c3-b6bd-3dc93fd17a4d button.colab-df-convert');\n",
              "        buttonEl.style.display =\n",
              "          google.colab.kernel.accessAllowed ? 'block' : 'none';\n",
              "\n",
              "        async function convertToInteractive(key) {\n",
              "          const element = document.querySelector('#df-eacae9fc-e2c8-47c3-b6bd-3dc93fd17a4d');\n",
              "          const dataTable =\n",
              "            await google.colab.kernel.invokeFunction('convertToInteractive',\n",
              "                                                     [key], {});\n",
              "          if (!dataTable) return;\n",
              "\n",
              "          const docLinkHtml = 'Like what you see? Visit the ' +\n",
              "            '<a target=\"_blank\" href=https://colab.research.google.com/notebooks/data_table.ipynb>data table notebook</a>'\n",
              "            + ' to learn more about interactive tables.';\n",
              "          element.innerHTML = '';\n",
              "          dataTable['output_type'] = 'display_data';\n",
              "          await google.colab.output.renderOutput(dataTable, element);\n",
              "          const docLink = document.createElement('div');\n",
              "          docLink.innerHTML = docLinkHtml;\n",
              "          element.appendChild(docLink);\n",
              "        }\n",
              "      </script>\n",
              "    </div>\n",
              "  </div>\n",
              "  "
            ]
          },
          "metadata": {},
          "execution_count": 8
        }
      ]
    },
    {
      "cell_type": "code",
      "source": [
        "oh_repr = [one_hot(words, 5000) for words in df['title']]\n",
        "x = pad_sequences(oh_repr, padding='pre', maxlen=30)"
      ],
      "metadata": {
        "id": "r5eSAuwZSxtX"
      },
      "execution_count": 55,
      "outputs": []
    },
    {
      "cell_type": "code",
      "source": [
        "y = np.array(df.Label)\n",
        "\n",
        "X_train, X_test, y_train, y_test = train_test_split(x, y, test_size=1/3, random_state=42)"
      ],
      "metadata": {
        "id": "7UsupKDncm24"
      },
      "execution_count": null,
      "outputs": []
    },
    {
      "cell_type": "code",
      "source": [
        "# len_list = []\n",
        "# for w in df.title:\n",
        "#     w = w.split()\n",
        "#     len_list.append(len(w))\n",
        "\n",
        "# print('Summary of word length :')\n",
        "# pd.Series(len_list).describe()"
      ],
      "metadata": {
        "colab": {
          "base_uri": "https://localhost:8080/"
        },
        "id": "d48zHiCiVnlM",
        "outputId": "0358f4f3-0b96-4bda-acd1-d48e893f24b5"
      },
      "execution_count": 44,
      "outputs": [
        {
          "output_type": "stream",
          "name": "stdout",
          "text": [
            "Summary of word length :\n"
          ]
        },
        {
          "output_type": "execute_result",
          "data": {
            "text/plain": [
              "count    44898.000000\n",
              "mean        12.453472\n",
              "std          4.111476\n",
              "min          1.000000\n",
              "25%         10.000000\n",
              "50%         11.000000\n",
              "75%         14.000000\n",
              "max         42.000000\n",
              "dtype: float64"
            ]
          },
          "metadata": {},
          "execution_count": 44
        }
      ]
    },
    {
      "cell_type": "code",
      "metadata": {
        "id": "L3Ed5c67RlUH"
      },
      "source": [
        "# def create_num(x):\n",
        "#     text = []\n",
        "\n",
        "#     for i in range(len(x)):\n",
        "#         text.append(x[i].split())\n",
        "\n",
        "#     text = pd.DataFrame(text)\n",
        "\n",
        "#     text = text.stack().rank().unstack()\n",
        "#     text = text.fillna(-1)\n",
        "    \n",
        "#     text = scaler.fit_transform(text)\n",
        "    \n",
        "#     return text"
      ],
      "execution_count": 8,
      "outputs": []
    },
    {
      "cell_type": "code",
      "metadata": {
        "id": "Z7RNtfLcrrN1"
      },
      "source": [
        "# x = pd.DataFrame(create_num(df['title'].values))\n",
        "# y = np.array(df.Label)\n",
        "\n",
        "# X_train, X_test, y_train, y_test = train_test_split(x, y, test_size=1/3, random_state=42)"
      ],
      "execution_count": 46,
      "outputs": []
    },
    {
      "cell_type": "code",
      "metadata": {
        "id": "1L8xvUf6KAtT"
      },
      "source": [
        "model = Sequential()\n",
        "scaler = MinMaxScaler(feature_range = (0,1))"
      ],
      "execution_count": 47,
      "outputs": []
    },
    {
      "cell_type": "code",
      "metadata": {
        "colab": {
          "base_uri": "https://localhost:8080/"
        },
        "id": "lcwg_lhTZWd2",
        "outputId": "333e2a41-870c-4119-aa0d-27033e801ed9"
      },
      "source": [
        "model.add(Dense(500))\n",
        "model.add(Dropout(0.275))\n",
        "model.add(Dense(250, activation = 'relu'))\n",
        "model.add(Dropout(0.275))\n",
        "model.add(Dense(125, activation = 'relu'))\n",
        "model.add(Dropout(0.275))\n",
        "model.add(Dense(1, activation = 'sigmoid'))\n",
        "\n",
        "\n",
        "model.compile(loss = 'huber_loss',\n",
        "             optimizer = 'adam',\n",
        "             metrics = 'accuracy')\n",
        "\n",
        "model.fit(\n",
        "    X_train,\n",
        "    y_train,\n",
        "    batch_size=1024,\n",
        "    epochs=100,\n",
        "    validation_split=0.2,\n",
        "    shuffle= True)"
      ],
      "execution_count": 48,
      "outputs": [
        {
          "output_type": "stream",
          "name": "stdout",
          "text": [
            "Epoch 1/100\n",
            "24/24 [==============================] - 2s 41ms/step - loss: 0.1899 - accuracy: 0.6198 - val_loss: 0.1211 - val_accuracy: 0.7573\n",
            "Epoch 2/100\n",
            "24/24 [==============================] - 1s 35ms/step - loss: 0.1483 - accuracy: 0.7032 - val_loss: 0.1463 - val_accuracy: 0.7074\n",
            "Epoch 3/100\n",
            "24/24 [==============================] - 1s 35ms/step - loss: 0.1293 - accuracy: 0.7414 - val_loss: 0.1367 - val_accuracy: 0.7264\n",
            "Epoch 4/100\n",
            "24/24 [==============================] - 1s 35ms/step - loss: 0.1260 - accuracy: 0.7479 - val_loss: 0.1211 - val_accuracy: 0.7578\n",
            "Epoch 5/100\n",
            "24/24 [==============================] - 1s 36ms/step - loss: 0.1236 - accuracy: 0.7528 - val_loss: 0.1096 - val_accuracy: 0.7809\n",
            "Epoch 6/100\n",
            "24/24 [==============================] - 1s 35ms/step - loss: 0.1212 - accuracy: 0.7574 - val_loss: 0.1374 - val_accuracy: 0.7252\n",
            "Epoch 7/100\n",
            "24/24 [==============================] - 1s 35ms/step - loss: 0.1220 - accuracy: 0.7560 - val_loss: 0.1132 - val_accuracy: 0.7735\n",
            "Epoch 8/100\n",
            "24/24 [==============================] - 1s 35ms/step - loss: 0.1187 - accuracy: 0.7626 - val_loss: 0.1194 - val_accuracy: 0.7611\n",
            "Epoch 9/100\n",
            "24/24 [==============================] - 1s 35ms/step - loss: 0.1221 - accuracy: 0.7559 - val_loss: 0.1291 - val_accuracy: 0.7418\n",
            "Epoch 10/100\n",
            "24/24 [==============================] - 1s 34ms/step - loss: 0.1178 - accuracy: 0.7643 - val_loss: 0.1112 - val_accuracy: 0.7777\n",
            "Epoch 11/100\n",
            "24/24 [==============================] - 1s 35ms/step - loss: 0.1246 - accuracy: 0.7508 - val_loss: 0.1850 - val_accuracy: 0.6300\n",
            "Epoch 12/100\n",
            "24/24 [==============================] - 1s 35ms/step - loss: 0.1407 - accuracy: 0.7186 - val_loss: 0.1203 - val_accuracy: 0.7593\n",
            "Epoch 13/100\n",
            "24/24 [==============================] - 1s 35ms/step - loss: 0.1158 - accuracy: 0.7683 - val_loss: 0.1134 - val_accuracy: 0.7732\n",
            "Epoch 14/100\n",
            "24/24 [==============================] - 1s 35ms/step - loss: 0.1181 - accuracy: 0.7637 - val_loss: 0.1210 - val_accuracy: 0.7580\n",
            "Epoch 15/100\n",
            "24/24 [==============================] - 1s 34ms/step - loss: 0.1229 - accuracy: 0.7541 - val_loss: 0.1188 - val_accuracy: 0.7625\n",
            "Epoch 16/100\n",
            "24/24 [==============================] - 1s 36ms/step - loss: 0.1377 - accuracy: 0.7245 - val_loss: 0.1407 - val_accuracy: 0.7186\n",
            "Epoch 17/100\n",
            "24/24 [==============================] - 1s 35ms/step - loss: 0.1327 - accuracy: 0.7346 - val_loss: 0.1271 - val_accuracy: 0.7456\n",
            "Epoch 18/100\n",
            "24/24 [==============================] - 1s 35ms/step - loss: 0.1142 - accuracy: 0.7716 - val_loss: 0.1153 - val_accuracy: 0.7693\n",
            "Epoch 19/100\n",
            "24/24 [==============================] - 1s 35ms/step - loss: 0.1164 - accuracy: 0.7671 - val_loss: 0.1226 - val_accuracy: 0.7548\n",
            "Epoch 20/100\n",
            "24/24 [==============================] - 1s 35ms/step - loss: 0.1172 - accuracy: 0.7656 - val_loss: 0.1180 - val_accuracy: 0.7640\n",
            "Epoch 21/100\n",
            "24/24 [==============================] - 1s 34ms/step - loss: 0.1137 - accuracy: 0.7726 - val_loss: 0.1135 - val_accuracy: 0.7730\n",
            "Epoch 22/100\n",
            "24/24 [==============================] - 1s 35ms/step - loss: 0.1103 - accuracy: 0.7795 - val_loss: 0.1139 - val_accuracy: 0.7720\n",
            "Epoch 23/100\n",
            "24/24 [==============================] - 1s 35ms/step - loss: 0.1111 - accuracy: 0.7777 - val_loss: 0.1142 - val_accuracy: 0.7715\n",
            "Epoch 24/100\n",
            "24/24 [==============================] - 1s 35ms/step - loss: 0.1123 - accuracy: 0.7753 - val_loss: 0.1089 - val_accuracy: 0.7822\n",
            "Epoch 25/100\n",
            "24/24 [==============================] - 2s 64ms/step - loss: 0.1083 - accuracy: 0.7834 - val_loss: 0.1100 - val_accuracy: 0.7800\n",
            "Epoch 26/100\n",
            "24/24 [==============================] - 1s 35ms/step - loss: 0.1126 - accuracy: 0.7748 - val_loss: 0.1214 - val_accuracy: 0.7571\n",
            "Epoch 27/100\n",
            "24/24 [==============================] - 1s 36ms/step - loss: 0.1140 - accuracy: 0.7720 - val_loss: 0.1111 - val_accuracy: 0.7779\n",
            "Epoch 28/100\n",
            "24/24 [==============================] - 1s 35ms/step - loss: 0.1136 - accuracy: 0.7728 - val_loss: 0.1212 - val_accuracy: 0.7576\n",
            "Epoch 29/100\n",
            "24/24 [==============================] - 1s 35ms/step - loss: 0.1171 - accuracy: 0.7658 - val_loss: 0.1190 - val_accuracy: 0.7620\n",
            "Epoch 30/100\n",
            "24/24 [==============================] - 1s 35ms/step - loss: 0.1147 - accuracy: 0.7705 - val_loss: 0.1167 - val_accuracy: 0.7667\n",
            "Epoch 31/100\n",
            "24/24 [==============================] - 1s 36ms/step - loss: 0.1138 - accuracy: 0.7725 - val_loss: 0.1167 - val_accuracy: 0.7667\n",
            "Epoch 32/100\n",
            "24/24 [==============================] - 1s 35ms/step - loss: 0.1192 - accuracy: 0.7617 - val_loss: 0.1299 - val_accuracy: 0.7403\n",
            "Epoch 33/100\n",
            "24/24 [==============================] - 1s 35ms/step - loss: 0.1424 - accuracy: 0.7151 - val_loss: 0.1616 - val_accuracy: 0.6768\n",
            "Epoch 34/100\n",
            "24/24 [==============================] - 1s 35ms/step - loss: 0.1564 - accuracy: 0.6871 - val_loss: 0.1474 - val_accuracy: 0.7052\n",
            "Epoch 35/100\n",
            "24/24 [==============================] - 1s 35ms/step - loss: 0.1394 - accuracy: 0.7212 - val_loss: 0.1402 - val_accuracy: 0.7196\n",
            "Epoch 36/100\n",
            "24/24 [==============================] - 1s 35ms/step - loss: 0.1242 - accuracy: 0.7516 - val_loss: 0.1215 - val_accuracy: 0.7570\n",
            "Epoch 37/100\n",
            "24/24 [==============================] - 1s 36ms/step - loss: 0.1174 - accuracy: 0.7651 - val_loss: 0.1206 - val_accuracy: 0.7588\n",
            "Epoch 38/100\n",
            "24/24 [==============================] - 1s 35ms/step - loss: 0.1192 - accuracy: 0.7616 - val_loss: 0.1302 - val_accuracy: 0.7396\n",
            "Epoch 39/100\n",
            "24/24 [==============================] - 1s 35ms/step - loss: 0.1270 - accuracy: 0.7459 - val_loss: 0.1322 - val_accuracy: 0.7356\n",
            "Epoch 40/100\n",
            "24/24 [==============================] - 1s 36ms/step - loss: 0.1248 - accuracy: 0.7503 - val_loss: 0.1244 - val_accuracy: 0.7513\n",
            "Epoch 41/100\n",
            "24/24 [==============================] - 1s 35ms/step - loss: 0.1200 - accuracy: 0.7601 - val_loss: 0.1235 - val_accuracy: 0.7530\n",
            "Epoch 42/100\n",
            "24/24 [==============================] - 1s 35ms/step - loss: 0.1140 - accuracy: 0.7719 - val_loss: 0.1117 - val_accuracy: 0.7765\n",
            "Epoch 43/100\n",
            "24/24 [==============================] - 1s 35ms/step - loss: 0.1306 - accuracy: 0.7387 - val_loss: 0.1225 - val_accuracy: 0.7550\n",
            "Epoch 44/100\n",
            "24/24 [==============================] - 1s 35ms/step - loss: 0.1144 - accuracy: 0.7712 - val_loss: 0.1130 - val_accuracy: 0.7740\n",
            "Epoch 45/100\n",
            "24/24 [==============================] - 1s 36ms/step - loss: 0.1146 - accuracy: 0.7708 - val_loss: 0.1202 - val_accuracy: 0.7596\n",
            "Epoch 46/100\n",
            "24/24 [==============================] - 1s 36ms/step - loss: 0.1143 - accuracy: 0.7714 - val_loss: 0.1092 - val_accuracy: 0.7815\n",
            "Epoch 47/100\n",
            "24/24 [==============================] - 1s 35ms/step - loss: 0.1103 - accuracy: 0.7793 - val_loss: 0.1173 - val_accuracy: 0.7655\n",
            "Epoch 48/100\n",
            "24/24 [==============================] - 1s 35ms/step - loss: 0.1121 - accuracy: 0.7758 - val_loss: 0.1085 - val_accuracy: 0.7830\n",
            "Epoch 49/100\n",
            "24/24 [==============================] - 1s 35ms/step - loss: 0.1116 - accuracy: 0.7768 - val_loss: 0.1145 - val_accuracy: 0.7710\n",
            "Epoch 50/100\n",
            "24/24 [==============================] - 1s 35ms/step - loss: 0.1130 - accuracy: 0.7740 - val_loss: 0.1146 - val_accuracy: 0.7708\n",
            "Epoch 51/100\n",
            "24/24 [==============================] - 1s 36ms/step - loss: 0.1131 - accuracy: 0.7738 - val_loss: 0.1146 - val_accuracy: 0.7708\n",
            "Epoch 52/100\n",
            "24/24 [==============================] - 1s 36ms/step - loss: 0.1099 - accuracy: 0.7801 - val_loss: 0.1062 - val_accuracy: 0.7875\n",
            "Epoch 53/100\n",
            "24/24 [==============================] - 1s 35ms/step - loss: 0.1075 - accuracy: 0.7850 - val_loss: 0.1041 - val_accuracy: 0.7917\n",
            "Epoch 54/100\n",
            "24/24 [==============================] - 1s 35ms/step - loss: 0.1060 - accuracy: 0.7879 - val_loss: 0.1041 - val_accuracy: 0.7917\n",
            "Epoch 55/100\n",
            "24/24 [==============================] - 1s 35ms/step - loss: 0.1093 - accuracy: 0.7814 - val_loss: 0.1119 - val_accuracy: 0.7760\n",
            "Epoch 56/100\n",
            "24/24 [==============================] - 1s 36ms/step - loss: 0.1139 - accuracy: 0.7721 - val_loss: 0.1117 - val_accuracy: 0.7765\n",
            "Epoch 57/100\n",
            "24/24 [==============================] - 1s 35ms/step - loss: 0.1151 - accuracy: 0.7697 - val_loss: 0.1136 - val_accuracy: 0.7728\n",
            "Epoch 58/100\n",
            "24/24 [==============================] - 1s 36ms/step - loss: 0.1109 - accuracy: 0.7781 - val_loss: 0.1049 - val_accuracy: 0.7902\n",
            "Epoch 59/100\n",
            "24/24 [==============================] - 1s 35ms/step - loss: 0.1077 - accuracy: 0.7845 - val_loss: 0.1049 - val_accuracy: 0.7902\n",
            "Epoch 60/100\n",
            "24/24 [==============================] - 1s 36ms/step - loss: 0.1074 - accuracy: 0.7853 - val_loss: 0.1048 - val_accuracy: 0.7904\n",
            "Epoch 61/100\n",
            "24/24 [==============================] - 1s 36ms/step - loss: 0.1067 - accuracy: 0.7866 - val_loss: 0.1049 - val_accuracy: 0.7902\n",
            "Epoch 62/100\n",
            "24/24 [==============================] - 1s 36ms/step - loss: 0.1189 - accuracy: 0.7622 - val_loss: 0.1314 - val_accuracy: 0.7373\n",
            "Epoch 63/100\n",
            "24/24 [==============================] - 1s 35ms/step - loss: 0.1235 - accuracy: 0.7530 - val_loss: 0.1126 - val_accuracy: 0.7748\n",
            "Epoch 64/100\n",
            "24/24 [==============================] - 1s 36ms/step - loss: 0.1083 - accuracy: 0.7833 - val_loss: 0.1081 - val_accuracy: 0.7839\n",
            "Epoch 65/100\n",
            "24/24 [==============================] - 1s 35ms/step - loss: 0.1071 - accuracy: 0.7859 - val_loss: 0.1073 - val_accuracy: 0.7854\n",
            "Epoch 66/100\n",
            "24/24 [==============================] - 1s 35ms/step - loss: 0.1140 - accuracy: 0.7719 - val_loss: 0.1194 - val_accuracy: 0.7611\n",
            "Epoch 67/100\n",
            "24/24 [==============================] - 1s 35ms/step - loss: 0.1175 - accuracy: 0.7651 - val_loss: 0.1212 - val_accuracy: 0.7576\n",
            "Epoch 68/100\n",
            "24/24 [==============================] - 1s 35ms/step - loss: 0.1185 - accuracy: 0.7630 - val_loss: 0.1199 - val_accuracy: 0.7601\n",
            "Epoch 69/100\n",
            "24/24 [==============================] - 1s 36ms/step - loss: 0.1177 - accuracy: 0.7645 - val_loss: 0.1195 - val_accuracy: 0.7610\n",
            "Epoch 70/100\n",
            "24/24 [==============================] - 1s 35ms/step - loss: 0.1173 - accuracy: 0.7654 - val_loss: 0.1195 - val_accuracy: 0.7610\n",
            "Epoch 71/100\n",
            "24/24 [==============================] - 1s 35ms/step - loss: 0.1176 - accuracy: 0.7648 - val_loss: 0.1195 - val_accuracy: 0.7610\n",
            "Epoch 72/100\n",
            "24/24 [==============================] - 1s 35ms/step - loss: 0.1197 - accuracy: 0.7605 - val_loss: 0.1272 - val_accuracy: 0.7456\n",
            "Epoch 73/100\n",
            "24/24 [==============================] - 1s 35ms/step - loss: 0.1236 - accuracy: 0.7528 - val_loss: 0.1220 - val_accuracy: 0.7560\n",
            "Epoch 74/100\n",
            "24/24 [==============================] - 1s 35ms/step - loss: 0.1157 - accuracy: 0.7686 - val_loss: 0.1182 - val_accuracy: 0.7637\n",
            "Epoch 75/100\n",
            "24/24 [==============================] - 1s 36ms/step - loss: 0.1140 - accuracy: 0.7721 - val_loss: 0.1177 - val_accuracy: 0.7647\n",
            "Epoch 76/100\n",
            "24/24 [==============================] - 1s 36ms/step - loss: 0.1136 - accuracy: 0.7728 - val_loss: 0.1173 - val_accuracy: 0.7653\n",
            "Epoch 77/100\n",
            "24/24 [==============================] - 1s 35ms/step - loss: 0.1139 - accuracy: 0.7723 - val_loss: 0.1172 - val_accuracy: 0.7657\n",
            "Epoch 78/100\n",
            "24/24 [==============================] - 1s 36ms/step - loss: 0.1145 - accuracy: 0.7709 - val_loss: 0.1208 - val_accuracy: 0.7585\n",
            "Epoch 79/100\n",
            "24/24 [==============================] - 1s 35ms/step - loss: 0.1193 - accuracy: 0.7613 - val_loss: 0.1241 - val_accuracy: 0.7518\n",
            "Epoch 80/100\n",
            "24/24 [==============================] - 1s 35ms/step - loss: 0.1240 - accuracy: 0.7521 - val_loss: 0.1488 - val_accuracy: 0.7024\n",
            "Epoch 81/100\n",
            "24/24 [==============================] - 1s 36ms/step - loss: 0.1505 - accuracy: 0.6991 - val_loss: 0.1334 - val_accuracy: 0.7333\n",
            "Epoch 82/100\n",
            "24/24 [==============================] - 1s 35ms/step - loss: 0.1234 - accuracy: 0.7532 - val_loss: 0.1225 - val_accuracy: 0.7550\n",
            "Epoch 83/100\n",
            "24/24 [==============================] - 1s 35ms/step - loss: 0.1202 - accuracy: 0.7595 - val_loss: 0.1218 - val_accuracy: 0.7563\n",
            "Epoch 84/100\n",
            "24/24 [==============================] - 1s 35ms/step - loss: 0.1200 - accuracy: 0.7599 - val_loss: 0.1218 - val_accuracy: 0.7563\n",
            "Epoch 85/100\n",
            "24/24 [==============================] - 1s 35ms/step - loss: 0.1204 - accuracy: 0.7591 - val_loss: 0.1218 - val_accuracy: 0.7563\n",
            "Epoch 86/100\n",
            "24/24 [==============================] - 1s 36ms/step - loss: 0.1199 - accuracy: 0.7603 - val_loss: 0.1218 - val_accuracy: 0.7563\n",
            "Epoch 87/100\n",
            "24/24 [==============================] - 1s 36ms/step - loss: 0.1130 - accuracy: 0.7739 - val_loss: 0.1066 - val_accuracy: 0.7867\n",
            "Epoch 88/100\n",
            "24/24 [==============================] - 1s 37ms/step - loss: 0.1139 - accuracy: 0.7722 - val_loss: 0.1725 - val_accuracy: 0.6549\n",
            "Epoch 89/100\n",
            "24/24 [==============================] - 1s 35ms/step - loss: 0.2138 - accuracy: 0.5724 - val_loss: 0.2245 - val_accuracy: 0.5510\n",
            "Epoch 90/100\n",
            "24/24 [==============================] - 1s 35ms/step - loss: 0.2277 - accuracy: 0.5445 - val_loss: 0.2225 - val_accuracy: 0.5550\n",
            "Epoch 91/100\n",
            "24/24 [==============================] - 1s 35ms/step - loss: 0.2232 - accuracy: 0.5536 - val_loss: 0.2181 - val_accuracy: 0.5637\n",
            "Epoch 92/100\n",
            "24/24 [==============================] - 1s 35ms/step - loss: 0.2148 - accuracy: 0.5703 - val_loss: 0.1571 - val_accuracy: 0.6858\n",
            "Epoch 93/100\n",
            "24/24 [==============================] - 1s 36ms/step - loss: 0.1319 - accuracy: 0.7362 - val_loss: 0.1197 - val_accuracy: 0.7606\n",
            "Epoch 94/100\n",
            "24/24 [==============================] - 1s 36ms/step - loss: 0.1206 - accuracy: 0.7588 - val_loss: 0.1198 - val_accuracy: 0.7603\n",
            "Epoch 95/100\n",
            "24/24 [==============================] - 1s 36ms/step - loss: 0.1189 - accuracy: 0.7622 - val_loss: 0.1194 - val_accuracy: 0.7611\n",
            "Epoch 96/100\n",
            "24/24 [==============================] - 1s 35ms/step - loss: 0.1202 - accuracy: 0.7597 - val_loss: 0.1193 - val_accuracy: 0.7613\n",
            "Epoch 97/100\n",
            "24/24 [==============================] - 1s 35ms/step - loss: 0.1208 - accuracy: 0.7584 - val_loss: 0.1244 - val_accuracy: 0.7511\n",
            "Epoch 98/100\n",
            "24/24 [==============================] - 1s 36ms/step - loss: 0.1219 - accuracy: 0.7561 - val_loss: 0.1248 - val_accuracy: 0.7505\n",
            "Epoch 99/100\n",
            "24/24 [==============================] - 1s 35ms/step - loss: 0.1213 - accuracy: 0.7575 - val_loss: 0.1238 - val_accuracy: 0.7525\n",
            "Epoch 100/100\n",
            "24/24 [==============================] - 1s 36ms/step - loss: 0.1215 - accuracy: 0.7571 - val_loss: 0.1238 - val_accuracy: 0.7525\n"
          ]
        },
        {
          "output_type": "execute_result",
          "data": {
            "text/plain": [
              "<keras.callbacks.History at 0x7f9a0d9fcdd0>"
            ]
          },
          "metadata": {},
          "execution_count": 48
        }
      ]
    },
    {
      "cell_type": "code",
      "metadata": {
        "id": "TO6sStOWZ_kQ"
      },
      "source": [
        "prediction = model.predict(X_test)\n",
        "prediction1 = np.around(prediction,2)\n",
        "# for i in prediction1:\n",
        "#     print(i)"
      ],
      "execution_count": 49,
      "outputs": []
    },
    {
      "cell_type": "code",
      "metadata": {
        "colab": {
          "base_uri": "https://localhost:8080/"
        },
        "id": "-sWaDbTow5gh",
        "outputId": "09b7aad7-40e9-4b88-e281-2bf3488bdd99"
      },
      "source": [
        "accuracy_score(y_test, np.around(prediction))"
      ],
      "execution_count": 50,
      "outputs": [
        {
          "output_type": "execute_result",
          "data": {
            "text/plain": [
              "0.7524388614192169"
            ]
          },
          "metadata": {},
          "execution_count": 50
        }
      ]
    },
    {
      "cell_type": "code",
      "source": [
        "model.save('модель_для_анализа_заголовка.h5')"
      ],
      "metadata": {
        "id": "G4XndhDnmlZf"
      },
      "execution_count": 51,
      "outputs": []
    },
    {
      "cell_type": "code",
      "source": [
        "files.download(\"модель_для_анализа_заголовка.h5\")"
      ],
      "metadata": {
        "colab": {
          "base_uri": "https://localhost:8080/",
          "height": 17
        },
        "id": "RGP8od23qslj",
        "outputId": "440ff867-3243-4878-9bfe-2afd81f8ec36"
      },
      "execution_count": 52,
      "outputs": [
        {
          "output_type": "display_data",
          "data": {
            "text/plain": [
              "<IPython.core.display.Javascript object>"
            ],
            "application/javascript": [
              "\n",
              "    async function download(id, filename, size) {\n",
              "      if (!google.colab.kernel.accessAllowed) {\n",
              "        return;\n",
              "      }\n",
              "      const div = document.createElement('div');\n",
              "      const label = document.createElement('label');\n",
              "      label.textContent = `Downloading \"${filename}\": `;\n",
              "      div.appendChild(label);\n",
              "      const progress = document.createElement('progress');\n",
              "      progress.max = size;\n",
              "      div.appendChild(progress);\n",
              "      document.body.appendChild(div);\n",
              "\n",
              "      const buffers = [];\n",
              "      let downloaded = 0;\n",
              "\n",
              "      const channel = await google.colab.kernel.comms.open(id);\n",
              "      // Send a message to notify the kernel that we're ready.\n",
              "      channel.send({})\n",
              "\n",
              "      for await (const message of channel.messages) {\n",
              "        // Send a message to notify the kernel that we're ready.\n",
              "        channel.send({})\n",
              "        if (message.buffers) {\n",
              "          for (const buffer of message.buffers) {\n",
              "            buffers.push(buffer);\n",
              "            downloaded += buffer.byteLength;\n",
              "            progress.value = downloaded;\n",
              "          }\n",
              "        }\n",
              "      }\n",
              "      const blob = new Blob(buffers, {type: 'application/binary'});\n",
              "      const a = document.createElement('a');\n",
              "      a.href = window.URL.createObjectURL(blob);\n",
              "      a.download = filename;\n",
              "      div.appendChild(a);\n",
              "      a.click();\n",
              "      div.remove();\n",
              "    }\n",
              "  "
            ]
          },
          "metadata": {}
        },
        {
          "output_type": "display_data",
          "data": {
            "text/plain": [
              "<IPython.core.display.Javascript object>"
            ],
            "application/javascript": [
              "download(\"download_a48e3093-4a4a-4716-a179-fa41967aabae\", \"\\u043c\\u043e\\u0434\\u0435\\u043b\\u044c_\\u0434\\u043b\\u044f_\\u0430\\u043d\\u0430\\u043b\\u0438\\u0437\\u0430_\\u0437\\u0430\\u0433\\u043e\\u043b\\u043e\\u0432\\u043a\\u0430.h5\", 2112632)"
            ]
          },
          "metadata": {}
        }
      ]
    },
    {
      "cell_type": "code",
      "source": [
        "new_model = keras.models.load_model('my_model.h5')"
      ],
      "metadata": {
        "id": "wXEoBtFKq7Qe"
      },
      "execution_count": null,
      "outputs": []
    }
  ]
}